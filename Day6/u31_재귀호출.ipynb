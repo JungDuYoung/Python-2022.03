{
  "nbformat": 4,
  "nbformat_minor": 0,
  "metadata": {
    "colab": {
      "name": "u31_재귀호출.ipynb",
      "provenance": []
    },
    "kernelspec": {
      "name": "python3",
      "display_name": "Python 3"
    },
    "language_info": {
      "name": "python"
    }
  },
  "cells": [
    {
      "cell_type": "markdown",
      "source": [
        "# Unit 31. 재귀호출(Recursive call)"
      ],
      "metadata": {
        "id": "IVxQ0d-sddx-"
      }
    },
    {
      "cell_type": "markdown",
      "source": [
        "- factorial\n",
        "<pre>\n",
        "n * (n-1)!     n > 0,\n",
        "0              n = 0\n",
        "</pre>"
      ],
      "metadata": {
        "id": "w6YX-H53eY8k"
      }
    },
    {
      "cell_type": "code",
      "execution_count": 3,
      "metadata": {
        "id": "Y0B_MAecdVzT"
      },
      "outputs": [],
      "source": [
        "def fact(n):\n",
        "    if n == 0:\n",
        "        return 1\n",
        "    return n * fact(n-1)"
      ]
    },
    {
      "cell_type": "code",
      "source": [
        "fact(3)"
      ],
      "metadata": {
        "colab": {
          "base_uri": "https://localhost:8080/"
        },
        "id": "FcM4fcHfeIc2",
        "outputId": "ed3ec934-e052-4bdc-9c2a-0b4e55e6b4e0"
      },
      "execution_count": 4,
      "outputs": [
        {
          "output_type": "execute_result",
          "data": {
            "text/plain": [
              "6"
            ]
          },
          "metadata": {},
          "execution_count": 4
        }
      ]
    },
    {
      "cell_type": "code",
      "source": [
        "fact(5)"
      ],
      "metadata": {
        "colab": {
          "base_uri": "https://localhost:8080/"
        },
        "id": "rtYLadBpeW1t",
        "outputId": "d1dc98a5-2e4f-4185-e8b7-3e382bb70b33"
      },
      "execution_count": 5,
      "outputs": [
        {
          "output_type": "execute_result",
          "data": {
            "text/plain": [
              "120"
            ]
          },
          "metadata": {},
          "execution_count": 5
        }
      ]
    },
    {
      "cell_type": "markdown",
      "source": [
        "- fibonacci 수열\n",
        "<pre>\n",
        "fibo(n) = fibo(n-1) + fibo(n-2),      n >= 2\n",
        "fibo(1), fibo(0) = 1                  n = 0, 1"
      ],
      "metadata": {
        "id": "5cIOTbmaepv5"
      }
    },
    {
      "cell_type": "code",
      "source": [
        "def fibo(n):\n",
        "    if n == 1 or n ==0:\n",
        "        return 1\n",
        "    return fibo(n-1) + fibo(n-2)"
      ],
      "metadata": {
        "id": "89y9gRZyeYSp"
      },
      "execution_count": 6,
      "outputs": []
    },
    {
      "cell_type": "code",
      "source": [
        "for i in range(11):\n",
        "    print(f'{i:2d}: {fibo(i)}')"
      ],
      "metadata": {
        "colab": {
          "base_uri": "https://localhost:8080/"
        },
        "id": "w_L5S5tjfWJd",
        "outputId": "0aaa9608-4976-466b-c591-5925c80162a4"
      },
      "execution_count": 7,
      "outputs": [
        {
          "output_type": "stream",
          "name": "stdout",
          "text": [
            " 0: 1\n",
            " 1: 1\n",
            " 2: 2\n",
            " 3: 3\n",
            " 4: 5\n",
            " 5: 8\n",
            " 6: 13\n",
            " 7: 21\n",
            " 8: 34\n",
            " 9: 55\n",
            "10: 89\n"
          ]
        }
      ]
    },
    {
      "cell_type": "code",
      "source": [
        ""
      ],
      "metadata": {
        "id": "-6LuoLQSfopg"
      },
      "execution_count": null,
      "outputs": []
    }
  ]
}