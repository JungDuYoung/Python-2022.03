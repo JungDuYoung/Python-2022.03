{
  "nbformat": 4,
  "nbformat_minor": 0,
  "metadata": {
    "colab": {
      "name": "u27_파일.ipynb",
      "provenance": []
    },
    "kernelspec": {
      "name": "python3",
      "display_name": "Python 3"
    },
    "language_info": {
      "name": "python"
    }
  },
  "cells": [
    {
      "cell_type": "markdown",
      "source": [
        "# Unit 27. 파일(File)"
      ],
      "metadata": {
        "id": "uH66b8VQO3UQ"
      }
    },
    {
      "cell_type": "markdown",
      "source": [
        "### 27.1 파일 읽기/쓰기(read/write)"
      ],
      "metadata": {
        "id": "se9e9PJwO9g0"
      }
    },
    {
      "cell_type": "markdown",
      "source": [
        "- 파일에 문자열 쓰기"
      ],
      "metadata": {
        "id": "5T8PLCDBPtS0"
      }
    },
    {
      "cell_type": "code",
      "execution_count": 9,
      "metadata": {
        "id": "SEHBj0NWOzfI"
      },
      "outputs": [],
      "source": [
        "file = open('hello.txt', 'w')   # hello.txt 파일을 쓰기모드(w)로 open\n",
        "file.write('Hello, world!\\n')\n",
        "file.write('안녕하세요?')\n",
        "file.close()"
      ]
    },
    {
      "cell_type": "code",
      "source": [
        "!cat hello.txt"
      ],
      "metadata": {
        "colab": {
          "base_uri": "https://localhost:8080/"
        },
        "id": "0lZs8XNURNfo",
        "outputId": "441e3add-a4f3-44b7-9352-278b6ac31ef0"
      },
      "execution_count": 10,
      "outputs": [
        {
          "output_type": "stream",
          "name": "stdout",
          "text": [
            "Hello, world!\n",
            "안녕하세요?"
          ]
        }
      ]
    },
    {
      "cell_type": "markdown",
      "source": [
        "- 파일로부터 텍스트 읽기"
      ],
      "metadata": {
        "id": "PUZFikvXTu8M"
      }
    },
    {
      "cell_type": "code",
      "source": [
        "file = open('hello.txt', 'r')   # hello.txt 파일을 읽기모드(w)로 open\n",
        "text = file.read()              # 크기 정보를 안주면 처음부터 끝까지 읽음\n",
        "print(text)\n",
        "file.close()"
      ],
      "metadata": {
        "colab": {
          "base_uri": "https://localhost:8080/"
        },
        "id": "WdcN33gpSmlC",
        "outputId": "e62be726-c1ef-4657-dea2-d61388f38871"
      },
      "execution_count": 11,
      "outputs": [
        {
          "output_type": "stream",
          "name": "stdout",
          "text": [
            "Hello, world!\n",
            "안녕하세요?\n"
          ]
        }
      ]
    },
    {
      "cell_type": "code",
      "source": [
        "file = open('hello.txt')   # 모든 정보의 default 값은 'r'(read)\n",
        "text = file.read(15)       # 15글자 읽음, \\n 도 한글자\n",
        "print(text)\n",
        "file.close()"
      ],
      "metadata": {
        "colab": {
          "base_uri": "https://localhost:8080/"
        },
        "id": "4lHxllFYUYav",
        "outputId": "07a43bb8-9e0d-4195-f2ff-8317b5cdb1e7"
      },
      "execution_count": 12,
      "outputs": [
        {
          "output_type": "stream",
          "name": "stdout",
          "text": [
            "Hello, world!\n",
            "안\n"
          ]
        }
      ]
    },
    {
      "cell_type": "markdown",
      "source": [
        "- 파이썬 스타일(with) : 자동 close"
      ],
      "metadata": {
        "id": "yoIdFFtvVoZF"
      }
    },
    {
      "cell_type": "code",
      "source": [
        "with open('hello.txt') as file:         # 이거 잘 기억해두기\n",
        "    text = file.read()\n",
        "print(text)"
      ],
      "metadata": {
        "colab": {
          "base_uri": "https://localhost:8080/"
        },
        "id": "c0aV3wQUVAU4",
        "outputId": "c27410d2-e9ac-4573-c30f-40af38e8f7e1"
      },
      "execution_count": 13,
      "outputs": [
        {
          "output_type": "stream",
          "name": "stdout",
          "text": [
            "Hello, world!\n",
            "안녕하세요?\n"
          ]
        }
      ]
    },
    {
      "cell_type": "markdown",
      "source": [
        "### 27.2 문자열 여러줄"
      ],
      "metadata": {
        "id": "Y7cb73N_WN4c"
      }
    },
    {
      "cell_type": "code",
      "source": [
        "with open('hello.txt', 'w') as file:\n",
        "    for i in range(3):\n",
        "        file.write(f'Hello, world! {i}\\n')"
      ],
      "metadata": {
        "id": "V02QRrW7V9a1"
      },
      "execution_count": 16,
      "outputs": []
    },
    {
      "cell_type": "code",
      "source": [
        "!cat hello.txt"
      ],
      "metadata": {
        "colab": {
          "base_uri": "https://localhost:8080/"
        },
        "id": "fpbckIoHWmqX",
        "outputId": "4ad5b4bc-90e3-4dbd-9793-8573b0fc9ba0"
      },
      "execution_count": 17,
      "outputs": [
        {
          "output_type": "stream",
          "name": "stdout",
          "text": [
            "Hello, world! 0\n",
            "Hello, world! 1\n",
            "Hello, world! 2\n"
          ]
        }
      ]
    },
    {
      "cell_type": "code",
      "source": [
        "fruits = ['apple\\n', 'banana\\n', 'cherry\\n']\n",
        "with open('hello.txt', 'w') as file:\n",
        "    file.writelines(fruits)"
      ],
      "metadata": {
        "id": "i679cfZQWpem"
      },
      "execution_count": 20,
      "outputs": []
    },
    {
      "cell_type": "code",
      "source": [
        "!cat hello.txt"
      ],
      "metadata": {
        "colab": {
          "base_uri": "https://localhost:8080/"
        },
        "id": "kwAY9V-PXKua",
        "outputId": "792ce05b-b163-4005-d04f-50b0fe86bcb3"
      },
      "execution_count": 21,
      "outputs": [
        {
          "output_type": "stream",
          "name": "stdout",
          "text": [
            "apple\n",
            "banana\n",
            "cherry\n"
          ]
        }
      ]
    },
    {
      "cell_type": "markdown",
      "source": [
        "- 줄 단위로 작업할 내용이 있으면 아래와 같이 사용함"
      ],
      "metadata": {
        "id": "A6GuQA2nXzG8"
      }
    },
    {
      "cell_type": "code",
      "source": [
        "with open('hello.txt') as file:\n",
        "    lines = file.readlines()\n",
        "    print(lines)"
      ],
      "metadata": {
        "colab": {
          "base_uri": "https://localhost:8080/"
        },
        "id": "pN4KN9WOXMpO",
        "outputId": "3df5c357-b79a-4a9a-812a-77f12c2e771a"
      },
      "execution_count": 22,
      "outputs": [
        {
          "output_type": "stream",
          "name": "stdout",
          "text": [
            "['apple\\n', 'banana\\n', 'cherry\\n']\n"
          ]
        }
      ]
    },
    {
      "cell_type": "code",
      "source": [
        "with open('hello.txt') as file:\n",
        "    lines = file.readlines()\n",
        "for lines in lines:\n",
        "    print(lines, end='')"
      ],
      "metadata": {
        "colab": {
          "base_uri": "https://localhost:8080/"
        },
        "id": "3erqxkukXl2k",
        "outputId": "9bb657ad-d7f1-4586-fbe4-71ff372e3d20"
      },
      "execution_count": 23,
      "outputs": [
        {
          "output_type": "stream",
          "name": "stdout",
          "text": [
            "apple\n",
            "banana\n",
            "cherry\n"
          ]
        }
      ]
    },
    {
      "cell_type": "markdown",
      "source": [
        "### 경로명 지정, 디렉토리 만들기\n",
        "<pre>\n",
        "1. 프로그램 내에서는 back slash(\\) 대신에 slash(/)를 쓸 것\n",
        "2. 경로명에 공백을 두지 말 것\n",
        "3. 프로그램용이라면 디렉토리 이름에 한글을 쓰지 말 것\n",
        "</pre>\n"
      ],
      "metadata": {
        "id": "WpSy7JK-ahrc"
      }
    },
    {
      "cell_type": "code",
      "source": [
        "# data 디렉토리가 있는지 확인, 없으면 만들어 주기\n",
        "import os\n",
        "if not os.path.exists('data'):\n",
        "    os.mkdir('data')"
      ],
      "metadata": {
        "id": "KxCx0zfsXuuh"
      },
      "execution_count": 25,
      "outputs": []
    },
    {
      "cell_type": "code",
      "source": [
        "# 상대 경로\n",
        "os.path.exists('data')"
      ],
      "metadata": {
        "colab": {
          "base_uri": "https://localhost:8080/"
        },
        "id": "sVA80nkObDC3",
        "outputId": "1db26f92-7e04-4576-9d64-207508171ee4"
      },
      "execution_count": 31,
      "outputs": [
        {
          "output_type": "execute_result",
          "data": {
            "text/plain": [
              "True"
            ]
          },
          "metadata": {},
          "execution_count": 31
        }
      ]
    },
    {
      "cell_type": "code",
      "source": [
        "!pwd"
      ],
      "metadata": {
        "colab": {
          "base_uri": "https://localhost:8080/"
        },
        "id": "OaZFNgSMbQMB",
        "outputId": "2893d89a-301b-4138-a8a3-897be48e7db6"
      },
      "execution_count": 28,
      "outputs": [
        {
          "output_type": "stream",
          "name": "stdout",
          "text": [
            "/content\n"
          ]
        }
      ]
    },
    {
      "cell_type": "code",
      "source": [
        "# 절대 경로\n",
        "os.path.exists('/content/data')"
      ],
      "metadata": {
        "colab": {
          "base_uri": "https://localhost:8080/"
        },
        "id": "yLbUvV3Cbcd-",
        "outputId": "cfc91ff7-29be-45da-d135-055df534dce5"
      },
      "execution_count": 32,
      "outputs": [
        {
          "output_type": "execute_result",
          "data": {
            "text/plain": [
              "True"
            ]
          },
          "metadata": {},
          "execution_count": 32
        }
      ]
    },
    {
      "cell_type": "code",
      "source": [
        "data_file = 'data/hello.txt'\n",
        "file = open(data_file, 'w')   \n",
        "file.write('Hello, world!\\n')\n",
        "file.write('안녕하세요?')\n",
        "file.close()"
      ],
      "metadata": {
        "id": "CBnRWxx5bh3j"
      },
      "execution_count": 33,
      "outputs": []
    },
    {
      "cell_type": "code",
      "source": [
        "!cat data/hello.txt"
      ],
      "metadata": {
        "colab": {
          "base_uri": "https://localhost:8080/"
        },
        "id": "NNQqIwHZePH0",
        "outputId": "46799436-1581-4031-bfdf-fe94eade49bf"
      },
      "execution_count": 34,
      "outputs": [
        {
          "output_type": "stream",
          "name": "stdout",
          "text": [
            "Hello, world!\n",
            "안녕하세요?"
          ]
        }
      ]
    },
    {
      "cell_type": "markdown",
      "source": [
        "- append mode"
      ],
      "metadata": {
        "id": "Y0UEQEfTe819"
      }
    },
    {
      "cell_type": "code",
      "source": [
        "!cat hello.txt"
      ],
      "metadata": {
        "colab": {
          "base_uri": "https://localhost:8080/"
        },
        "id": "LnOk3MkQeT6M",
        "outputId": "80490d36-0edd-47b5-83d0-d58009c8ad3e"
      },
      "execution_count": 35,
      "outputs": [
        {
          "output_type": "stream",
          "name": "stdout",
          "text": [
            "apple\n",
            "banana\n",
            "cherry\n"
          ]
        }
      ]
    },
    {
      "cell_type": "code",
      "source": [
        "with open('hello.txt', 'a')as file:\n",
        "    file.write('Hello, world!\\n')\n",
        "    file.write('안녕하세요?')\n"
      ],
      "metadata": {
        "id": "DcBmcDNue__-"
      },
      "execution_count": 36,
      "outputs": []
    },
    {
      "cell_type": "code",
      "source": [
        "with open('hello.txt') as file:\n",
        "    text = file.read()\n",
        "print(text)"
      ],
      "metadata": {
        "colab": {
          "base_uri": "https://localhost:8080/"
        },
        "id": "NtEW9R8XfUJs",
        "outputId": "82731ff2-167a-4be9-8f62-1504d89c174c"
      },
      "execution_count": 37,
      "outputs": [
        {
          "output_type": "stream",
          "name": "stdout",
          "text": [
            "apple\n",
            "banana\n",
            "cherry\n",
            "Hello, world!\n",
            "안녕하세요?\n"
          ]
        }
      ]
    },
    {
      "cell_type": "markdown",
      "source": [
        "- 인코딩 설정"
      ],
      "metadata": {
        "id": "0qd46w_kgWXk"
      }
    },
    {
      "cell_type": "code",
      "source": [
        "with open('hello.txt', 'w', encoding='CP949') as file:\n",
        "    file.write('이 글은 EUC-KR(CP949)로 인코딩 되었습니다.\\n')\n",
        "    file.write('utf-8로 읽으면 글자가 깨집니다.')"
      ],
      "metadata": {
        "id": "LzJyjB6gfawX"
      },
      "execution_count": 39,
      "outputs": []
    },
    {
      "cell_type": "markdown",
      "source": [
        "### 27.3 파이썬 객체 저장/로드"
      ],
      "metadata": {
        "id": "2P2pB9V2hR19"
      }
    },
    {
      "cell_type": "code",
      "source": [
        "import pickle\n",
        "\n",
        "person = {'name':'james', 'age':17, 'address':'서울시 서초구 반포동'}\n",
        "with open('person.pkl', 'wb') as file:\n",
        "    pickle.dump(person, file)"
      ],
      "metadata": {
        "id": "SqDEsYQYhKLB"
      },
      "execution_count": 40,
      "outputs": []
    },
    {
      "cell_type": "code",
      "source": [
        "with open('person.pkl', 'rb') as file:\n",
        "    james = pickle.load(file)\n",
        "james"
      ],
      "metadata": {
        "colab": {
          "base_uri": "https://localhost:8080/"
        },
        "id": "9HNkHxSniQW9",
        "outputId": "8251cd7e-5a45-4015-c613-3c75a28e1c30"
      },
      "execution_count": 42,
      "outputs": [
        {
          "output_type": "execute_result",
          "data": {
            "text/plain": [
              "{'address': '서울시 서초구 반포동', 'age': 17, 'name': 'james'}"
            ]
          },
          "metadata": {},
          "execution_count": 42
        }
      ]
    },
    {
      "cell_type": "code",
      "source": [
        "# 파일 오픈이 필요 없는 라이브러리도 있음\n",
        "import joblib\n",
        "joblib.dump(person, 'person.jl')\n",
        "james = joblib.load('person.jl')\n",
        "james"
      ],
      "metadata": {
        "colab": {
          "base_uri": "https://localhost:8080/"
        },
        "id": "MqjpW34Uicli",
        "outputId": "0e6792d6-2176-4747-e8c2-dbd6448ae337"
      },
      "execution_count": 43,
      "outputs": [
        {
          "output_type": "execute_result",
          "data": {
            "text/plain": [
              "{'address': '서울시 서초구 반포동', 'age': 17, 'name': 'james'}"
            ]
          },
          "metadata": {},
          "execution_count": 43
        }
      ]
    },
    {
      "cell_type": "code",
      "source": [
        ""
      ],
      "metadata": {
        "id": "F_Qeblewi_us"
      },
      "execution_count": null,
      "outputs": []
    }
  ]
}