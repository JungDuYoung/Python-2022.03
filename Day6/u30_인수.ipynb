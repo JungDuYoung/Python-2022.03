{
  "nbformat": 4,
  "nbformat_minor": 0,
  "metadata": {
    "colab": {
      "name": "u30_인수.ipynb",
      "provenance": []
    },
    "kernelspec": {
      "name": "python3",
      "display_name": "Python 3"
    },
    "language_info": {
      "name": "python"
    }
  },
  "cells": [
    {
      "cell_type": "code",
      "execution_count": 1,
      "metadata": {
        "id": "q43w0u6eMrG4"
      },
      "outputs": [],
      "source": [
        "import joblib"
      ]
    },
    {
      "cell_type": "markdown",
      "source": [
        "# Unit 30. 위치 인수, 키워드 인수"
      ],
      "metadata": {
        "id": "SrSQegFyRTxq"
      }
    },
    {
      "cell_type": "code",
      "source": [
        "# 위치 인수(positional argument): 10, 20\n",
        "# 키워드 인수(keyword argument): sep=', ', end='\\n\\n'\n",
        "print(10, 20, sep=', ', end='\\n\\n' )"
      ],
      "metadata": {
        "colab": {
          "base_uri": "https://localhost:8080/"
        },
        "id": "o3E5y7MMPVUk",
        "outputId": "ecd9ecd0-9238-4541-dbed-51a5777e0392"
      },
      "execution_count": 2,
      "outputs": [
        {
          "output_type": "stream",
          "name": "stdout",
          "text": [
            "10, 20\n",
            "\n"
          ]
        }
      ]
    },
    {
      "cell_type": "markdown",
      "source": [
        "### 30.1 위치 인수"
      ],
      "metadata": {
        "id": "6iR8_VCMSBZA"
      }
    },
    {
      "cell_type": "code",
      "source": [
        "print(10,20,30,40,50)"
      ],
      "metadata": {
        "colab": {
          "base_uri": "https://localhost:8080/"
        },
        "id": "PqPYiOwWRhSj",
        "outputId": "d8789fc6-e3f4-42c5-c828-57dc77e00561"
      },
      "execution_count": 4,
      "outputs": [
        {
          "output_type": "stream",
          "name": "stdout",
          "text": [
            "10 20 30 40 50\n"
          ]
        }
      ]
    },
    {
      "cell_type": "code",
      "source": [
        "def print_numbers(a,b,c):\n",
        "    print(a)\n",
        "    print(b)\n",
        "    print(c)"
      ],
      "metadata": {
        "id": "rCfkQOmYSG3S"
      },
      "execution_count": 5,
      "outputs": []
    },
    {
      "cell_type": "code",
      "source": [
        "print_numbers(10,20,30)"
      ],
      "metadata": {
        "colab": {
          "base_uri": "https://localhost:8080/"
        },
        "id": "dTiy4V2YSn8t",
        "outputId": "0723ab4b-e6b6-4379-f32a-413f9ae4ebf5"
      },
      "execution_count": 6,
      "outputs": [
        {
          "output_type": "stream",
          "name": "stdout",
          "text": [
            "10\n",
            "20\n",
            "30\n"
          ]
        }
      ]
    },
    {
      "cell_type": "code",
      "source": [
        "x = [10,20,30]\n",
        "print_numbers(*x)       # 리스트 언패킹"
      ],
      "metadata": {
        "colab": {
          "base_uri": "https://localhost:8080/"
        },
        "id": "BWEpczsVStpU",
        "outputId": "149efef2-3b57-415d-b36b-ee9f057f9696"
      },
      "execution_count": 7,
      "outputs": [
        {
          "output_type": "stream",
          "name": "stdout",
          "text": [
            "10\n",
            "20\n",
            "30\n"
          ]
        }
      ]
    },
    {
      "cell_type": "markdown",
      "source": [
        "- 가변 인수"
      ],
      "metadata": {
        "id": "G8227MPyUCiH"
      }
    },
    {
      "cell_type": "code",
      "source": [
        "def print_numbers(*args):\n",
        "    for arg in args:\n",
        "        print(arg)"
      ],
      "metadata": {
        "id": "KxnHS7arS2kU"
      },
      "execution_count": 9,
      "outputs": []
    },
    {
      "cell_type": "code",
      "source": [
        "print_numbers(10,20)"
      ],
      "metadata": {
        "colab": {
          "base_uri": "https://localhost:8080/"
        },
        "id": "JaL1R2E9Udqf",
        "outputId": "56784eed-e702-429f-df38-02ee8d3158e1"
      },
      "execution_count": 10,
      "outputs": [
        {
          "output_type": "stream",
          "name": "stdout",
          "text": [
            "10\n",
            "20\n"
          ]
        }
      ]
    },
    {
      "cell_type": "code",
      "source": [
        "print_numbers(10,20,30,40)"
      ],
      "metadata": {
        "colab": {
          "base_uri": "https://localhost:8080/"
        },
        "id": "m8YEfUSqUiO6",
        "outputId": "ce74a9fe-c2f3-4df2-80fa-241684994554"
      },
      "execution_count": 11,
      "outputs": [
        {
          "output_type": "stream",
          "name": "stdout",
          "text": [
            "10\n",
            "20\n",
            "30\n",
            "40\n"
          ]
        }
      ]
    },
    {
      "cell_type": "code",
      "source": [
        "print_numbers()"
      ],
      "metadata": {
        "id": "E79He_7bUk--"
      },
      "execution_count": 12,
      "outputs": []
    },
    {
      "cell_type": "markdown",
      "source": [
        "### 30.2 키워드 인수"
      ],
      "metadata": {
        "id": "dluOeWlVU4Bg"
      }
    },
    {
      "cell_type": "code",
      "source": [
        "def personal_info(name,age,address):\n",
        "    print('이름:', name)\n",
        "    print('나이:', age)\n",
        "    print('주소:', address)"
      ],
      "metadata": {
        "id": "A6g2aQFUUpFe"
      },
      "execution_count": 15,
      "outputs": []
    },
    {
      "cell_type": "code",
      "source": [
        "# 위치 인수로 호출\n",
        "personal_info('홍길동', 25, '서울시 서초구 서초동')"
      ],
      "metadata": {
        "colab": {
          "base_uri": "https://localhost:8080/"
        },
        "id": "KcFIvqkyVX_w",
        "outputId": "3007eb6e-c7bf-467c-80ce-fc181ce57e09"
      },
      "execution_count": 16,
      "outputs": [
        {
          "output_type": "stream",
          "name": "stdout",
          "text": [
            "이름: 홍길동\n",
            "나이: 25\n",
            "주소: 서울시 서초구 서초동\n"
          ]
        }
      ]
    },
    {
      "cell_type": "code",
      "source": [
        "# 위치 인수로 호출할 경우에는 정확히 위치를 지정해야 함\n",
        "personal_info(25, '홍길동', '서울시 서초구 서초동')"
      ],
      "metadata": {
        "colab": {
          "base_uri": "https://localhost:8080/"
        },
        "id": "ixLUKyWhVsae",
        "outputId": "b092ba7d-24d9-4c04-a669-cf40c65471d2"
      },
      "execution_count": 18,
      "outputs": [
        {
          "output_type": "stream",
          "name": "stdout",
          "text": [
            "이름: 25\n",
            "나이: 홍길동\n",
            "주소: 서울시 서초구 서초동\n"
          ]
        }
      ]
    },
    {
      "cell_type": "code",
      "source": [
        "# 키워드로 호출\n",
        "personal_info(age=25, name='홍길동', address='서울시 서초구 서초동')"
      ],
      "metadata": {
        "colab": {
          "base_uri": "https://localhost:8080/"
        },
        "id": "DlSdeyiFWCtB",
        "outputId": "6e332dfe-08d1-44e7-f75f-f0499577ea49"
      },
      "execution_count": 19,
      "outputs": [
        {
          "output_type": "stream",
          "name": "stdout",
          "text": [
            "이름: 홍길동\n",
            "나이: 25\n",
            "주소: 서울시 서초구 서초동\n"
          ]
        }
      ]
    },
    {
      "cell_type": "markdown",
      "source": [
        "### 30.3 딕셔너리 언패킹"
      ],
      "metadata": {
        "id": "P9ycJWwzWqLf"
      }
    },
    {
      "cell_type": "code",
      "source": [
        "x = {'name': '홍길동', 'age': 30, 'address': '서울시 서초구 서초동'}\n",
        "personal_info(**x)"
      ],
      "metadata": {
        "colab": {
          "base_uri": "https://localhost:8080/"
        },
        "id": "WwE7OpqmWdPE",
        "outputId": "11f0f553-3106-44a2-e112-deee37c5ffee"
      },
      "execution_count": 20,
      "outputs": [
        {
          "output_type": "stream",
          "name": "stdout",
          "text": [
            "이름: 홍길동\n",
            "나이: 30\n",
            "주소: 서울시 서초구 서초동\n"
          ]
        }
      ]
    },
    {
      "cell_type": "markdown",
      "source": [
        "- 가변 키워드 인수"
      ],
      "metadata": {
        "id": "-IrEEDgAXJQu"
      }
    },
    {
      "cell_type": "code",
      "source": [
        "def personal_info2(**kwargs):\n",
        "    for key, value in kwargs.items():\n",
        "        print(f'{key}: {value}')"
      ],
      "metadata": {
        "id": "8AoOj2saW8uX"
      },
      "execution_count": 22,
      "outputs": []
    },
    {
      "cell_type": "code",
      "source": [
        "personal_info2(**x)"
      ],
      "metadata": {
        "colab": {
          "base_uri": "https://localhost:8080/"
        },
        "id": "qitHaxwlXfM_",
        "outputId": "740ae2ba-9b03-4591-a983-f02b6237c08a"
      },
      "execution_count": 23,
      "outputs": [
        {
          "output_type": "stream",
          "name": "stdout",
          "text": [
            "name: 홍길동\n",
            "age: 30\n",
            "address: 서울시 서초구 서초동\n"
          ]
        }
      ]
    },
    {
      "cell_type": "code",
      "source": [
        "x['성별'] = '남자'\n",
        "x['고향'] = '서울'\n",
        "x"
      ],
      "metadata": {
        "colab": {
          "base_uri": "https://localhost:8080/"
        },
        "id": "0niwLiDbXlii",
        "outputId": "938acfdd-4547-40e9-82fd-32f20eaf1be8"
      },
      "execution_count": 24,
      "outputs": [
        {
          "output_type": "execute_result",
          "data": {
            "text/plain": [
              "{'address': '서울시 서초구 서초동', 'age': 30, 'name': '홍길동', '고향': '서울', '성별': '남자'}"
            ]
          },
          "metadata": {},
          "execution_count": 24
        }
      ]
    },
    {
      "cell_type": "code",
      "source": [
        "personal_info2(**x)"
      ],
      "metadata": {
        "colab": {
          "base_uri": "https://localhost:8080/"
        },
        "id": "5AaQipqqX9Fg",
        "outputId": "a462bda5-425c-4293-f553-3535587f86dd"
      },
      "execution_count": 25,
      "outputs": [
        {
          "output_type": "stream",
          "name": "stdout",
          "text": [
            "name: 홍길동\n",
            "age: 30\n",
            "address: 서울시 서초구 서초동\n",
            "성별: 남자\n",
            "고향: 서울\n"
          ]
        }
      ]
    },
    {
      "cell_type": "markdown",
      "source": [
        "- 호출하는 순서: 위치 인수가 키워드 이수 보다 먼저 나와야 함"
      ],
      "metadata": {
        "id": "kTFBMa4maakO"
      }
    },
    {
      "cell_type": "code",
      "source": [
        "personal_lnfo('홍길동', address='경기도 용인시 수지구', age=28)"
      ],
      "metadata": {
        "colab": {
          "base_uri": "https://localhost:8080/"
        },
        "id": "jZE2VoQkan9_",
        "outputId": "3e3bca89-7fb0-4262-fea6-8e83d7456ee7"
      },
      "execution_count": 26,
      "outputs": [
        {
          "output_type": "stream",
          "name": "stdout",
          "text": [
            "이름: 홍길동\n",
            "나이: 28\n",
            "주소: 경기도 용인시 수지구\n"
          ]
        }
      ]
    },
    {
      "cell_type": "code",
      "source": [
        "personal_lnfo(address='경기도 용인시 수지구', '홍길동', age=28)"
      ],
      "metadata": {
        "colab": {
          "base_uri": "https://localhost:8080/",
          "height": 156
        },
        "id": "Op0nvHMXYAF6",
        "outputId": "b26558c1-9568-400d-d69a-ef2321fed84b"
      },
      "execution_count": 27,
      "outputs": [
        {
          "output_type": "error",
          "ename": "SyntaxError",
          "evalue": "ignored",
          "traceback": [
            "\u001b[0;36m  File \u001b[0;32m\"<ipython-input-27-6ce779abde3b>\"\u001b[0;36m, line \u001b[0;32m1\u001b[0m\n\u001b[0;31m    personal_lnfo(address='경기도 용인시 수지구', '홍길동', age=28)\u001b[0m\n\u001b[0m                                                       \n^\u001b[0m\n\u001b[0;31mSyntaxError\u001b[0m\u001b[0;31m:\u001b[0m positional argument follows keyword argument\n"
          ]
        }
      ]
    },
    {
      "cell_type": "markdown",
      "source": [
        "- 가변 위치 인수, 가변 키워드 인수"
      ],
      "metadata": {
        "id": "e39-_ACJbN_P"
      }
    },
    {
      "cell_type": "code",
      "source": [
        "def custom_print(*args, **kwargs):\n",
        "    print(*args, **kwargs)"
      ],
      "metadata": {
        "id": "CukBNX_8bCSW"
      },
      "execution_count": 28,
      "outputs": []
    },
    {
      "cell_type": "code",
      "source": [
        "custom_print(10,20,30, sep=', ', end='')"
      ],
      "metadata": {
        "colab": {
          "base_uri": "https://localhost:8080/"
        },
        "id": "mLYhCBspbiDS",
        "outputId": "d4218430-507a-4c84-ca54-54cb88af1552"
      },
      "execution_count": 29,
      "outputs": [
        {
          "output_type": "stream",
          "name": "stdout",
          "text": [
            "10, 20, 30"
          ]
        }
      ]
    },
    {
      "cell_type": "markdown",
      "source": [
        "### 30.4 매개변수에 초기값 지정"
      ],
      "metadata": {
        "id": "fM7rR38hb6t8"
      }
    },
    {
      "cell_type": "code",
      "source": [
        "def personal_info(name,age,address='비공개'):\n",
        "    print('이름:', name)\n",
        "    print('나이:', age)\n",
        "    print('주소:', address)"
      ],
      "metadata": {
        "id": "ApmEWKBLbyXC"
      },
      "execution_count": 30,
      "outputs": []
    },
    {
      "cell_type": "code",
      "source": [
        "personal_info('홍길동', 25)"
      ],
      "metadata": {
        "colab": {
          "base_uri": "https://localhost:8080/"
        },
        "id": "w29kyTOwcJuA",
        "outputId": "2710e70c-689b-40f5-fc72-63439311a54c"
      },
      "execution_count": 32,
      "outputs": [
        {
          "output_type": "stream",
          "name": "stdout",
          "text": [
            "이름: 홍길동\n",
            "나이: 25\n",
            "주소: 비공개\n"
          ]
        }
      ]
    },
    {
      "cell_type": "code",
      "source": [
        "train_test_split(*arrays, test_size=None, train_size=None, random_state=None, shuffle=True, stratify=None)"
      ],
      "metadata": {
        "id": "jzutMR24cSk7"
      },
      "execution_count": null,
      "outputs": []
    }
  ]
}