{
  "nbformat": 4,
  "nbformat_minor": 0,
  "metadata": {
    "colab": {
      "name": "u29_함수.ipynb",
      "provenance": []
    },
    "kernelspec": {
      "name": "python3",
      "display_name": "Python 3"
    },
    "language_info": {
      "name": "python"
    }
  },
  "cells": [
    {
      "cell_type": "markdown",
      "source": [
        "# Unit 29. 함수(Function)\n",
        "### 29.1 간단한 출력 함수 만들기"
      ],
      "metadata": {
        "id": "Gs6FhTxiohMv"
      }
    },
    {
      "cell_type": "code",
      "execution_count": null,
      "metadata": {
        "id": "kqrHJ4RZlfyR"
      },
      "outputs": [],
      "source": [
        "# 중복 반복되는 코드는 없어야 됨\n",
        "# 있으면 함수로 만들 것\n",
        "# 가독성을 위해 쪼갤 필요가 있다"
      ]
    },
    {
      "cell_type": "code",
      "source": [
        "def hello():\n",
        "    print('Hello, world!')"
      ],
      "metadata": {
        "id": "eJBZMmqOqhTo"
      },
      "execution_count": null,
      "outputs": []
    },
    {
      "cell_type": "code",
      "source": [
        "hello()"
      ],
      "metadata": {
        "colab": {
          "base_uri": "https://localhost:8080/"
        },
        "id": "PVJK0Vm3tfqe",
        "outputId": "8152359f-7caa-4db9-ce92-1cab06410d07"
      },
      "execution_count": null,
      "outputs": [
        {
          "output_type": "stream",
          "name": "stdout",
          "text": [
            "Hello, world!\n"
          ]
        }
      ]
    },
    {
      "cell_type": "markdown",
      "source": [
        "- 함수를 사용하기 전에 반드시 함수가 정의되어 있어야 함"
      ],
      "metadata": {
        "id": "HdEjKNeJuBlM"
      }
    },
    {
      "cell_type": "code",
      "source": [
        "hello2()\n",
        "\n",
        "def hello2():\n",
        "    print('Hello, world')"
      ],
      "metadata": {
        "colab": {
          "base_uri": "https://localhost:8080/",
          "height": 229
        },
        "id": "iXmqGJmRtjYN",
        "outputId": "74d29ece-bb84-4d48-b122-9e0a678d611d"
      },
      "execution_count": null,
      "outputs": [
        {
          "output_type": "error",
          "ename": "NameError",
          "evalue": "ignored",
          "traceback": [
            "\u001b[0;31m---------------------------------------------------------------------------\u001b[0m",
            "\u001b[0;31mNameError\u001b[0m                                 Traceback (most recent call last)",
            "\u001b[0;32m<ipython-input-6-8c00a712ec78>\u001b[0m in \u001b[0;36m<module>\u001b[0;34m()\u001b[0m\n\u001b[0;32m----> 1\u001b[0;31m \u001b[0mhello2\u001b[0m\u001b[0;34m(\u001b[0m\u001b[0;34m)\u001b[0m\u001b[0;34m\u001b[0m\u001b[0;34m\u001b[0m\u001b[0m\n\u001b[0m\u001b[1;32m      2\u001b[0m \u001b[0;34m\u001b[0m\u001b[0m\n\u001b[1;32m      3\u001b[0m \u001b[0;32mdef\u001b[0m \u001b[0mhello2\u001b[0m\u001b[0;34m(\u001b[0m\u001b[0;34m)\u001b[0m\u001b[0;34m:\u001b[0m\u001b[0;34m\u001b[0m\u001b[0;34m\u001b[0m\u001b[0m\n\u001b[1;32m      4\u001b[0m     \u001b[0mprint\u001b[0m\u001b[0;34m(\u001b[0m\u001b[0;34m'Hello, world'\u001b[0m\u001b[0;34m)\u001b[0m\u001b[0;34m\u001b[0m\u001b[0;34m\u001b[0m\u001b[0m\n",
            "\u001b[0;31mNameError\u001b[0m: name 'hello2' is not defined"
          ]
        }
      ]
    },
    {
      "cell_type": "markdown",
      "source": [
        "- 빈 함수 만들기"
      ],
      "metadata": {
        "id": "_vS0UouZuvO0"
      }
    },
    {
      "cell_type": "code",
      "source": [
        "def hello3():\n",
        "    pass"
      ],
      "metadata": {
        "id": "SXz54EhAucWT"
      },
      "execution_count": null,
      "outputs": []
    },
    {
      "cell_type": "markdown",
      "source": [
        "### 29.2 덧셈 함수"
      ],
      "metadata": {
        "id": "cQsZld0lvAYG"
      }
    },
    {
      "cell_type": "code",
      "source": [
        "# callee, a와 b의 값은 함수가 호출되어지는 순간 결정이 됨\n",
        "def add(a,b):\n",
        "    \"\"\"숫자 두개를 입력하면 덧셈 결과를 출력해주는 함수\n",
        "    이것을 독스트링(Docstring)이라고 한다.\"\"\"\n",
        "    print(a+b)"
      ],
      "metadata": {
        "id": "uLqiARaKu_Ge"
      },
      "execution_count": null,
      "outputs": []
    },
    {
      "cell_type": "code",
      "source": [
        "# caller\n",
        "add(3,4)"
      ],
      "metadata": {
        "colab": {
          "base_uri": "https://localhost:8080/"
        },
        "id": "qFPci63PvhbR",
        "outputId": "a8ba3e3e-04f5-4674-b9d7-d587e3cda765"
      },
      "execution_count": null,
      "outputs": [
        {
          "output_type": "stream",
          "name": "stdout",
          "text": [
            "7\n"
          ]
        }
      ]
    },
    {
      "cell_type": "code",
      "source": [
        "add(10,20)"
      ],
      "metadata": {
        "colab": {
          "base_uri": "https://localhost:8080/"
        },
        "id": "xLtRYxY2vjSj",
        "outputId": "a11052f2-d963-4eca-a90d-b7cc3aa21d9d"
      },
      "execution_count": null,
      "outputs": [
        {
          "output_type": "stream",
          "name": "stdout",
          "text": [
            "30\n"
          ]
        }
      ]
    },
    {
      "cell_type": "markdown",
      "source": [
        "### 29.3 함수결과 반환"
      ],
      "metadata": {
        "id": "MGj-Bhjfw6bt"
      }
    },
    {
      "cell_type": "code",
      "source": [
        "a, b = 12000, 24000\n",
        "f'{a} + {b} --> {add(a,b)}'"
      ],
      "metadata": {
        "colab": {
          "base_uri": "https://localhost:8080/",
          "height": 54
        },
        "id": "JyuAkV6KvlDg",
        "outputId": "6f78decb-e42b-4229-80ef-daea2784d548"
      },
      "execution_count": null,
      "outputs": [
        {
          "output_type": "stream",
          "name": "stdout",
          "text": [
            "36000\n"
          ]
        },
        {
          "output_type": "execute_result",
          "data": {
            "text/plain": [
              "'12000 + 24000 --> None'"
            ],
            "application/vnd.google.colaboratory.intrinsic+json": {
              "type": "string"
            }
          },
          "metadata": {},
          "execution_count": 34
        }
      ]
    },
    {
      "cell_type": "code",
      "source": [
        "a, b = 12000, 24000\n",
        "f'{a} + {b} --> {a+b}'"
      ],
      "metadata": {
        "colab": {
          "base_uri": "https://localhost:8080/",
          "height": 35
        },
        "id": "VnfuUrKLxSTU",
        "outputId": "1c6bf2f6-2ad3-47e9-d140-ea2bfc67bf9b"
      },
      "execution_count": null,
      "outputs": [
        {
          "output_type": "execute_result",
          "data": {
            "text/plain": [
              "'12000 + 24000 --> 36000'"
            ],
            "application/vnd.google.colaboratory.intrinsic+json": {
              "type": "string"
            }
          },
          "metadata": {},
          "execution_count": 35
        }
      ]
    },
    {
      "cell_type": "code",
      "source": [
        "f'{a} + {b} --> {add(a,b)}'"
      ],
      "metadata": {
        "colab": {
          "base_uri": "https://localhost:8080/",
          "height": 54
        },
        "id": "LudyXuMQxqaZ",
        "outputId": "41b906a3-0f99-41bb-e3e1-2ec1f7eafba4"
      },
      "execution_count": null,
      "outputs": [
        {
          "output_type": "stream",
          "name": "stdout",
          "text": [
            "36000\n"
          ]
        },
        {
          "output_type": "execute_result",
          "data": {
            "text/plain": [
              "'12000 + 24000 --> None'"
            ],
            "application/vnd.google.colaboratory.intrinsic+json": {
              "type": "string"
            }
          },
          "metadata": {},
          "execution_count": 36
        }
      ]
    },
    {
      "cell_type": "code",
      "source": [
        "f'{a:,d} + {b:,d} --> {a+b:,d}'"
      ],
      "metadata": {
        "colab": {
          "base_uri": "https://localhost:8080/",
          "height": 35
        },
        "id": "J7fR9l-wxtdP",
        "outputId": "af326b30-b3c5-473d-b978-0360e1d759f8"
      },
      "execution_count": null,
      "outputs": [
        {
          "output_type": "execute_result",
          "data": {
            "text/plain": [
              "'12,000 + 24,000 --> 36,000'"
            ],
            "application/vnd.google.colaboratory.intrinsic+json": {
              "type": "string"
            }
          },
          "metadata": {},
          "execution_count": 37
        }
      ]
    },
    {
      "cell_type": "code",
      "source": [
        "# 결과값을 반환해주는 함수\n",
        "def add2(a,b):\n",
        "    return a+b"
      ],
      "metadata": {
        "id": "-3AR_wudx3L4"
      },
      "execution_count": null,
      "outputs": []
    },
    {
      "cell_type": "code",
      "source": [
        "f'{a:,d} + {b:,d} --> {add2(a,b):,d}'"
      ],
      "metadata": {
        "colab": {
          "base_uri": "https://localhost:8080/",
          "height": 35
        },
        "id": "4rCa4vIRx_I8",
        "outputId": "bbadee27-6386-4e56-fd10-c7b3da9765bd"
      },
      "execution_count": null,
      "outputs": [
        {
          "output_type": "execute_result",
          "data": {
            "text/plain": [
              "'12,000 + 24,000 --> 36,000'"
            ],
            "application/vnd.google.colaboratory.intrinsic+json": {
              "type": "string"
            }
          },
          "metadata": {},
          "execution_count": 39
        }
      ]
    },
    {
      "cell_type": "code",
      "source": [
        "x = add2(10,20)\n",
        "x"
      ],
      "metadata": {
        "colab": {
          "base_uri": "https://localhost:8080/"
        },
        "id": "zm1519BfyNYk",
        "outputId": "2dd9157e-349a-41d0-8fa5-b3533991ff81"
      },
      "execution_count": null,
      "outputs": [
        {
          "output_type": "execute_result",
          "data": {
            "text/plain": [
              "30"
            ]
          },
          "metadata": {},
          "execution_count": 40
        }
      ]
    },
    {
      "cell_type": "code",
      "source": [
        "def even_odd(num):\n",
        "    if num % 2 == 0:\n",
        "        return 'Even'\n",
        "    else:\n",
        "        return 'Odd'"
      ],
      "metadata": {
        "id": "HsF97YhayqtR"
      },
      "execution_count": null,
      "outputs": []
    },
    {
      "cell_type": "code",
      "source": [
        "def even_odd2(num):\n",
        "    if num % 2 == 0:\n",
        "        return 'Even'\n",
        "    else:\n",
        "        return 'Odd'"
      ],
      "metadata": {
        "id": "YAejo3Xu2HP1"
      },
      "execution_count": null,
      "outputs": []
    },
    {
      "cell_type": "code",
      "source": [
        "even_odd(9), even_odd2(9)"
      ],
      "metadata": {
        "colab": {
          "base_uri": "https://localhost:8080/"
        },
        "id": "skvsO1B8zLQl",
        "outputId": "ce386922-4340-40fb-f76c-1bf59307b3df"
      },
      "execution_count": null,
      "outputs": [
        {
          "output_type": "execute_result",
          "data": {
            "text/plain": [
              "('Odd', 'Odd')"
            ]
          },
          "metadata": {},
          "execution_count": 44
        }
      ]
    },
    {
      "cell_type": "code",
      "source": [
        "# num 이라는 정수를 받아서 num 보다 큰 7의 배수(제일 작은)\n",
        "def seven(num):\n",
        "    for i in range(num, num+10):\n",
        "        if i % 7 == 0:\n",
        "            return i\n",
        "        print('for loop', i)"
      ],
      "metadata": {
        "id": "BsQFfIQE1yo9"
      },
      "execution_count": null,
      "outputs": []
    },
    {
      "cell_type": "code",
      "source": [
        "seven(3125)"
      ],
      "metadata": {
        "colab": {
          "base_uri": "https://localhost:8080/"
        },
        "id": "dGwz0FCX3DOQ",
        "outputId": "013ba59b-f0e1-401f-991a-8977751caf7b"
      },
      "execution_count": null,
      "outputs": [
        {
          "output_type": "stream",
          "name": "stdout",
          "text": [
            "for loop 3125\n",
            "for loop 3126\n",
            "for loop 3127\n",
            "for loop 3128\n"
          ]
        },
        {
          "output_type": "execute_result",
          "data": {
            "text/plain": [
              "3129"
            ]
          },
          "metadata": {},
          "execution_count": 48
        }
      ]
    },
    {
      "cell_type": "markdown",
      "source": [
        "### 29.4 여러개 값 반환"
      ],
      "metadata": {
        "id": "-JHu0WLO3mos"
      }
    },
    {
      "cell_type": "code",
      "source": [
        "a, b = 1, 2         # tuple unpacking"
      ],
      "metadata": {
        "id": "bcQTZKbI3EzS"
      },
      "execution_count": null,
      "outputs": []
    },
    {
      "cell_type": "code",
      "source": [
        "def add_sub(a,b):\n",
        "    return a+b, a-b"
      ],
      "metadata": {
        "id": "IVhokIAB4R1W"
      },
      "execution_count": null,
      "outputs": []
    },
    {
      "cell_type": "code",
      "source": [
        "x, y = add_sub(3,4)\n",
        "x, y"
      ],
      "metadata": {
        "colab": {
          "base_uri": "https://localhost:8080/"
        },
        "id": "bB5LaGcF4blZ",
        "outputId": "82dd4897-3df6-4a04-b662-b245bf3ffb45"
      },
      "execution_count": null,
      "outputs": [
        {
          "output_type": "execute_result",
          "data": {
            "text/plain": [
              "(7, -1)"
            ]
          },
          "metadata": {},
          "execution_count": 53
        }
      ]
    },
    {
      "cell_type": "code",
      "source": [
        "# tuple로 받는 경우\n",
        "t = add_sub(3,4)\n",
        "t"
      ],
      "metadata": {
        "colab": {
          "base_uri": "https://localhost:8080/"
        },
        "id": "xDO7RfVT4g9x",
        "outputId": "128428ae-52b0-4474-e8e1-0c5e4077fd05"
      },
      "execution_count": null,
      "outputs": [
        {
          "output_type": "execute_result",
          "data": {
            "text/plain": [
              "(7, -1)"
            ]
          },
          "metadata": {},
          "execution_count": 55
        }
      ]
    },
    {
      "cell_type": "code",
      "source": [
        "# 뺄셈은 필요 없는 경우\n",
        "x, _= add_sub(3,4)\n",
        "x"
      ],
      "metadata": {
        "colab": {
          "base_uri": "https://localhost:8080/"
        },
        "id": "CugTFs8G4ofO",
        "outputId": "30b5cb28-c5d4-4c29-84c0-0e5f80b370a9"
      },
      "execution_count": null,
      "outputs": [
        {
          "output_type": "execute_result",
          "data": {
            "text/plain": [
              "7"
            ]
          },
          "metadata": {},
          "execution_count": 56
        }
      ]
    },
    {
      "cell_type": "markdown",
      "source": [
        "### 29.5 호출 과정"
      ],
      "metadata": {
        "id": "JaruOJzi5qBl"
      }
    },
    {
      "cell_type": "code",
      "source": [
        "def mul(a, b):\n",
        "    c = a * b\n",
        "    return c\n",
        " \n",
        "def add(a, b):\n",
        "    c = a + b\n",
        "    print(c)\n",
        "    d = mul(a, b)\n",
        "    print(d)"
      ],
      "metadata": {
        "id": "ozGvNt6t42_Q"
      },
      "execution_count": null,
      "outputs": []
    },
    {
      "cell_type": "code",
      "source": [
        "x, y = 10, 20\n",
        "add(x, y)"
      ],
      "metadata": {
        "colab": {
          "base_uri": "https://localhost:8080/"
        },
        "id": "ilL_DU6A5wor",
        "outputId": "3f08db5f-a71c-4189-9c5b-0acdc3952f78"
      },
      "execution_count": null,
      "outputs": [
        {
          "output_type": "stream",
          "name": "stdout",
          "text": [
            "30\n",
            "200\n"
          ]
        }
      ]
    },
    {
      "cell_type": "markdown",
      "source": [
        "### 연습문제\n",
        "<pre>\n",
        "약수를 구한 뒤 리스트로 만들어서 반환하는 함수 get_divisors(num)을 만드세요.\n",
        "</pre>"
      ],
      "metadata": {
        "id": "XuGG0B1q8dre"
      }
    },
    {
      "cell_type": "code",
      "source": [
        "# 내가 쓴 거\n",
        "def get_divisors(num):\n",
        "    for i in range(num):\n",
        "        if i // num == 0:\n",
        "            return num"
      ],
      "metadata": {
        "id": "RhLH5NWT544x"
      },
      "execution_count": null,
      "outputs": []
    },
    {
      "cell_type": "code",
      "source": [
        "# 정답\n",
        "def get_divisors(num):\n",
        "    div_list = []\n",
        "    for i in range(1, num+1):\n",
        "        if num % i == 0:\n",
        "            div_list.append(i)\n",
        "    return div_list"
      ],
      "metadata": {
        "id": "uZnflOz2-Tsn"
      },
      "execution_count": null,
      "outputs": []
    },
    {
      "cell_type": "code",
      "source": [
        "get_divisors(12)"
      ],
      "metadata": {
        "colab": {
          "base_uri": "https://localhost:8080/"
        },
        "id": "JQt8gEfE_HQ2",
        "outputId": "11b67824-f1d3-4131-cd6f-0a8efd4f8e3e"
      },
      "execution_count": null,
      "outputs": [
        {
          "output_type": "execute_result",
          "data": {
            "text/plain": [
              "[1, 2, 3, 4, 6, 12]"
            ]
          },
          "metadata": {},
          "execution_count": 67
        }
      ]
    },
    {
      "cell_type": "code",
      "source": [
        "# 정답\n",
        "def get_divisors2(num):\n",
        "    div_list = [i for i in range(1, num+1) if num % i ==0]\n",
        "    return div_list"
      ],
      "metadata": {
        "id": "Pcoini-z_Jo0"
      },
      "execution_count": null,
      "outputs": []
    },
    {
      "cell_type": "code",
      "source": [
        "get_divisors2(12)"
      ],
      "metadata": {
        "colab": {
          "base_uri": "https://localhost:8080/"
        },
        "id": "o4IMXcYY_c96",
        "outputId": "46ad0251-c6fb-4270-9981-25b417887e07"
      },
      "execution_count": null,
      "outputs": [
        {
          "output_type": "execute_result",
          "data": {
            "text/plain": [
              "[1, 2, 3, 4, 6, 12]"
            ]
          },
          "metadata": {},
          "execution_count": 73
        }
      ]
    },
    {
      "cell_type": "code",
      "source": [
        "def get_divisors3(num):\n",
        "    if num <= 0:\n",
        "        return []\n",
        "    return [i for i in range(1, num+1) if num % i ==0]"
      ],
      "metadata": {
        "id": "tYWEkeJU_erB"
      },
      "execution_count": null,
      "outputs": []
    },
    {
      "cell_type": "code",
      "source": [
        "get_divisors3(-12)"
      ],
      "metadata": {
        "colab": {
          "base_uri": "https://localhost:8080/"
        },
        "id": "0X8TAfUU_3nh",
        "outputId": "dcf478b0-6e42-428a-e3b7-823540970abe"
      },
      "execution_count": null,
      "outputs": [
        {
          "output_type": "execute_result",
          "data": {
            "text/plain": [
              "[]"
            ]
          },
          "metadata": {},
          "execution_count": 75
        }
      ]
    },
    {
      "cell_type": "code",
      "source": [
        "get_divisors3(12)"
      ],
      "metadata": {
        "id": "afiD6YPN_6_c",
        "outputId": "54299204-e74c-4892-f8a0-182d28cfbe81",
        "colab": {
          "base_uri": "https://localhost:8080/"
        }
      },
      "execution_count": null,
      "outputs": [
        {
          "output_type": "execute_result",
          "data": {
            "text/plain": [
              "[1, 2, 3, 4, 6, 12]"
            ]
          },
          "metadata": {},
          "execution_count": 76
        }
      ]
    },
    {
      "cell_type": "code",
      "source": [
        ""
      ],
      "metadata": {
        "id": "uNbRxGps_-j7"
      },
      "execution_count": null,
      "outputs": []
    }
  ]
}