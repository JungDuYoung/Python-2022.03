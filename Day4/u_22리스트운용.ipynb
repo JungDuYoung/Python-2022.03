{
  "nbformat": 4,
  "nbformat_minor": 0,
  "metadata": {
    "colab": {
      "name": "u_22리스트운용.ipynb",
      "provenance": []
    },
    "kernelspec": {
      "name": "python3",
      "display_name": "Python 3"
    },
    "language_info": {
      "name": "python"
    }
  },
  "cells": [
    {
      "cell_type": "markdown",
      "source": [
        "# Unit 22. 리스트와 튜플 운용\n",
        "### 22.1 리스트 조작"
      ],
      "metadata": {
        "id": "MxippjBUJ901"
      }
    },
    {
      "cell_type": "code",
      "execution_count": 1,
      "metadata": {
        "colab": {
          "base_uri": "https://localhost:8080/"
        },
        "id": "UWRMMoE3Jrr7",
        "outputId": "a9279c1d-f1bb-4dfa-aef1-63e98cae89f2"
      },
      "outputs": [
        {
          "output_type": "execute_result",
          "data": {
            "text/plain": [
              "25"
            ]
          },
          "metadata": {},
          "execution_count": 1
        }
      ],
      "source": [
        "#sum은 함수 (function)\n",
        "a = [1,3,5,7,9]\n",
        "sum(a)"
      ]
    },
    {
      "cell_type": "code",
      "source": [
        "# append는 method(append: 요소 하나를 추가)\n",
        "a.append(11)\n",
        "a"
      ],
      "metadata": {
        "colab": {
          "base_uri": "https://localhost:8080/"
        },
        "id": "joEpf293Lj_J",
        "outputId": "fa68acd8-4a7a-4a3a-b2be-0ac059ac68bf"
      },
      "execution_count": 2,
      "outputs": [
        {
          "output_type": "execute_result",
          "data": {
            "text/plain": [
              "[1, 3, 5, 7, 9, 11]"
            ]
          },
          "metadata": {},
          "execution_count": 2
        }
      ]
    },
    {
      "cell_type": "markdown",
      "source": [
        "- 리스트에 요소 추가\n",
        "\n",
        "append: 요소하나를 추가(매우 중요)\n",
        "extend: 리스트를 연결하여 확장\n",
        "insert: 특정 인덱스에 요소 추가"
      ],
      "metadata": {
        "id": "TvY4GqpKMTZm"
      }
    },
    {
      "cell_type": "code",
      "source": [
        "a = [10,20,30]\n",
        "a.append(500)\n",
        "a"
      ],
      "metadata": {
        "colab": {
          "base_uri": "https://localhost:8080/"
        },
        "id": "6r_6tWVLL1VR",
        "outputId": "1c53fcf2-0ba5-4006-b0f0-a354274cbe8f"
      },
      "execution_count": 3,
      "outputs": [
        {
          "output_type": "execute_result",
          "data": {
            "text/plain": [
              "[10, 20, 30, 500]"
            ]
          },
          "metadata": {},
          "execution_count": 3
        }
      ]
    },
    {
      "cell_type": "code",
      "source": [
        "# 소수(prime number) - 2,3,5,7,11,...\n",
        "prime_numbers = []\n",
        "\n",
        "def is_prime_number(num):\n",
        "    if num == 2:\n",
        "        return True\n",
        "    for i in range(2, num):\n",
        "        if num % i == 0:\n",
        "            return False\n",
        "    return True\n",
        "\n",
        "for i in range(2,101):\n",
        "    if is_prime_number(i):\n",
        "        prime_numbers.append(i)\n",
        "print(prime_numbers)"
      ],
      "metadata": {
        "colab": {
          "base_uri": "https://localhost:8080/"
        },
        "id": "3OPqYsD0NA-q",
        "outputId": "56e1dfb5-17a2-464f-a22f-c031fccd6e19"
      },
      "execution_count": 7,
      "outputs": [
        {
          "output_type": "stream",
          "name": "stdout",
          "text": [
            "[2, 3, 5, 7, 11, 13, 17, 19, 23, 29, 31, 37, 41, 43, 47, 53, 59, 61, 67, 71, 73, 79, 83, 89, 97]\n"
          ]
        }
      ]
    },
    {
      "cell_type": "code",
      "source": [
        "# 1에서 100까지 7의 배수 리스트 만들기\n",
        "multiple7 = []\n",
        "for i in range(1,101):\n",
        "    if i % 7 == 0:\n",
        "        multiple7.append(i)\n",
        "multiple7"
      ],
      "metadata": {
        "colab": {
          "base_uri": "https://localhost:8080/"
        },
        "id": "atJJ1hmgNn0K",
        "outputId": "5b2bef0e-3c52-47a2-e5e1-89a20136e288"
      },
      "execution_count": 8,
      "outputs": [
        {
          "output_type": "execute_result",
          "data": {
            "text/plain": [
              "[7, 14, 21, 28, 35, 42, 49, 56, 63, 70, 77, 84, 91, 98]"
            ]
          },
          "metadata": {},
          "execution_count": 8
        }
      ]
    },
    {
      "cell_type": "code",
      "source": [
        "a = [10,20,30]\n",
        "a.append([100,200])\n",
        "a"
      ],
      "metadata": {
        "colab": {
          "base_uri": "https://localhost:8080/"
        },
        "id": "NgI84qfNPV7N",
        "outputId": "ca545ad7-852d-4666-b3ab-788be67b49a4"
      },
      "execution_count": 9,
      "outputs": [
        {
          "output_type": "execute_result",
          "data": {
            "text/plain": [
              "[10, 20, 30, [100, 200]]"
            ]
          },
          "metadata": {},
          "execution_count": 9
        }
      ]
    },
    {
      "cell_type": "code",
      "source": [
        "b = [10,20,30]\n",
        "b.extend([100,200])\n",
        "b"
      ],
      "metadata": {
        "colab": {
          "base_uri": "https://localhost:8080/"
        },
        "id": "oLIEGKSnPgIa",
        "outputId": "b6bdc144-5e97-46a0-89bd-8b64a84c193e"
      },
      "execution_count": 10,
      "outputs": [
        {
          "output_type": "execute_result",
          "data": {
            "text/plain": [
              "[10, 20, 30, 100, 200]"
            ]
          },
          "metadata": {},
          "execution_count": 10
        }
      ]
    },
    {
      "cell_type": "code",
      "source": [
        "c = [10,20,30]\n",
        "c.insert(0,100)         # index, element\n",
        "c"
      ],
      "metadata": {
        "colab": {
          "base_uri": "https://localhost:8080/"
        },
        "id": "C5nxcYiTPoCT",
        "outputId": "ac5ecd16-39b4-4353-c028-2b4e4d2b33d3"
      },
      "execution_count": 11,
      "outputs": [
        {
          "output_type": "execute_result",
          "data": {
            "text/plain": [
              "[100, 10, 20, 30]"
            ]
          },
          "metadata": {},
          "execution_count": 11
        }
      ]
    },
    {
      "cell_type": "markdown",
      "source": [
        "- 요소 삭제\n",
        "<pre>\n",
        "pop: 마지막 요소 또는 특정 인덱스의 요소를 삭제\n",
        "remove: 특정 값을 찾아서 삭제"
      ],
      "metadata": {
        "id": "5Hw8tJIQQDBO"
      }
    },
    {
      "cell_type": "code",
      "source": [
        "del c[0]\n",
        "c"
      ],
      "metadata": {
        "colab": {
          "base_uri": "https://localhost:8080/"
        },
        "id": "YdRTFIWsP0xv",
        "outputId": "9751cbc7-bf7e-4304-bc0b-0deced333a81"
      },
      "execution_count": 12,
      "outputs": [
        {
          "output_type": "execute_result",
          "data": {
            "text/plain": [
              "[10, 20, 30]"
            ]
          },
          "metadata": {},
          "execution_count": 12
        }
      ]
    },
    {
      "cell_type": "code",
      "source": [
        "a = [10,20,30]      # 마지막 값을 삭제하면서 그 값을 알려줌\n",
        "last_vlaue = a.pop()\n",
        "last_vlaue, a"
      ],
      "metadata": {
        "colab": {
          "base_uri": "https://localhost:8080/"
        },
        "id": "hMBgvYpZQXb7",
        "outputId": "d41799b5-aef9-4d52-eaae-c264954748ed"
      },
      "execution_count": 17,
      "outputs": [
        {
          "output_type": "execute_result",
          "data": {
            "text/plain": [
              "(30, [10, 20])"
            ]
          },
          "metadata": {},
          "execution_count": 17
        }
      ]
    },
    {
      "cell_type": "code",
      "source": [
        "a"
      ],
      "metadata": {
        "colab": {
          "base_uri": "https://localhost:8080/"
        },
        "id": "Y4eeOm7AQrro",
        "outputId": "b6b3d3c8-068a-4a29-c58f-aaf37edf41c0"
      },
      "execution_count": 14,
      "outputs": [
        {
          "output_type": "execute_result",
          "data": {
            "text/plain": [
              "[10, 20]"
            ]
          },
          "metadata": {},
          "execution_count": 14
        }
      ]
    },
    {
      "cell_type": "code",
      "source": [
        "a = [10,20,30]\n",
        "a.remove(20)\n",
        "a"
      ],
      "metadata": {
        "colab": {
          "base_uri": "https://localhost:8080/"
        },
        "id": "o6ZGggcyQs7P",
        "outputId": "917cebb0-d11e-4ee0-e12f-428f2a3824b4"
      },
      "execution_count": 18,
      "outputs": [
        {
          "output_type": "execute_result",
          "data": {
            "text/plain": [
              "[10, 30]"
            ]
          },
          "metadata": {},
          "execution_count": 18
        }
      ]
    },
    {
      "cell_type": "markdown",
      "source": [
        "- Stack(Last-In, First-Out)\n",
        "- Queue(First-In, First-out)"
      ],
      "metadata": {
        "id": "QNZgLtFHRYiP"
      }
    },
    {
      "cell_type": "markdown",
      "source": [
        "- 특정 값의 인덱스"
      ],
      "metadata": {
        "id": "3FJUunJtSBe2"
      }
    },
    {
      "cell_type": "code",
      "source": [
        "a = [10,20,30,40]\n",
        "a.index(20)"
      ],
      "metadata": {
        "colab": {
          "base_uri": "https://localhost:8080/"
        },
        "id": "PXZuPVFaRRAX",
        "outputId": "bcc906ca-4db2-4ca1-9360-4ff454699e60"
      },
      "execution_count": 21,
      "outputs": [
        {
          "output_type": "execute_result",
          "data": {
            "text/plain": [
              "1"
            ]
          },
          "metadata": {},
          "execution_count": 21
        }
      ]
    },
    {
      "cell_type": "markdown",
      "source": [
        "- 특정 값의 갯수"
      ],
      "metadata": {
        "id": "MDqL-9IiU2__"
      }
    },
    {
      "cell_type": "code",
      "source": [
        "a.count(20)"
      ],
      "metadata": {
        "colab": {
          "base_uri": "https://localhost:8080/"
        },
        "id": "EkyelfdXSHw8",
        "outputId": "d36d4aa2-cef8-443d-a93d-93b2ddef9b38"
      },
      "execution_count": 22,
      "outputs": [
        {
          "output_type": "execute_result",
          "data": {
            "text/plain": [
              "1"
            ]
          },
          "metadata": {},
          "execution_count": 22
        }
      ]
    },
    {
      "cell_type": "markdown",
      "source": [
        "- 리스트의 순서 뒤집기"
      ],
      "metadata": {
        "id": "7NW-Nfg5VKTW"
      }
    },
    {
      "cell_type": "code",
      "source": [
        "a =[10,20,30,40,50]\n",
        "a.reverse()\n",
        "a"
      ],
      "metadata": {
        "colab": {
          "base_uri": "https://localhost:8080/"
        },
        "id": "P1fAn-04U7Js",
        "outputId": "e0adf517-4530-447c-9116-3442d021dea2"
      },
      "execution_count": 23,
      "outputs": [
        {
          "output_type": "execute_result",
          "data": {
            "text/plain": [
              "[50, 40, 30, 20, 10]"
            ]
          },
          "metadata": {},
          "execution_count": 23
        }
      ]
    },
    {
      "cell_type": "code",
      "source": [
        "list(reversed(a))"
      ],
      "metadata": {
        "colab": {
          "base_uri": "https://localhost:8080/"
        },
        "id": "KCvZwR5pVaX4",
        "outputId": "1c3a0ca0-63de-4933-97cb-cf501815d80c"
      },
      "execution_count": 24,
      "outputs": [
        {
          "output_type": "execute_result",
          "data": {
            "text/plain": [
              "[10, 20, 30, 40, 50]"
            ]
          },
          "metadata": {},
          "execution_count": 24
        }
      ]
    },
    {
      "cell_type": "code",
      "source": [
        "a"
      ],
      "metadata": {
        "colab": {
          "base_uri": "https://localhost:8080/"
        },
        "id": "wUYWyQquVeSz",
        "outputId": "0681ea4e-89bb-4c0a-c142-f6372e6d2865"
      },
      "execution_count": 25,
      "outputs": [
        {
          "output_type": "execute_result",
          "data": {
            "text/plain": [
              "[50, 40, 30, 20, 10]"
            ]
          },
          "metadata": {},
          "execution_count": 25
        }
      ]
    },
    {
      "cell_type": "code",
      "source": [
        "a[:-1]"
      ],
      "metadata": {
        "colab": {
          "base_uri": "https://localhost:8080/"
        },
        "id": "uDut8HAQViFo",
        "outputId": "82fa5491-069e-42db-d899-de8ab91fe8ab"
      },
      "execution_count": 26,
      "outputs": [
        {
          "output_type": "execute_result",
          "data": {
            "text/plain": [
              "[50, 40, 30, 20]"
            ]
          },
          "metadata": {},
          "execution_count": 26
        }
      ]
    },
    {
      "cell_type": "markdown",
      "source": [
        "- 정렬(Sort)"
      ],
      "metadata": {
        "id": "-UBaRUNmWaMX"
      }
    },
    {
      "cell_type": "code",
      "source": [
        "a = [10,20,50,30,40]\n",
        "a.sort()\n",
        "a"
      ],
      "metadata": {
        "colab": {
          "base_uri": "https://localhost:8080/"
        },
        "id": "KUmEvbuWV6xd",
        "outputId": "40be51ee-8495-458f-b33e-ab2de342fb18"
      },
      "execution_count": 27,
      "outputs": [
        {
          "output_type": "execute_result",
          "data": {
            "text/plain": [
              "[10, 20, 30, 40, 50]"
            ]
          },
          "metadata": {},
          "execution_count": 27
        }
      ]
    },
    {
      "cell_type": "code",
      "source": [
        "# 반복문으로 sort 구현\n",
        "for i in range(5-1):\n",
        "    for k in range(i+1, 5):\n",
        "        if a[i] > a[k]:\n",
        "            a[i], a[k] = a[k], a[i]\n",
        "a"
      ],
      "metadata": {
        "colab": {
          "base_uri": "https://localhost:8080/"
        },
        "id": "oJ2j-D3SXC7S",
        "outputId": "a62edf97-dc02-4f16-ad1f-278e72b1df47"
      },
      "execution_count": 28,
      "outputs": [
        {
          "output_type": "execute_result",
          "data": {
            "text/plain": [
              "[10, 20, 30, 40, 50]"
            ]
          },
          "metadata": {},
          "execution_count": 28
        }
      ]
    },
    {
      "cell_type": "code",
      "source": [
        "a = [10,20,50,30,40,5,25]\n",
        "for i in range(len(a)-1):\n",
        "    for k in range(i+1, len(a)):\n",
        "        if a[i] > a[k]:\n",
        "            a[i], a[k] = a[k], a[i]\n",
        "a"
      ],
      "metadata": {
        "colab": {
          "base_uri": "https://localhost:8080/"
        },
        "id": "hnLmEQRNYXWu",
        "outputId": "b8279c66-3ddf-4d1d-c41b-e120ad6d0e40"
      },
      "execution_count": 29,
      "outputs": [
        {
          "output_type": "execute_result",
          "data": {
            "text/plain": [
              "[5, 10, 20, 25, 30, 40, 50]"
            ]
          },
          "metadata": {},
          "execution_count": 29
        }
      ]
    },
    {
      "cell_type": "code",
      "source": [
        "# 올림차순(asecending order)\n",
        "a = [10,20,50,30,40,5,25]\n",
        "a.sort()\n",
        "a"
      ],
      "metadata": {
        "colab": {
          "base_uri": "https://localhost:8080/"
        },
        "id": "JC4NtSWRZB-j",
        "outputId": "c5614006-0359-4a5f-c7b0-daa1050bb8de"
      },
      "execution_count": 31,
      "outputs": [
        {
          "output_type": "execute_result",
          "data": {
            "text/plain": [
              "[5, 10, 20, 25, 30, 40, 50]"
            ]
          },
          "metadata": {},
          "execution_count": 31
        }
      ]
    },
    {
      "cell_type": "code",
      "source": [
        "# 내림차순(descending order)\n",
        "a = [10,20,50,30,40,5,25]\n",
        "a.sort(reverse=True)\n",
        "a"
      ],
      "metadata": {
        "colab": {
          "base_uri": "https://localhost:8080/"
        },
        "id": "bU_xBehPY74F",
        "outputId": "5e3a2d1a-fbbd-4306-cc77-3e3d04397103"
      },
      "execution_count": 30,
      "outputs": [
        {
          "output_type": "execute_result",
          "data": {
            "text/plain": [
              "[50, 40, 30, 25, 20, 10, 5]"
            ]
          },
          "metadata": {},
          "execution_count": 30
        }
      ]
    },
    {
      "cell_type": "code",
      "source": [
        "# 다음중 상위 점수 3개\n",
        "import random\n",
        "numbers = []\n",
        "for i in range(20):\n",
        "    numbers.append(random.randint(1,100))\n",
        "numbers"
      ],
      "metadata": {
        "colab": {
          "base_uri": "https://localhost:8080/"
        },
        "id": "VkFr28uKZA8Y",
        "outputId": "a8dbf7eb-8d6c-416c-bc81-478a7daef54f"
      },
      "execution_count": 32,
      "outputs": [
        {
          "output_type": "execute_result",
          "data": {
            "text/plain": [
              "[68, 39, 13, 69, 2, 86, 78, 21, 12, 78, 21, 22, 89, 40, 80, 98, 5, 92, 68, 69]"
            ]
          },
          "metadata": {},
          "execution_count": 32
        }
      ]
    },
    {
      "cell_type": "code",
      "source": [
        "import random\n",
        "numbers = []\n",
        "for i in range(30):\n",
        "    numbers.append(random.randint(1,100))\n",
        "print(numbers)"
      ],
      "metadata": {
        "colab": {
          "base_uri": "https://localhost:8080/"
        },
        "id": "fCN8kyGmZsb4",
        "outputId": "6f46234e-89ae-4c76-d45d-f4367faf2587"
      },
      "execution_count": 33,
      "outputs": [
        {
          "output_type": "stream",
          "name": "stdout",
          "text": [
            "[26, 75, 87, 13, 13, 72, 60, 40, 99, 17, 36, 51, 39, 42, 23, 45, 44, 10, 64, 38, 54, 28, 2, 42, 91, 23, 12, 47, 17, 85]\n"
          ]
        }
      ]
    },
    {
      "cell_type": "code",
      "source": [
        "# 상위 점수 구하는 방법\n",
        "numbers.sort(reverse=True)\n",
        "numbers[:3]"
      ],
      "metadata": {
        "colab": {
          "base_uri": "https://localhost:8080/"
        },
        "id": "50SrVn-wZ_Dq",
        "outputId": "73ae5cc1-5f38-4e99-8d8e-15552449c642"
      },
      "execution_count": 35,
      "outputs": [
        {
          "output_type": "execute_result",
          "data": {
            "text/plain": [
              "[99, 91, 87]"
            ]
          },
          "metadata": {},
          "execution_count": 35
        }
      ]
    },
    {
      "cell_type": "code",
      "source": [
        "sorted(numbers, reverse=True)[:3]"
      ],
      "metadata": {
        "colab": {
          "base_uri": "https://localhost:8080/"
        },
        "id": "luSP8amPaaPR",
        "outputId": "42533d70-e6b6-4639-aabc-f16f29fc577d"
      },
      "execution_count": 37,
      "outputs": [
        {
          "output_type": "execute_result",
          "data": {
            "text/plain": [
              "[99, 91, 87]"
            ]
          },
          "metadata": {},
          "execution_count": 37
        }
      ]
    },
    {
      "cell_type": "markdown",
      "source": [
        "- 리스트의 모든 요소 삭제"
      ],
      "metadata": {
        "id": "Y-LItt_gbLB5"
      }
    },
    {
      "cell_type": "code",
      "source": [
        "a = [10,20,30]\n",
        "a.clear()\n",
        "a"
      ],
      "metadata": {
        "colab": {
          "base_uri": "https://localhost:8080/"
        },
        "id": "6gBOg7x3bACW",
        "outputId": "e4635074-0e8c-493e-dbd2-0e5054717315"
      },
      "execution_count": 38,
      "outputs": [
        {
          "output_type": "execute_result",
          "data": {
            "text/plain": [
              "[]"
            ]
          },
          "metadata": {},
          "execution_count": 38
        }
      ]
    },
    {
      "cell_type": "markdown",
      "source": [
        "- 리스트의 슬라이스"
      ],
      "metadata": {
        "id": "DXMr93zZbjZv"
      }
    },
    {
      "cell_type": "code",
      "source": [
        "a = [10,20,30]\n",
        "a.append([400,500])\n",
        "a"
      ],
      "metadata": {
        "colab": {
          "base_uri": "https://localhost:8080/"
        },
        "id": "A4jb4WsdbRtQ",
        "outputId": "d564a249-3f57-42d1-c3e8-e54e5bf76154"
      },
      "execution_count": 39,
      "outputs": [
        {
          "output_type": "execute_result",
          "data": {
            "text/plain": [
              "[10, 20, 30, [400, 500]]"
            ]
          },
          "metadata": {},
          "execution_count": 39
        }
      ]
    },
    {
      "cell_type": "code",
      "source": [
        "a = [10,20,30]\n",
        "a.extend([400,500])\n",
        "a"
      ],
      "metadata": {
        "colab": {
          "base_uri": "https://localhost:8080/"
        },
        "id": "TwXf5jBFcRZX",
        "outputId": "29db9a90-9c93-4440-bbc5-3461b5bc4cde"
      },
      "execution_count": 40,
      "outputs": [
        {
          "output_type": "execute_result",
          "data": {
            "text/plain": [
              "[10, 20, 30, 400, 500]"
            ]
          },
          "metadata": {},
          "execution_count": 40
        }
      ]
    },
    {
      "cell_type": "code",
      "source": [
        "a = [10,20,30]\n",
        "a[len(a):] = [400,500]\n",
        "a"
      ],
      "metadata": {
        "colab": {
          "base_uri": "https://localhost:8080/"
        },
        "id": "Tz-cUmbXcVdh",
        "outputId": "0f02caf3-c0b1-49fc-f456-265fe8d0e4d2"
      },
      "execution_count": 41,
      "outputs": [
        {
          "output_type": "execute_result",
          "data": {
            "text/plain": [
              "[10, 20, 30, 400, 500]"
            ]
          },
          "metadata": {},
          "execution_count": 41
        }
      ]
    },
    {
      "cell_type": "code",
      "source": [
        "a=[10,20,30]\n",
        "a[1:1] = [500,600]\n",
        "a"
      ],
      "metadata": {
        "colab": {
          "base_uri": "https://localhost:8080/"
        },
        "id": "JN4hQIYgcfIN",
        "outputId": "197ea40e-9591-4f7b-e99c-addca0e55ebb"
      },
      "execution_count": 42,
      "outputs": [
        {
          "output_type": "execute_result",
          "data": {
            "text/plain": [
              "[10, 500, 600, 20, 30]"
            ]
          },
          "metadata": {},
          "execution_count": 42
        }
      ]
    },
    {
      "cell_type": "code",
      "source": [
        "a = [10,20,30]\n",
        "a[3:] = [50,60]\n",
        "a"
      ],
      "metadata": {
        "colab": {
          "base_uri": "https://localhost:8080/"
        },
        "id": "5vEysA_xcwYe",
        "outputId": "d7235b8e-a895-42f9-d4b7-25485946dd4c"
      },
      "execution_count": 45,
      "outputs": [
        {
          "output_type": "execute_result",
          "data": {
            "text/plain": [
              "[10, 20, 30, 50, 60]"
            ]
          },
          "metadata": {},
          "execution_count": 45
        }
      ]
    },
    {
      "cell_type": "markdown",
      "source": [
        "### 22.2 리스트의 할당과 복사"
      ],
      "metadata": {
        "id": "k53Tg_fddq9r"
      }
    },
    {
      "cell_type": "code",
      "source": [
        "a = [0,0,0]\n",
        "b=a"
      ],
      "metadata": {
        "id": "FkKNQItGc_aL"
      },
      "execution_count": 46,
      "outputs": []
    },
    {
      "cell_type": "code",
      "source": [
        "b[1]=10\n",
        "b"
      ],
      "metadata": {
        "colab": {
          "base_uri": "https://localhost:8080/"
        },
        "id": "o9tzi1cPeEo3",
        "outputId": "11fdf758-aaee-47f6-b620-d193602f9f7b"
      },
      "execution_count": 47,
      "outputs": [
        {
          "output_type": "execute_result",
          "data": {
            "text/plain": [
              "[0, 10, 0]"
            ]
          },
          "metadata": {},
          "execution_count": 47
        }
      ]
    },
    {
      "cell_type": "code",
      "source": [
        "# side effect로 의도하지 않았던 a 값이 변경됨\n",
        "a"
      ],
      "metadata": {
        "colab": {
          "base_uri": "https://localhost:8080/"
        },
        "id": "82PTrB9OeGr1",
        "outputId": "3d563a77-89c8-48bb-9be5-a136594a35f8"
      },
      "execution_count": 48,
      "outputs": [
        {
          "output_type": "execute_result",
          "data": {
            "text/plain": [
              "[0, 10, 0]"
            ]
          },
          "metadata": {},
          "execution_count": 48
        }
      ]
    },
    {
      "cell_type": "code",
      "source": [
        "a is b"
      ],
      "metadata": {
        "colab": {
          "base_uri": "https://localhost:8080/"
        },
        "id": "ont3T3EDeIOs",
        "outputId": "ea228cd8-55c9-4a4c-c9f2-87b22052321c"
      },
      "execution_count": 49,
      "outputs": [
        {
          "output_type": "execute_result",
          "data": {
            "text/plain": [
              "True"
            ]
          },
          "metadata": {},
          "execution_count": 49
        }
      ]
    },
    {
      "cell_type": "markdown",
      "source": [
        "- 리스트의 복사"
      ],
      "metadata": {
        "id": "HiDuJgbnfYsU"
      }
    },
    {
      "cell_type": "code",
      "source": [
        "# shallow copy\n",
        "a = [0,0,0]\n",
        "b= a.copy()\n",
        "b[1] = 20\n",
        "b"
      ],
      "metadata": {
        "colab": {
          "base_uri": "https://localhost:8080/"
        },
        "id": "MbpeJZkIfAK9",
        "outputId": "d1bb191c-97d9-4956-d752-89aee83f9032"
      },
      "execution_count": 50,
      "outputs": [
        {
          "output_type": "execute_result",
          "data": {
            "text/plain": [
              "[0, 20, 0]"
            ]
          },
          "metadata": {},
          "execution_count": 50
        }
      ]
    },
    {
      "cell_type": "code",
      "source": [
        "a"
      ],
      "metadata": {
        "colab": {
          "base_uri": "https://localhost:8080/"
        },
        "id": "yZcuk19_fLN_",
        "outputId": "46a24052-7a77-4fdb-c98e-84a14a4370c6"
      },
      "execution_count": 51,
      "outputs": [
        {
          "output_type": "execute_result",
          "data": {
            "text/plain": [
              "[0, 0, 0]"
            ]
          },
          "metadata": {},
          "execution_count": 51
        }
      ]
    },
    {
      "cell_type": "code",
      "source": [
        "# 2차원 이상에서는 Deep copy가 필요함\n",
        "a = [[0,0],[0,0]]\n",
        "b = a.copy()\n",
        "b[1][1] = 30\n",
        "b"
      ],
      "metadata": {
        "colab": {
          "base_uri": "https://localhost:8080/"
        },
        "id": "aobEWjMhfNCY",
        "outputId": "6aa7ec7d-b9cc-41a2-a81a-c22fc8fc6b22"
      },
      "execution_count": 52,
      "outputs": [
        {
          "output_type": "execute_result",
          "data": {
            "text/plain": [
              "[[0, 0], [0, 30]]"
            ]
          },
          "metadata": {},
          "execution_count": 52
        }
      ]
    },
    {
      "cell_type": "code",
      "source": [
        "a"
      ],
      "metadata": {
        "colab": {
          "base_uri": "https://localhost:8080/"
        },
        "id": "IsU9qlYmfniq",
        "outputId": "5c9d1adb-02c0-435f-b326-8f9661e4042d"
      },
      "execution_count": 53,
      "outputs": [
        {
          "output_type": "execute_result",
          "data": {
            "text/plain": [
              "[[0, 0], [0, 30]]"
            ]
          },
          "metadata": {},
          "execution_count": 53
        }
      ]
    },
    {
      "cell_type": "markdown",
      "source": [
        "### 23.3 반복문과 리스트"
      ],
      "metadata": {
        "id": "1Ufscvl9jDMq"
      }
    },
    {
      "cell_type": "code",
      "source": [
        "fruits = ['apple', 'banana', 'cherry']\n",
        "for fruit in fruits:\n",
        "    print(fruit)"
      ],
      "metadata": {
        "colab": {
          "base_uri": "https://localhost:8080/"
        },
        "id": "-MDcVV7RfowY",
        "outputId": "1672b42a-6a31-4a31-ac3d-5fb207a8ddba"
      },
      "execution_count": 58,
      "outputs": [
        {
          "output_type": "stream",
          "name": "stdout",
          "text": [
            "apple\n",
            "banana\n",
            "cherry\n"
          ]
        }
      ]
    },
    {
      "cell_type": "code",
      "source": [
        "for index, item in enumerate(fruits):\n",
        "    print(index, item)"
      ],
      "metadata": {
        "colab": {
          "base_uri": "https://localhost:8080/"
        },
        "id": "8SBlSJXCjdN8",
        "outputId": "8e1651cd-2bfd-4e43-f46d-3f22e5502611"
      },
      "execution_count": 59,
      "outputs": [
        {
          "output_type": "stream",
          "name": "stdout",
          "text": [
            "0 apple\n",
            "1 banana\n",
            "2 cherry\n"
          ]
        }
      ]
    },
    {
      "cell_type": "code",
      "source": [
        "for index, item in enumerate(fruits, start=1):\n",
        "    print(index, item)"
      ],
      "metadata": {
        "colab": {
          "base_uri": "https://localhost:8080/"
        },
        "id": "qq8kjoiBjs7r",
        "outputId": "86cf3d8f-078d-44ee-bbde-ce63df5076e7"
      },
      "execution_count": 61,
      "outputs": [
        {
          "output_type": "stream",
          "name": "stdout",
          "text": [
            "1 apple\n",
            "2 banana\n",
            "3 cherry\n"
          ]
        }
      ]
    },
    {
      "cell_type": "code",
      "source": [
        "for i in range(len(fruits)):\n",
        "    print(i, fruits[i])"
      ],
      "metadata": {
        "colab": {
          "base_uri": "https://localhost:8080/"
        },
        "id": "0VKRfUY3j6h0",
        "outputId": "d54a12aa-86aa-4254-b2ee-789d12f41277"
      },
      "execution_count": 62,
      "outputs": [
        {
          "output_type": "stream",
          "name": "stdout",
          "text": [
            "0 apple\n",
            "1 banana\n",
            "2 cherry\n"
          ]
        }
      ]
    },
    {
      "cell_type": "markdown",
      "source": [
        "### 22.4 min, max, sum"
      ],
      "metadata": {
        "id": "asBBVF3fkOiK"
      }
    },
    {
      "cell_type": "code",
      "source": [
        "a= [38,21,53,62,19]\n",
        "smallest = a[0]\n",
        "for i in a:\n",
        "    if i  < smallest:\n",
        "        smallest = i\n",
        "smallest"
      ],
      "metadata": {
        "colab": {
          "base_uri": "https://localhost:8080/"
        },
        "id": "NCXslnRzkEi1",
        "outputId": "cbcb9fd2-4ed7-4596-aa99-53937670ba3d"
      },
      "execution_count": 64,
      "outputs": [
        {
          "output_type": "execute_result",
          "data": {
            "text/plain": [
              "19"
            ]
          },
          "metadata": {},
          "execution_count": 64
        }
      ]
    },
    {
      "cell_type": "code",
      "source": [
        "largest = 0\n",
        "for i in a:\n",
        "    if i > largest:\n",
        "        largest = i\n",
        "largest"
      ],
      "metadata": {
        "colab": {
          "base_uri": "https://localhost:8080/"
        },
        "id": "89C28mPtkp9j",
        "outputId": "744176b8-f9d4-41f8-f8a5-6cb239c91f33"
      },
      "execution_count": 65,
      "outputs": [
        {
          "output_type": "execute_result",
          "data": {
            "text/plain": [
              "62"
            ]
          },
          "metadata": {},
          "execution_count": 65
        }
      ]
    },
    {
      "cell_type": "code",
      "source": [
        "min(a), max(a)"
      ],
      "metadata": {
        "colab": {
          "base_uri": "https://localhost:8080/"
        },
        "id": "8lgcQpWdk3yK",
        "outputId": "86cbd571-f746-4644-d0c0-1aef895e943e"
      },
      "execution_count": 66,
      "outputs": [
        {
          "output_type": "execute_result",
          "data": {
            "text/plain": [
              "(19, 62)"
            ]
          },
          "metadata": {},
          "execution_count": 66
        }
      ]
    },
    {
      "cell_type": "code",
      "source": [
        "sum(a)"
      ],
      "metadata": {
        "colab": {
          "base_uri": "https://localhost:8080/"
        },
        "id": "aS-rXD3SlKGh",
        "outputId": "bacdc64a-1af1-4f24-bd89-8b34bf7bc991"
      },
      "execution_count": 67,
      "outputs": [
        {
          "output_type": "execute_result",
          "data": {
            "text/plain": [
              "193"
            ]
          },
          "metadata": {},
          "execution_count": 67
        }
      ]
    },
    {
      "cell_type": "markdown",
      "source": [
        "### 22.5 리스트 표현식(comprehension)"
      ],
      "metadata": {
        "id": "F3DEhlzGlTsT"
      }
    },
    {
      "cell_type": "code",
      "source": [
        "# 1에서 10까지 제곱수로 된 리스트 만들기\n",
        "sq_list = []\n",
        "for i in range(1,11):\n",
        "    sq_list.append(i*i)\n",
        "sq_list"
      ],
      "metadata": {
        "colab": {
          "base_uri": "https://localhost:8080/"
        },
        "id": "h4QXi2RblLLB",
        "outputId": "abfc5242-3c1c-4e50-d02a-4e6487e0fe7e"
      },
      "execution_count": 68,
      "outputs": [
        {
          "output_type": "execute_result",
          "data": {
            "text/plain": [
              "[1, 4, 9, 16, 25, 36, 49, 64, 81, 100]"
            ]
          },
          "metadata": {},
          "execution_count": 68
        }
      ]
    },
    {
      "cell_type": "code",
      "source": [
        "sq_list = [i*i for i in range(1,11)]\n",
        "sq_list"
      ],
      "metadata": {
        "colab": {
          "base_uri": "https://localhost:8080/"
        },
        "id": "CYwXFkOulpf8",
        "outputId": "993aceed-db47-4c03-d749-ee841f647f30"
      },
      "execution_count": 69,
      "outputs": [
        {
          "output_type": "execute_result",
          "data": {
            "text/plain": [
              "[1, 4, 9, 16, 25, 36, 49, 64, 81, 100]"
            ]
          },
          "metadata": {},
          "execution_count": 69
        }
      ]
    },
    {
      "cell_type": "code",
      "source": [
        "odd_sq_list = []\n",
        "for i in range(1, 11):\n",
        "    if i % 2 == 1:\n",
        "        odd_sq_list.append(i*i)\n",
        "odd_sq_list"
      ],
      "metadata": {
        "colab": {
          "base_uri": "https://localhost:8080/"
        },
        "id": "aaQC5o3dl3mI",
        "outputId": "86f5c28e-2e93-45fd-d3e6-a5f2ef286ff2"
      },
      "execution_count": 71,
      "outputs": [
        {
          "output_type": "execute_result",
          "data": {
            "text/plain": [
              "[1, 9, 25, 49, 81]"
            ]
          },
          "metadata": {},
          "execution_count": 71
        }
      ]
    },
    {
      "cell_type": "code",
      "source": [
        "sq_list = [i*i for i in range(1,11) if i % 2 ==1]\n",
        "sq_list"
      ],
      "metadata": {
        "colab": {
          "base_uri": "https://localhost:8080/"
        },
        "id": "tjKuqhZ5mYHt",
        "outputId": "062fd7ac-949e-496c-dc66-91fbf1923553"
      },
      "execution_count": 72,
      "outputs": [
        {
          "output_type": "execute_result",
          "data": {
            "text/plain": [
              "[1, 9, 25, 49, 81]"
            ]
          },
          "metadata": {},
          "execution_count": 72
        }
      ]
    },
    {
      "cell_type": "code",
      "source": [
        "# 구구단\n",
        "a = [i * k for i in range(2,10) for k in range(1,10)]\n",
        "print(a)"
      ],
      "metadata": {
        "colab": {
          "base_uri": "https://localhost:8080/"
        },
        "id": "6TjeCE1Imu3G",
        "outputId": "5ac1b4ab-abc1-479c-ecfe-141f3f99e217"
      },
      "execution_count": 74,
      "outputs": [
        {
          "output_type": "stream",
          "name": "stdout",
          "text": [
            "[2, 4, 6, 8, 10, 12, 14, 16, 18, 3, 6, 9, 12, 15, 18, 21, 24, 27, 4, 8, 12, 16, 20, 24, 28, 32, 36, 5, 10, 15, 20, 25, 30, 35, 40, 45, 6, 12, 18, 24, 30, 36, 42, 48, 54, 7, 14, 21, 28, 35, 42, 49, 56, 63, 8, 16, 24, 32, 40, 48, 56, 64, 72, 9, 18, 27, 36, 45, 54, 63, 72, 81]\n"
          ]
        }
      ]
    },
    {
      "cell_type": "code",
      "source": [
        "a = [i * k for i in range(2,10) \n",
        "                for k in range(1,10)]\n",
        "print(a)"
      ],
      "metadata": {
        "colab": {
          "base_uri": "https://localhost:8080/"
        },
        "id": "ENAc0FSinkQP",
        "outputId": "7ccb0575-3414-4881-fdea-f04e8874486f"
      },
      "execution_count": 76,
      "outputs": [
        {
          "output_type": "stream",
          "name": "stdout",
          "text": [
            "[2, 4, 6, 8, 10, 12, 14, 16, 18, 3, 6, 9, 12, 15, 18, 21, 24, 27, 4, 8, 12, 16, 20, 24, 28, 32, 36, 5, 10, 15, 20, 25, 30, 35, 40, 45, 6, 12, 18, 24, 30, 36, 42, 48, 54, 7, 14, 21, 28, 35, 42, 49, 56, 63, 8, 16, 24, 32, 40, 48, 56, 64, 72, 9, 18, 27, 36, 45, 54, 63, 72, 81]\n"
          ]
        }
      ]
    },
    {
      "cell_type": "markdown",
      "source": [
        "### 22.6 map 적용"
      ],
      "metadata": {
        "id": "VmOftAyFoMv0"
      }
    },
    {
      "cell_type": "code",
      "source": [
        "a = [1.2, 2.5, 3.7, 4.6]\n",
        "b = []\n",
        "for element in a:\n",
        "    b.append(int(element))\n",
        "b"
      ],
      "metadata": {
        "colab": {
          "base_uri": "https://localhost:8080/"
        },
        "id": "04zSu3KYnyAT",
        "outputId": "e8c1ae03-b831-4e31-b2b3-a611c4d653da"
      },
      "execution_count": 79,
      "outputs": [
        {
          "output_type": "execute_result",
          "data": {
            "text/plain": [
              "[1, 2, 3, 4]"
            ]
          },
          "metadata": {},
          "execution_count": 79
        }
      ]
    },
    {
      "cell_type": "code",
      "source": [
        "b = list(map(int,a))\n",
        "b"
      ],
      "metadata": {
        "colab": {
          "base_uri": "https://localhost:8080/"
        },
        "id": "ZvjlEw23oXyK",
        "outputId": "892b6438-b533-47a1-9e2d-4cd832feb3fb"
      },
      "execution_count": 80,
      "outputs": [
        {
          "output_type": "execute_result",
          "data": {
            "text/plain": [
              "[1, 2, 3, 4]"
            ]
          },
          "metadata": {},
          "execution_count": 80
        }
      ]
    },
    {
      "cell_type": "code",
      "source": [
        "b = [int(element) for element in a]\n",
        "b"
      ],
      "metadata": {
        "colab": {
          "base_uri": "https://localhost:8080/"
        },
        "id": "fdJLhaHmpMFh",
        "outputId": "9434f7c7-43bb-4b70-976a-b897d1ef0ce9"
      },
      "execution_count": 82,
      "outputs": [
        {
          "output_type": "execute_result",
          "data": {
            "text/plain": [
              "[1, 2, 3, 4]"
            ]
          },
          "metadata": {},
          "execution_count": 82
        }
      ]
    },
    {
      "cell_type": "code",
      "source": [
        "# a의 제곱수로 된 리스트\n",
        "sq_a = []\n",
        "for element in a:\n",
        "    sq_a.append(element*element)\n",
        "sq_a"
      ],
      "metadata": {
        "colab": {
          "base_uri": "https://localhost:8080/"
        },
        "id": "KOCvdi9opk4r",
        "outputId": "1e682167-8915-4081-ce6e-5eb4e91a4bb0"
      },
      "execution_count": 84,
      "outputs": [
        {
          "output_type": "execute_result",
          "data": {
            "text/plain": [
              "[1, 4, 9, 16]"
            ]
          },
          "metadata": {},
          "execution_count": 84
        }
      ]
    },
    {
      "cell_type": "code",
      "source": [
        "# 리스트 표현식으로\n",
        "sq_a = [element*element for element in a]\n",
        "sq_a"
      ],
      "metadata": {
        "colab": {
          "base_uri": "https://localhost:8080/"
        },
        "id": "u38TFZIvqGxZ",
        "outputId": "cb891617-3d73-4e25-d3a5-930102c919a4"
      },
      "execution_count": 86,
      "outputs": [
        {
          "output_type": "execute_result",
          "data": {
            "text/plain": [
              "[1, 4, 9, 16]"
            ]
          },
          "metadata": {},
          "execution_count": 86
        }
      ]
    },
    {
      "cell_type": "code",
      "source": [
        "# map 적용\n",
        "def square(x):\n",
        "    return x*x\n",
        "\n",
        "sq_a = list(map(square, a))\n",
        "sq_a"
      ],
      "metadata": {
        "colab": {
          "base_uri": "https://localhost:8080/"
        },
        "id": "wLdVEn56qWeR",
        "outputId": "4e14cc71-b79e-4930-ff78-7912619222f3"
      },
      "execution_count": 89,
      "outputs": [
        {
          "output_type": "execute_result",
          "data": {
            "text/plain": [
              "[1, 4, 9, 16]"
            ]
          },
          "metadata": {},
          "execution_count": 89
        }
      ]
    },
    {
      "cell_type": "code",
      "source": [
        "# 익명(lambda)함수와 map 적용\n",
        "sq_a = list(map(lambda x: x*x, a))\n",
        "sq_a"
      ],
      "metadata": {
        "colab": {
          "base_uri": "https://localhost:8080/"
        },
        "id": "vrZwu1BLqlI5",
        "outputId": "4ce343b0-d807-48b9-e1be-6339bf589589"
      },
      "execution_count": 90,
      "outputs": [
        {
          "output_type": "execute_result",
          "data": {
            "text/plain": [
              "[1, 4, 9, 16]"
            ]
          },
          "metadata": {},
          "execution_count": 90
        }
      ]
    },
    {
      "cell_type": "code",
      "source": [
        ""
      ],
      "metadata": {
        "id": "QIGQbG9Lq9RH"
      },
      "execution_count": null,
      "outputs": []
    }
  ]
}