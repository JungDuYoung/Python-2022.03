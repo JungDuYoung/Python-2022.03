{
  "nbformat": 4,
  "nbformat_minor": 0,
  "metadata": {
    "colab": {
      "name": "u_23 2차원 리스트.ipynb",
      "provenance": []
    },
    "kernelspec": {
      "name": "python3",
      "display_name": "Python 3"
    },
    "language_info": {
      "name": "python"
    }
  },
  "cells": [
    {
      "cell_type": "markdown",
      "source": [
        "### Unit 23 2차원 리스트"
      ],
      "metadata": {
        "id": "dwe1adON6ugv"
      }
    },
    {
      "cell_type": "markdown",
      "source": [
        "###23.1 2차원 리스트"
      ],
      "metadata": {
        "id": "vjVHJLUq7Tur"
      }
    },
    {
      "cell_type": "code",
      "execution_count": 1,
      "metadata": {
        "colab": {
          "base_uri": "https://localhost:8080/"
        },
        "id": "tvQcFwJx6Kue",
        "outputId": "b0c5e1cd-dd66-48f9-dbfe-3cb4e100358b"
      },
      "outputs": [
        {
          "output_type": "execute_result",
          "data": {
            "text/plain": [
              "[[10, 20], [30, 40], [50, 60]]"
            ]
          },
          "metadata": {},
          "execution_count": 1
        }
      ],
      "source": [
        "a = [[10,20], [30,40], [50,60]]\n",
        "a"
      ]
    },
    {
      "cell_type": "code",
      "source": [
        "print(a)"
      ],
      "metadata": {
        "colab": {
          "base_uri": "https://localhost:8080/"
        },
        "id": "LReo3ln-7RbB",
        "outputId": "668cc7aa-cd19-4f6d-8ab6-e140d146219c"
      },
      "execution_count": 2,
      "outputs": [
        {
          "output_type": "stream",
          "name": "stdout",
          "text": [
            "[[10, 20], [30, 40], [50, 60]]\n"
          ]
        }
      ]
    },
    {
      "cell_type": "code",
      "source": [
        "from pprint import pprint\n",
        "pprint (a, indent=1, width=20)"
      ],
      "metadata": {
        "colab": {
          "base_uri": "https://localhost:8080/"
        },
        "id": "VgJ04SS27S7j",
        "outputId": "5b03c92b-3694-4290-a65e-e94c421f749d"
      },
      "execution_count": 3,
      "outputs": [
        {
          "output_type": "stream",
          "name": "stdout",
          "text": [
            "[[10, 20],\n",
            " [30, 40],\n",
            " [50, 60]]\n"
          ]
        }
      ]
    },
    {
      "cell_type": "code",
      "source": [
        "import numpy as np\n",
        "b = np.arange(1,7).reshape(3,2) * 10\n",
        "b"
      ],
      "metadata": {
        "colab": {
          "base_uri": "https://localhost:8080/"
        },
        "id": "Ag3zKPkB7duH",
        "outputId": "300c4cd1-b3e8-4cb9-eae8-e295a6bb3702"
      },
      "execution_count": 4,
      "outputs": [
        {
          "output_type": "execute_result",
          "data": {
            "text/plain": [
              "array([[10, 20],\n",
              "       [30, 40],\n",
              "       [50, 60]])"
            ]
          },
          "metadata": {},
          "execution_count": 4
        }
      ]
    },
    {
      "cell_type": "code",
      "source": [
        "import pandas as pd\n",
        "df = pd.DataFrame(b)\n",
        "df"
      ],
      "metadata": {
        "colab": {
          "base_uri": "https://localhost:8080/",
          "height": 143
        },
        "id": "DyAg1K4v75ru",
        "outputId": "05bd5b98-b8f8-47ae-ded6-5b9bd583a59d"
      },
      "execution_count": 5,
      "outputs": [
        {
          "output_type": "execute_result",
          "data": {
            "text/plain": [
              "    0   1\n",
              "0  10  20\n",
              "1  30  40\n",
              "2  50  60"
            ],
            "text/html": [
              "\n",
              "  <div id=\"df-2ae04634-e5a9-4b9a-800b-4f37967eb755\">\n",
              "    <div class=\"colab-df-container\">\n",
              "      <div>\n",
              "<style scoped>\n",
              "    .dataframe tbody tr th:only-of-type {\n",
              "        vertical-align: middle;\n",
              "    }\n",
              "\n",
              "    .dataframe tbody tr th {\n",
              "        vertical-align: top;\n",
              "    }\n",
              "\n",
              "    .dataframe thead th {\n",
              "        text-align: right;\n",
              "    }\n",
              "</style>\n",
              "<table border=\"1\" class=\"dataframe\">\n",
              "  <thead>\n",
              "    <tr style=\"text-align: right;\">\n",
              "      <th></th>\n",
              "      <th>0</th>\n",
              "      <th>1</th>\n",
              "    </tr>\n",
              "  </thead>\n",
              "  <tbody>\n",
              "    <tr>\n",
              "      <th>0</th>\n",
              "      <td>10</td>\n",
              "      <td>20</td>\n",
              "    </tr>\n",
              "    <tr>\n",
              "      <th>1</th>\n",
              "      <td>30</td>\n",
              "      <td>40</td>\n",
              "    </tr>\n",
              "    <tr>\n",
              "      <th>2</th>\n",
              "      <td>50</td>\n",
              "      <td>60</td>\n",
              "    </tr>\n",
              "  </tbody>\n",
              "</table>\n",
              "</div>\n",
              "      <button class=\"colab-df-convert\" onclick=\"convertToInteractive('df-2ae04634-e5a9-4b9a-800b-4f37967eb755')\"\n",
              "              title=\"Convert this dataframe to an interactive table.\"\n",
              "              style=\"display:none;\">\n",
              "        \n",
              "  <svg xmlns=\"http://www.w3.org/2000/svg\" height=\"24px\"viewBox=\"0 0 24 24\"\n",
              "       width=\"24px\">\n",
              "    <path d=\"M0 0h24v24H0V0z\" fill=\"none\"/>\n",
              "    <path d=\"M18.56 5.44l.94 2.06.94-2.06 2.06-.94-2.06-.94-.94-2.06-.94 2.06-2.06.94zm-11 1L8.5 8.5l.94-2.06 2.06-.94-2.06-.94L8.5 2.5l-.94 2.06-2.06.94zm10 10l.94 2.06.94-2.06 2.06-.94-2.06-.94-.94-2.06-.94 2.06-2.06.94z\"/><path d=\"M17.41 7.96l-1.37-1.37c-.4-.4-.92-.59-1.43-.59-.52 0-1.04.2-1.43.59L10.3 9.45l-7.72 7.72c-.78.78-.78 2.05 0 2.83L4 21.41c.39.39.9.59 1.41.59.51 0 1.02-.2 1.41-.59l7.78-7.78 2.81-2.81c.8-.78.8-2.07 0-2.86zM5.41 20L4 18.59l7.72-7.72 1.47 1.35L5.41 20z\"/>\n",
              "  </svg>\n",
              "      </button>\n",
              "      \n",
              "  <style>\n",
              "    .colab-df-container {\n",
              "      display:flex;\n",
              "      flex-wrap:wrap;\n",
              "      gap: 12px;\n",
              "    }\n",
              "\n",
              "    .colab-df-convert {\n",
              "      background-color: #E8F0FE;\n",
              "      border: none;\n",
              "      border-radius: 50%;\n",
              "      cursor: pointer;\n",
              "      display: none;\n",
              "      fill: #1967D2;\n",
              "      height: 32px;\n",
              "      padding: 0 0 0 0;\n",
              "      width: 32px;\n",
              "    }\n",
              "\n",
              "    .colab-df-convert:hover {\n",
              "      background-color: #E2EBFA;\n",
              "      box-shadow: 0px 1px 2px rgba(60, 64, 67, 0.3), 0px 1px 3px 1px rgba(60, 64, 67, 0.15);\n",
              "      fill: #174EA6;\n",
              "    }\n",
              "\n",
              "    [theme=dark] .colab-df-convert {\n",
              "      background-color: #3B4455;\n",
              "      fill: #D2E3FC;\n",
              "    }\n",
              "\n",
              "    [theme=dark] .colab-df-convert:hover {\n",
              "      background-color: #434B5C;\n",
              "      box-shadow: 0px 1px 3px 1px rgba(0, 0, 0, 0.15);\n",
              "      filter: drop-shadow(0px 1px 2px rgba(0, 0, 0, 0.3));\n",
              "      fill: #FFFFFF;\n",
              "    }\n",
              "  </style>\n",
              "\n",
              "      <script>\n",
              "        const buttonEl =\n",
              "          document.querySelector('#df-2ae04634-e5a9-4b9a-800b-4f37967eb755 button.colab-df-convert');\n",
              "        buttonEl.style.display =\n",
              "          google.colab.kernel.accessAllowed ? 'block' : 'none';\n",
              "\n",
              "        async function convertToInteractive(key) {\n",
              "          const element = document.querySelector('#df-2ae04634-e5a9-4b9a-800b-4f37967eb755');\n",
              "          const dataTable =\n",
              "            await google.colab.kernel.invokeFunction('convertToInteractive',\n",
              "                                                     [key], {});\n",
              "          if (!dataTable) return;\n",
              "\n",
              "          const docLinkHtml = 'Like what you see? Visit the ' +\n",
              "            '<a target=\"_blank\" href=https://colab.research.google.com/notebooks/data_table.ipynb>data table notebook</a>'\n",
              "            + ' to learn more about interactive tables.';\n",
              "          element.innerHTML = '';\n",
              "          dataTable['output_type'] = 'display_data';\n",
              "          await google.colab.output.renderOutput(dataTable, element);\n",
              "          const docLink = document.createElement('div');\n",
              "          docLink.innerHTML = docLinkHtml;\n",
              "          element.appendChild(docLink);\n",
              "        }\n",
              "      </script>\n",
              "    </div>\n",
              "  </div>\n",
              "  "
            ]
          },
          "metadata": {},
          "execution_count": 5
        }
      ]
    },
    {
      "cell_type": "code",
      "source": [
        "import pandas as pd\n",
        "df = pd.DataFrame(b, columns=['첫째열', '둘째열'])\n",
        "df"
      ],
      "metadata": {
        "colab": {
          "base_uri": "https://localhost:8080/",
          "height": 143
        },
        "id": "rZzq4wMh7-jJ",
        "outputId": "737d0cc9-ad9e-41a7-c79c-918396ba4e39"
      },
      "execution_count": 10,
      "outputs": [
        {
          "output_type": "execute_result",
          "data": {
            "text/plain": [
              "   첫째열  둘째열\n",
              "0   10   20\n",
              "1   30   40\n",
              "2   50   60"
            ],
            "text/html": [
              "\n",
              "  <div id=\"df-ee1a3dc7-f325-424a-99db-2ae27f3a11d8\">\n",
              "    <div class=\"colab-df-container\">\n",
              "      <div>\n",
              "<style scoped>\n",
              "    .dataframe tbody tr th:only-of-type {\n",
              "        vertical-align: middle;\n",
              "    }\n",
              "\n",
              "    .dataframe tbody tr th {\n",
              "        vertical-align: top;\n",
              "    }\n",
              "\n",
              "    .dataframe thead th {\n",
              "        text-align: right;\n",
              "    }\n",
              "</style>\n",
              "<table border=\"1\" class=\"dataframe\">\n",
              "  <thead>\n",
              "    <tr style=\"text-align: right;\">\n",
              "      <th></th>\n",
              "      <th>첫째열</th>\n",
              "      <th>둘째열</th>\n",
              "    </tr>\n",
              "  </thead>\n",
              "  <tbody>\n",
              "    <tr>\n",
              "      <th>0</th>\n",
              "      <td>10</td>\n",
              "      <td>20</td>\n",
              "    </tr>\n",
              "    <tr>\n",
              "      <th>1</th>\n",
              "      <td>30</td>\n",
              "      <td>40</td>\n",
              "    </tr>\n",
              "    <tr>\n",
              "      <th>2</th>\n",
              "      <td>50</td>\n",
              "      <td>60</td>\n",
              "    </tr>\n",
              "  </tbody>\n",
              "</table>\n",
              "</div>\n",
              "      <button class=\"colab-df-convert\" onclick=\"convertToInteractive('df-ee1a3dc7-f325-424a-99db-2ae27f3a11d8')\"\n",
              "              title=\"Convert this dataframe to an interactive table.\"\n",
              "              style=\"display:none;\">\n",
              "        \n",
              "  <svg xmlns=\"http://www.w3.org/2000/svg\" height=\"24px\"viewBox=\"0 0 24 24\"\n",
              "       width=\"24px\">\n",
              "    <path d=\"M0 0h24v24H0V0z\" fill=\"none\"/>\n",
              "    <path d=\"M18.56 5.44l.94 2.06.94-2.06 2.06-.94-2.06-.94-.94-2.06-.94 2.06-2.06.94zm-11 1L8.5 8.5l.94-2.06 2.06-.94-2.06-.94L8.5 2.5l-.94 2.06-2.06.94zm10 10l.94 2.06.94-2.06 2.06-.94-2.06-.94-.94-2.06-.94 2.06-2.06.94z\"/><path d=\"M17.41 7.96l-1.37-1.37c-.4-.4-.92-.59-1.43-.59-.52 0-1.04.2-1.43.59L10.3 9.45l-7.72 7.72c-.78.78-.78 2.05 0 2.83L4 21.41c.39.39.9.59 1.41.59.51 0 1.02-.2 1.41-.59l7.78-7.78 2.81-2.81c.8-.78.8-2.07 0-2.86zM5.41 20L4 18.59l7.72-7.72 1.47 1.35L5.41 20z\"/>\n",
              "  </svg>\n",
              "      </button>\n",
              "      \n",
              "  <style>\n",
              "    .colab-df-container {\n",
              "      display:flex;\n",
              "      flex-wrap:wrap;\n",
              "      gap: 12px;\n",
              "    }\n",
              "\n",
              "    .colab-df-convert {\n",
              "      background-color: #E8F0FE;\n",
              "      border: none;\n",
              "      border-radius: 50%;\n",
              "      cursor: pointer;\n",
              "      display: none;\n",
              "      fill: #1967D2;\n",
              "      height: 32px;\n",
              "      padding: 0 0 0 0;\n",
              "      width: 32px;\n",
              "    }\n",
              "\n",
              "    .colab-df-convert:hover {\n",
              "      background-color: #E2EBFA;\n",
              "      box-shadow: 0px 1px 2px rgba(60, 64, 67, 0.3), 0px 1px 3px 1px rgba(60, 64, 67, 0.15);\n",
              "      fill: #174EA6;\n",
              "    }\n",
              "\n",
              "    [theme=dark] .colab-df-convert {\n",
              "      background-color: #3B4455;\n",
              "      fill: #D2E3FC;\n",
              "    }\n",
              "\n",
              "    [theme=dark] .colab-df-convert:hover {\n",
              "      background-color: #434B5C;\n",
              "      box-shadow: 0px 1px 3px 1px rgba(0, 0, 0, 0.15);\n",
              "      filter: drop-shadow(0px 1px 2px rgba(0, 0, 0, 0.3));\n",
              "      fill: #FFFFFF;\n",
              "    }\n",
              "  </style>\n",
              "\n",
              "      <script>\n",
              "        const buttonEl =\n",
              "          document.querySelector('#df-ee1a3dc7-f325-424a-99db-2ae27f3a11d8 button.colab-df-convert');\n",
              "        buttonEl.style.display =\n",
              "          google.colab.kernel.accessAllowed ? 'block' : 'none';\n",
              "\n",
              "        async function convertToInteractive(key) {\n",
              "          const element = document.querySelector('#df-ee1a3dc7-f325-424a-99db-2ae27f3a11d8');\n",
              "          const dataTable =\n",
              "            await google.colab.kernel.invokeFunction('convertToInteractive',\n",
              "                                                     [key], {});\n",
              "          if (!dataTable) return;\n",
              "\n",
              "          const docLinkHtml = 'Like what you see? Visit the ' +\n",
              "            '<a target=\"_blank\" href=https://colab.research.google.com/notebooks/data_table.ipynb>data table notebook</a>'\n",
              "            + ' to learn more about interactive tables.';\n",
              "          element.innerHTML = '';\n",
              "          dataTable['output_type'] = 'display_data';\n",
              "          await google.colab.output.renderOutput(dataTable, element);\n",
              "          const docLink = document.createElement('div');\n",
              "          docLink.innerHTML = docLinkHtml;\n",
              "          element.appendChild(docLink);\n",
              "        }\n",
              "      </script>\n",
              "    </div>\n",
              "  </div>\n",
              "  "
            ]
          },
          "metadata": {},
          "execution_count": 10
        }
      ]
    },
    {
      "cell_type": "code",
      "source": [
        "# 2차원 리스트의 인덱싱: [행인덱스][열인덱스]\n",
        "a[2][1], a[-1][-1]"
      ],
      "metadata": {
        "colab": {
          "base_uri": "https://localhost:8080/"
        },
        "id": "jpKjw9dS8XYp",
        "outputId": "c5da14b9-8612-4f78-bcc2-b1e5d9c2295a"
      },
      "execution_count": 12,
      "outputs": [
        {
          "output_type": "execute_result",
          "data": {
            "text/plain": [
              "(60, 60)"
            ]
          },
          "metadata": {},
          "execution_count": 12
        }
      ]
    },
    {
      "cell_type": "code",
      "source": [
        "# 넘파이 2차원 어레이 인덱싱: [행, 열]\n",
        "b[2,1], b[-1,-1]"
      ],
      "metadata": {
        "colab": {
          "base_uri": "https://localhost:8080/"
        },
        "id": "UsPCPRUd8hdJ",
        "outputId": "c9041e7a-572a-4ce8-ae6d-c27fbdfffb74"
      },
      "execution_count": 13,
      "outputs": [
        {
          "output_type": "execute_result",
          "data": {
            "text/plain": [
              "(60, 60)"
            ]
          },
          "metadata": {},
          "execution_count": 13
        }
      ]
    },
    {
      "cell_type": "code",
      "source": [
        "# 데이터프레임 인덱싱: [열][행]\n",
        "df['둘째열'][2]"
      ],
      "metadata": {
        "colab": {
          "base_uri": "https://localhost:8080/"
        },
        "id": "RO9DYChO80w-",
        "outputId": "6d08ee33-1cae-4274-f7e3-05dc6f71ca91"
      },
      "execution_count": 14,
      "outputs": [
        {
          "output_type": "execute_result",
          "data": {
            "text/plain": [
              "60"
            ]
          },
          "metadata": {},
          "execution_count": 14
        }
      ]
    },
    {
      "cell_type": "markdown",
      "source": [
        "- 톱니형 리스트"
      ],
      "metadata": {
        "id": "xfp2Sokd9M04"
      }
    },
    {
      "cell_type": "code",
      "source": [
        "a = [[10, 20],\n",
        "     [500, 600, 700],\n",
        "     [9],\n",
        "     [30, 40],\n",
        "     [8],\n",
        "     [800, 900, 1000]]\n",
        "a"
      ],
      "metadata": {
        "colab": {
          "base_uri": "https://localhost:8080/"
        },
        "id": "JikNWyXx9C6Q",
        "outputId": "c6761507-3478-46a0-a13e-18ba0333d80d"
      },
      "execution_count": 15,
      "outputs": [
        {
          "output_type": "execute_result",
          "data": {
            "text/plain": [
              "[[10, 20], [500, 600, 700], [9], [30, 40], [8], [800, 900, 1000]]"
            ]
          },
          "metadata": {},
          "execution_count": 15
        }
      ]
    },
    {
      "cell_type": "markdown",
      "source": [
        "### 23.2 반복문과 2차원 리스트"
      ],
      "metadata": {
        "id": "DcFuJ6bA9fiQ"
      }
    },
    {
      "cell_type": "code",
      "source": [
        "a = [[10, 20], [30, 40], [50, 60]]\n",
        "for row in a:\n",
        "    print(row)"
      ],
      "metadata": {
        "colab": {
          "base_uri": "https://localhost:8080/"
        },
        "id": "y9Q9MSth9XGW",
        "outputId": "67ce5590-5921-4409-c8d0-68337b92fc29"
      },
      "execution_count": 16,
      "outputs": [
        {
          "output_type": "stream",
          "name": "stdout",
          "text": [
            "[10, 20]\n",
            "[30, 40]\n",
            "[50, 60]\n"
          ]
        }
      ]
    },
    {
      "cell_type": "code",
      "source": [
        "for x, y in a:\n",
        "    print(x, y)"
      ],
      "metadata": {
        "colab": {
          "base_uri": "https://localhost:8080/"
        },
        "id": "8A25-doO9uTo",
        "outputId": "649cebbe-625f-43fd-bc14-0084c5766c30"
      },
      "execution_count": 17,
      "outputs": [
        {
          "output_type": "stream",
          "name": "stdout",
          "text": [
            "10 20\n",
            "30 40\n",
            "50 60\n"
          ]
        }
      ]
    },
    {
      "cell_type": "code",
      "source": [
        "for row in a:\n",
        "    for element in row:\n",
        "        print(element, end=' ')\n",
        "    print()"
      ],
      "metadata": {
        "colab": {
          "base_uri": "https://localhost:8080/"
        },
        "id": "vKyShx3U954L",
        "outputId": "f475f419-46a0-4a46-ddcd-0b7bf61b88da"
      },
      "execution_count": 19,
      "outputs": [
        {
          "output_type": "stream",
          "name": "stdout",
          "text": [
            "10 20 \n",
            "30 40 \n",
            "50 60 \n"
          ]
        }
      ]
    },
    {
      "cell_type": "code",
      "source": [
        "a = [[10, 20],\n",
        "     [500, 600, 700],\n",
        "     [9],\n",
        "     [30, 40],\n",
        "     [8],\n",
        "     [800, 900, 1000]]\n",
        "for row in a:\n",
        "    for element in row:\n",
        "        print(element, end=' ')\n",
        "    print()"
      ],
      "metadata": {
        "colab": {
          "base_uri": "https://localhost:8080/"
        },
        "id": "ANWvCcxp-Kqw",
        "outputId": "09d974ac-8271-41be-f4bf-f9e19bbdcd64"
      },
      "execution_count": 20,
      "outputs": [
        {
          "output_type": "stream",
          "name": "stdout",
          "text": [
            "10 20 \n",
            "500 600 700 \n",
            "9 \n",
            "30 40 \n",
            "8 \n",
            "800 900 1000 \n"
          ]
        }
      ]
    },
    {
      "cell_type": "code",
      "source": [
        "len(a), len(a[0]), len(a[1])"
      ],
      "metadata": {
        "colab": {
          "base_uri": "https://localhost:8080/"
        },
        "id": "G-6QuNsI_GTc",
        "outputId": "807308ec-833b-4598-c0ba-bfbe352de48c"
      },
      "execution_count": 21,
      "outputs": [
        {
          "output_type": "execute_result",
          "data": {
            "text/plain": [
              "(6, 2, 3)"
            ]
          },
          "metadata": {},
          "execution_count": 21
        }
      ]
    },
    {
      "cell_type": "code",
      "source": [
        "for i in range(len(a)):\n",
        "    for k in range(len(a[i])):\n",
        "        print(a[i][k], end=' ')\n",
        "    print()"
      ],
      "metadata": {
        "colab": {
          "base_uri": "https://localhost:8080/"
        },
        "id": "nGI3jX9D_eiv",
        "outputId": "150d52c4-eda6-4512-9396-ee7462d0840d"
      },
      "execution_count": 22,
      "outputs": [
        {
          "output_type": "stream",
          "name": "stdout",
          "text": [
            "10 20 \n",
            "500 600 700 \n",
            "9 \n",
            "30 40 \n",
            "8 \n",
            "800 900 1000 \n"
          ]
        }
      ]
    },
    {
      "cell_type": "markdown",
      "source": [
        "### 23.3 반복문으로 리스트 만들기"
      ],
      "metadata": {
        "id": "cAu2eXPH_1Tw"
      }
    },
    {
      "cell_type": "code",
      "source": [
        "# [[10,11], [20,21], [30,31]]\n",
        "for i in range(3):\n",
        "    for k in range(2):\n",
        "        print(10*(i+i)+k, end=' ')\n",
        "    print()"
      ],
      "metadata": {
        "colab": {
          "base_uri": "https://localhost:8080/"
        },
        "id": "DQvM9_j2_qc5",
        "outputId": "8c563304-68a3-468c-dd58-ed8ae81cbd4a"
      },
      "execution_count": 23,
      "outputs": [
        {
          "output_type": "stream",
          "name": "stdout",
          "text": [
            "0 1 \n",
            "20 21 \n",
            "40 41 \n"
          ]
        }
      ]
    },
    {
      "cell_type": "code",
      "source": [
        "outer_list = []\n",
        "for i in range(3):\n",
        "    inner_list = []\n",
        "    for k in range(2):\n",
        "        inner_list.append(10*(i+1)+k)\n",
        "    outer_list.append(inner_list)\n",
        "\n",
        "pprint(outer_list, indent=1, width=20)\n"
      ],
      "metadata": {
        "colab": {
          "base_uri": "https://localhost:8080/"
        },
        "id": "WQqe9GSYAW4_",
        "outputId": "2443f42c-c48a-46c2-a8a9-f71c30a450ac"
      },
      "execution_count": 24,
      "outputs": [
        {
          "output_type": "stream",
          "name": "stdout",
          "text": [
            "[[10, 11],\n",
            " [20, 21],\n",
            " [30, 31]]\n"
          ]
        }
      ]
    },
    {
      "cell_type": "code",
      "source": [
        "a = []\n",
        "for i in range(3):\n",
        "    for k in range(2):\n",
        "        a.append(10*(i+1)+k)\n",
        "a"
      ],
      "metadata": {
        "colab": {
          "base_uri": "https://localhost:8080/"
        },
        "id": "jlj5X5aWBePS",
        "outputId": "a92c6920-02ce-4599-9e44-71fc6f46920d"
      },
      "execution_count": 25,
      "outputs": [
        {
          "output_type": "execute_result",
          "data": {
            "text/plain": [
              "[10, 11, 20, 21, 30, 31]"
            ]
          },
          "metadata": {},
          "execution_count": 25
        }
      ]
    },
    {
      "cell_type": "code",
      "source": [
        "two_d = []\n",
        "for i in range(3):\n",
        "    line = []\n",
        "    for k in range(2):\n",
        "        line.append(10*(i+1)+k)\n",
        "    two_d.append(line)\n",
        "two_d"
      ],
      "metadata": {
        "colab": {
          "base_uri": "https://localhost:8080/"
        },
        "id": "NNLq6SEYCwGv",
        "outputId": "019ca286-3d61-4060-c12f-67f04776b169"
      },
      "execution_count": 28,
      "outputs": [
        {
          "output_type": "execute_result",
          "data": {
            "text/plain": [
              "[[10, 11], [20, 21], [30, 31]]"
            ]
          },
          "metadata": {},
          "execution_count": 28
        }
      ]
    },
    {
      "cell_type": "markdown",
      "source": [
        "- 리스트 표현식"
      ],
      "metadata": {
        "id": "1NC6fvBjDTLp"
      }
    },
    {
      "cell_type": "code",
      "source": [
        "# 바깥쪽: [...for i in range(3)]\n",
        "# 안쪽: [10*(i+1)+k for k in range(2)]\n",
        "[[10*(i+1)+k for k in range(2)] for i in range(3)]"
      ],
      "metadata": {
        "colab": {
          "base_uri": "https://localhost:8080/"
        },
        "id": "pCgszbXMDTBi",
        "outputId": "8b4f4c9b-01d6-4af1-d09f-64ab01746e6e"
      },
      "execution_count": 31,
      "outputs": [
        {
          "output_type": "execute_result",
          "data": {
            "text/plain": [
              "[[10, 11], [20, 21], [30, 31]]"
            ]
          },
          "metadata": {},
          "execution_count": 31
        }
      ]
    },
    {
      "cell_type": "code",
      "source": [
        "# [[1,2,3,4], [11,12,13,14],[21,22,23,24]]\n",
        "# 행 인덱스(i): 0,1,2 - range(3)\n",
        "# 행 인덱스(k): 0,1,2,3 - range(4)\n",
        "# 일반항: 10 * i + k + 1\n",
        "two_d = []\n",
        "for i in range(3):\n",
        "    line = []\n",
        "    for k in range(4):\n",
        "        line.append(10*i+ k+1)\n",
        "    two_d.append(line)\n",
        "two_d"
      ],
      "metadata": {
        "colab": {
          "base_uri": "https://localhost:8080/"
        },
        "id": "m1Yfgv4KDS9y",
        "outputId": "67ed23d8-c6b2-46f9-8c47-13440ed06765"
      },
      "execution_count": 34,
      "outputs": [
        {
          "output_type": "execute_result",
          "data": {
            "text/plain": [
              "[[1, 2, 3, 4], [11, 12, 13, 14], [21, 22, 23, 24]]"
            ]
          },
          "metadata": {},
          "execution_count": 34
        }
      ]
    },
    {
      "cell_type": "code",
      "source": [
        "[[10*i+k+1 for k in range(4)] for i in range(3)]"
      ],
      "metadata": {
        "colab": {
          "base_uri": "https://localhost:8080/"
        },
        "id": "yvlH_bYCDMf2",
        "outputId": "ffa9ee99-623f-4e0b-d552-415b3150eeb4"
      },
      "execution_count": 35,
      "outputs": [
        {
          "output_type": "execute_result",
          "data": {
            "text/plain": [
              "[[1, 2, 3, 4], [11, 12, 13, 14], [21, 22, 23, 24]]"
            ]
          },
          "metadata": {},
          "execution_count": 35
        }
      ]
    },
    {
      "cell_type": "code",
      "source": [
        "[[10*i+k+1 for k in range(1,5)] for i in range(3)]"
      ],
      "metadata": {
        "colab": {
          "base_uri": "https://localhost:8080/"
        },
        "id": "53yW_x4BIxyp",
        "outputId": "b0cc4024-47bc-4c51-aab2-bb460568d8a9"
      },
      "execution_count": 36,
      "outputs": [
        {
          "output_type": "execute_result",
          "data": {
            "text/plain": [
              "[[2, 3, 4, 5], [12, 13, 14, 15], [22, 23, 24, 25]]"
            ]
          },
          "metadata": {},
          "execution_count": 36
        }
      ]
    },
    {
      "cell_type": "markdown",
      "source": [
        "- 2차원 리스트의 정렬은 추후 데이터프레임을 이용한 정렬"
      ],
      "metadata": {
        "id": "pjapzKunJ5-D"
      }
    },
    {
      "cell_type": "code",
      "source": [
        "students = [\n",
        "    ['john', 'C', 19],\n",
        "    ['maria', 'A', 25],\n",
        "    ['andrew', 'B', 7]\n",
        "]"
      ],
      "metadata": {
        "id": "1-kXVh5RI0bH"
      },
      "execution_count": 37,
      "outputs": []
    },
    {
      "cell_type": "markdown",
      "source": [
        "### 23.4 2차원 리스트의 할당과 복사"
      ],
      "metadata": {
        "id": "Syx-KrdfKLiy"
      }
    },
    {
      "cell_type": "code",
      "source": [
        "a = [[0,0], [0,0],[0,0]]\n",
        "b = a.copy()\n",
        "b[1][1] = 30\n",
        "b"
      ],
      "metadata": {
        "colab": {
          "base_uri": "https://localhost:8080/"
        },
        "id": "7EOcvMyGKKfj",
        "outputId": "2ea3cacb-0ec2-48d4-d5d5-36642683a527"
      },
      "execution_count": 38,
      "outputs": [
        {
          "output_type": "execute_result",
          "data": {
            "text/plain": [
              "[[0, 0], [0, 30], [0, 0]]"
            ]
          },
          "metadata": {},
          "execution_count": 38
        }
      ]
    },
    {
      "cell_type": "code",
      "source": [
        "a"
      ],
      "metadata": {
        "colab": {
          "base_uri": "https://localhost:8080/"
        },
        "id": "n7btLREoKfrQ",
        "outputId": "19e9dda8-5899-4612-b084-7333634a1da7"
      },
      "execution_count": 39,
      "outputs": [
        {
          "output_type": "execute_result",
          "data": {
            "text/plain": [
              "[[0, 0], [0, 30], [0, 0]]"
            ]
          },
          "metadata": {},
          "execution_count": 39
        }
      ]
    },
    {
      "cell_type": "code",
      "source": [
        "import copy\n",
        "a = [[0,0], [0,0],[0,0]]\n",
        "b = copy.deepcopy(a)\n",
        "b[1][1] = 30\n",
        "b"
      ],
      "metadata": {
        "colab": {
          "base_uri": "https://localhost:8080/"
        },
        "id": "YHc8A3x6KgpP",
        "outputId": "3f46a17d-e829-4fca-ecde-48ddc19f41f2"
      },
      "execution_count": 40,
      "outputs": [
        {
          "output_type": "execute_result",
          "data": {
            "text/plain": [
              "[[0, 0], [0, 30], [0, 0]]"
            ]
          },
          "metadata": {},
          "execution_count": 40
        }
      ]
    },
    {
      "cell_type": "code",
      "source": [
        "a"
      ],
      "metadata": {
        "colab": {
          "base_uri": "https://localhost:8080/"
        },
        "id": "CEi16hYTKq3L",
        "outputId": "78c94895-96dc-43b6-ef8b-3c07f7538508"
      },
      "execution_count": 41,
      "outputs": [
        {
          "output_type": "execute_result",
          "data": {
            "text/plain": [
              "[[0, 0], [0, 0], [0, 0]]"
            ]
          },
          "metadata": {},
          "execution_count": 41
        }
      ]
    },
    {
      "cell_type": "code",
      "source": [
        "# 게임 판을 만든다.(30% 지뢰, 70% 그냥)\n",
        "# 패딩 판으로 게임 판을 옮긴다. (4x4 --> 6x6)\n",
        "# 패딩 판에서 지뢰의 갯수를 찾는다.\n",
        "# 패딩 판에서 게임 판으로 축소 (6x6 --> 4x4)\n",
        "# 게임 판을 프린트"
      ],
      "metadata": {
        "id": "KHv1FO3MKr8s"
      },
      "execution_count": null,
      "outputs": []
    },
    {
      "cell_type": "code",
      "source": [
        "a, b = map(int,input().split())\n",
        "c = [2 ** i for i in range(a, b+1)]\n",
        "c.pop(1)\n",
        "c.pop(-2)\n",
        "print(c)"
      ],
      "metadata": {
        "colab": {
          "base_uri": "https://localhost:8080/"
        },
        "id": "Tl8aVCJpehWQ",
        "outputId": "5f82aac1-09f8-4a00-bdeb-5f3886afbdb1"
      },
      "execution_count": 43,
      "outputs": [
        {
          "output_type": "stream",
          "name": "stdout",
          "text": [
            "1 10\n",
            "[2, 8, 16, 32, 64, 128, 256, 1024]\n"
          ]
        }
      ]
    },
    {
      "cell_type": "code",
      "source": [
        "a, b = map(int,input().split())\n",
        "c = [2 ** i for i in range(a, b+1)]\n",
        "c.pop(1)\n",
        "c.pop(-2)\n",
        "print(c)"
      ],
      "metadata": {
        "colab": {
          "base_uri": "https://localhost:8080/"
        },
        "id": "Ssw358Dme2e6",
        "outputId": "2ac87846-0bc6-4e59-a79e-0cef248deedb"
      },
      "execution_count": 44,
      "outputs": [
        {
          "output_type": "stream",
          "name": "stdout",
          "text": [
            "10 20\n",
            "[1024, 4096, 8192, 16384, 32768, 65536, 131072, 262144, 1048576]\n"
          ]
        }
      ]
    },
    {
      "cell_type": "code",
      "source": [
        "m,n = map(int, input().split())\n",
        "if 1 <= m <= 20 and 10 <= n <= 30 and m < n:\n",
        "    power_list = []\n",
        "    for i in range(m, n+1):\n",
        "        power_list.append()\n"
      ],
      "metadata": {
        "id": "bBLjdyHGhosU"
      },
      "execution_count": null,
      "outputs": []
    },
    {
      "cell_type": "code",
      "source": [
        "import random\n",
        "N = 8\n",
        "mines = []\n",
        "for _ in range(N):\n",
        "    row = []\n",
        "    for _ in range(N):\n",
        "        if random.random() > 0.7:\n",
        "            row.append('*')\n",
        "        else:\n",
        "            row.append('.')\n",
        "    mines.append(row)\n",
        "\n",
        "    for row in mines:\n",
        "        for element in row:\n",
        "            print(element, end=' ')\n",
        "        print()"
      ],
      "metadata": {
        "colab": {
          "base_uri": "https://localhost:8080/"
        },
        "id": "WRiWZVKrkwtK",
        "outputId": "77999056-34f8-4fcc-f5f0-5dbe65c9c07a"
      },
      "execution_count": 46,
      "outputs": [
        {
          "output_type": "stream",
          "name": "stdout",
          "text": [
            "* . . . * . . . \n",
            "* . . . * . . . \n",
            ". . . . . . . . \n",
            "* . . . * . . . \n",
            ". . . . . . . . \n",
            "* . . . . . . . \n",
            "* . . . * . . . \n",
            ". . . . . . . . \n",
            "* . . . . . . . \n",
            ". . . . * * . . \n",
            "* . . . * . . . \n",
            ". . . . . . . . \n",
            "* . . . . . . . \n",
            ". . . . * * . . \n",
            ". . . . . . . . \n",
            "* . . . * . . . \n",
            ". . . . . . . . \n",
            "* . . . . . . . \n",
            ". . . . * * . . \n",
            ". . . . . . . . \n",
            "* . . . * * * . \n",
            "* . . . * . . . \n",
            ". . . . . . . . \n",
            "* . . . . . . . \n",
            ". . . . * * . . \n",
            ". . . . . . . . \n",
            "* . . . * * * . \n",
            ". . * . * . . * \n",
            "* . . . * . . . \n",
            ". . . . . . . . \n",
            "* . . . . . . . \n",
            ". . . . * * . . \n",
            ". . . . . . . . \n",
            "* . . . * * * . \n",
            ". . * . * . . * \n",
            ". . . . . . . * \n"
          ]
        }
      ]
    },
    {
      "cell_type": "code",
      "source": [
        "def print_mines(mat):\n",
        "    for row in mat:\n",
        "        for element in row:\n",
        "            print(element, end=' ')\n",
        "        print()"
      ],
      "metadata": {
        "id": "mWYMi7sGlT_0"
      },
      "execution_count": 47,
      "outputs": []
    },
    {
      "cell_type": "code",
      "source": [
        "N = int(input())\n",
        "mines = [['*' if random.random() > 0.7 else '.' for _ in range(N)] for _ in range(N)]\n",
        "print_mines(mines)"
      ],
      "metadata": {
        "colab": {
          "base_uri": "https://localhost:8080/",
          "height": 229
        },
        "id": "IajwS5a3l6yr",
        "outputId": "d9097cad-68a1-4aed-b342-c122a7956364"
      },
      "execution_count": 48,
      "outputs": [
        {
          "name": "stdout",
          "output_type": "stream",
          "text": [
            "3 3\n"
          ]
        },
        {
          "output_type": "error",
          "ename": "ValueError",
          "evalue": "ignored",
          "traceback": [
            "\u001b[0;31m---------------------------------------------------------------------------\u001b[0m",
            "\u001b[0;31mValueError\u001b[0m                                Traceback (most recent call last)",
            "\u001b[0;32m<ipython-input-48-a683048f0279>\u001b[0m in \u001b[0;36m<module>\u001b[0;34m()\u001b[0m\n\u001b[0;32m----> 1\u001b[0;31m \u001b[0mN\u001b[0m \u001b[0;34m=\u001b[0m \u001b[0mint\u001b[0m\u001b[0;34m(\u001b[0m\u001b[0minput\u001b[0m\u001b[0;34m(\u001b[0m\u001b[0;34m)\u001b[0m\u001b[0;34m)\u001b[0m\u001b[0;34m\u001b[0m\u001b[0;34m\u001b[0m\u001b[0m\n\u001b[0m\u001b[1;32m      2\u001b[0m \u001b[0mmines\u001b[0m \u001b[0;34m=\u001b[0m \u001b[0;34m[\u001b[0m\u001b[0;34m[\u001b[0m\u001b[0;34m'*'\u001b[0m \u001b[0;32mif\u001b[0m \u001b[0mrandom\u001b[0m\u001b[0;34m.\u001b[0m\u001b[0mrandom\u001b[0m\u001b[0;34m(\u001b[0m\u001b[0;34m)\u001b[0m \u001b[0;34m>\u001b[0m \u001b[0;36m0.7\u001b[0m \u001b[0;32melse\u001b[0m \u001b[0;34m'.'\u001b[0m \u001b[0;32mfor\u001b[0m \u001b[0m_\u001b[0m \u001b[0;32min\u001b[0m \u001b[0mrange\u001b[0m\u001b[0;34m(\u001b[0m\u001b[0mN\u001b[0m\u001b[0;34m)\u001b[0m\u001b[0;34m]\u001b[0m \u001b[0;32mfor\u001b[0m \u001b[0m_\u001b[0m \u001b[0;32min\u001b[0m \u001b[0mrange\u001b[0m\u001b[0;34m(\u001b[0m\u001b[0mN\u001b[0m\u001b[0;34m)\u001b[0m\u001b[0;34m]\u001b[0m\u001b[0;34m\u001b[0m\u001b[0;34m\u001b[0m\u001b[0m\n\u001b[1;32m      3\u001b[0m \u001b[0mprint_mines\u001b[0m\u001b[0;34m(\u001b[0m\u001b[0mmines\u001b[0m\u001b[0;34m)\u001b[0m\u001b[0;34m\u001b[0m\u001b[0;34m\u001b[0m\u001b[0m\n",
            "\u001b[0;31mValueError\u001b[0m: invalid literal for int() with base 10: '3 3'"
          ]
        }
      ]
    },
    {
      "cell_type": "code",
      "source": [
        "line = ['.']\n",
        "line.append(['*']*6)\n",
        "line"
      ],
      "metadata": {
        "colab": {
          "base_uri": "https://localhost:8080/"
        },
        "id": "KXDJav0lmpMR",
        "outputId": "5c34e448-f1a4-496b-8a18-f415fe931f11"
      },
      "execution_count": 49,
      "outputs": [
        {
          "output_type": "execute_result",
          "data": {
            "text/plain": [
              "['.', ['*', '*', '*', '*', '*', '*']]"
            ]
          },
          "metadata": {},
          "execution_count": 49
        }
      ]
    },
    {
      "cell_type": "code",
      "source": [
        "pad_mines = []\n",
        "pad_mines.append(['.'] * (N+2))\n",
        "for row in mines:\n",
        "    line = ['.']\n",
        "    line.extend(row)\n",
        "    line.append('.')\n",
        "    pad_mines.append(line)\n",
        "pad_mines.append(['.'] * (N+2))\n",
        "print_mines(pad_mines)"
      ],
      "metadata": {
        "colab": {
          "base_uri": "https://localhost:8080/"
        },
        "id": "ZL0o5JPwmNuy",
        "outputId": "e86abef4-12ea-4527-ec6f-7ccd79d534dd"
      },
      "execution_count": 50,
      "outputs": [
        {
          "output_type": "stream",
          "name": "stdout",
          "text": [
            ". . . . . . . . . . \n",
            ". * . . . * . . . . \n",
            ". . . . . . . . . . \n",
            ". * . . . . . . . . \n",
            ". . . . . * * . . . \n",
            ". . . . . . . . . . \n",
            ". * . . . * * * . . \n",
            ". . . * . * . . * . \n",
            ". . . . . . . . * . \n",
            ". . . . . . . . . . \n"
          ]
        }
      ]
    },
    {
      "cell_type": "code",
      "source": [
        "pad_mines = []\n",
        "pad_mines.append(['.'] * (N+2))\n",
        "for row in mines:\n",
        "    line = ['.']\n",
        "    line.extend(row)\n",
        "    ''' for element in row:\n",
        "            line.append(element) '''\n",
        "    line.append('.')\n",
        "    pad_mines.append(line)\n",
        "pad_mines.append(['.'] * (N+2))\n",
        "print_mines(pad_mines)"
      ],
      "metadata": {
        "colab": {
          "base_uri": "https://localhost:8080/"
        },
        "id": "_hiQoUJum_S2",
        "outputId": "fe7f0b18-8c92-43e5-d7ac-73b6f615eee9"
      },
      "execution_count": 51,
      "outputs": [
        {
          "output_type": "stream",
          "name": "stdout",
          "text": [
            ". . . . . . . . . . \n",
            ". * . . . * . . . . \n",
            ". . . . . . . . . . \n",
            ". * . . . . . . . . \n",
            ". . . . . * * . . . \n",
            ". . . . . . . . . . \n",
            ". * . . . * * * . . \n",
            ". . . * . * . . * . \n",
            ". . . . . . . . * . \n",
            ". . . . . . . . . . \n"
          ]
        }
      ]
    },
    {
      "cell_type": "code",
      "source": [
        "fina_mines = []\n",
        "for i in range(1, N+1):\n",
        "    row = []\n",
        "    for k in range(1, N+1):\n",
        "        if pad_mines[i][k] == '*':\n",
        "            row.append('*')\n",
        "        else:\n",
        "            count = (pad_mines[i-1][k-1]=='*') + (pad_mines[i-1][k]=='*') + (pad_mines[i-1][k+1]=='*') + \\\n",
        "                    (pad_mines[i][k-1]=='*') + (pad_mines[i][k+1]=='*') + \\ \n",
        "                    (pad_mines[i+1][k-1]=='*') + (pad_mines[i+1][k]=='*') + (pad_mines[i+1][k+1]=='*')\n",
        "            row.append(str(count))\n",
        "        final_mines.append(row)\n",
        "\n",
        "    print_mines(final_mines)"
      ],
      "metadata": {
        "colab": {
          "base_uri": "https://localhost:8080/",
          "height": 174
        },
        "id": "1MbbABgsnSkO",
        "outputId": "9c14328a-7899-4a46-cdc3-76796605431b"
      },
      "execution_count": 55,
      "outputs": [
        {
          "output_type": "error",
          "ename": "SyntaxError",
          "evalue": "ignored",
          "traceback": [
            "\u001b[0;36m  File \u001b[0;32m\"<ipython-input-55-a324617586f2>\"\u001b[0;36m, line \u001b[0;32m8\u001b[0m\n\u001b[0;31m    count = (pad_mines[i-1][k-1]=='*') + (pad_mines[i-1][k]=='*') + (pad_mines[i-1][k+1]=='*') +                     (pad_mines[i][k-1]=='*') + (pad_mines[i][k+1]=='*') + \\\u001b[0m\n\u001b[0m                                                                                                                                                                             ^\u001b[0m\n\u001b[0;31mSyntaxError\u001b[0m\u001b[0;31m:\u001b[0m unexpected character after line continuation character\n"
          ]
        }
      ]
    },
    {
      "cell_type": "markdown",
      "source": [
        "연습문제\n",
        "<pre>\n",
        "a + b + c = 1000, a < b < c 를 만족하고, a*a + b*b = c*c 를 만족하는 피타고라스 수 a, b, c 는?"
      ],
      "metadata": {
        "id": "Kefua9HxpJSb"
      }
    },
    {
      "cell_type": "code",
      "source": [
        "for a in range(1, 333):\n",
        "    for b in range(a+1, 500):\n",
        "        c = 1000 - a - b\n",
        "        if a*a +b*b ==c*c:\n",
        "            print(a, b, c)"
      ],
      "metadata": {
        "colab": {
          "base_uri": "https://localhost:8080/"
        },
        "id": "t3tJ1sO0qDmT",
        "outputId": "f9d7333a-1f31-4dbc-b4e0-5b0564549bcb"
      },
      "execution_count": 60,
      "outputs": [
        {
          "output_type": "stream",
          "name": "stdout",
          "text": [
            "200 375 425\n"
          ]
        }
      ]
    },
    {
      "cell_type": "code",
      "source": [
        "200*200 + 375*375, 425*425"
      ],
      "metadata": {
        "colab": {
          "base_uri": "https://localhost:8080/"
        },
        "id": "Rhmyxp3grniD",
        "outputId": "4c306962-b9da-412c-bbb5-231a408729da"
      },
      "execution_count": 58,
      "outputs": [
        {
          "output_type": "execute_result",
          "data": {
            "text/plain": [
              "(180625, 180625)"
            ]
          },
          "metadata": {},
          "execution_count": 58
        }
      ]
    },
    {
      "cell_type": "code",
      "source": [
        ""
      ],
      "metadata": {
        "id": "5IC3wi7Fr9Uw"
      },
      "execution_count": null,
      "outputs": []
    }
  ]
}