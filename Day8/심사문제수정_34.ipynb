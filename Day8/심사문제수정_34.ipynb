{
  "nbformat": 4,
  "nbformat_minor": 0,
  "metadata": {
    "colab": {
      "name": "심사문제_34.ipynb",
      "provenance": []
    },
    "kernelspec": {
      "name": "python3",
      "display_name": "Python 3"
    },
    "language_info": {
      "name": "python"
    }
  },
  "cells": [
    {
      "cell_type": "markdown",
      "source": [
        "# 심사문제 34.6 게임 캐릭터 클래스 만들기\n",
        "\n",
        "- 표준 입력으로 게임 캐릭터 능력치(체력, 마나, AP)가 입력됩니다. 다음 소스 코드에서 애니(Annie) 클래스를 작성하여 티버(tibbers) 스킬의 피해량이 출력되게 만드세요. 티버의 피해량은 AP * 0.65 + 400이며 AP(Ability Power, 주문력)는 마법 능력치를 뜻합니다.\n"
      ],
      "metadata": {
        "id": "aYJSHEoHtMrZ"
      }
    },
    {
      "cell_type": "code",
      "execution_count": null,
      "metadata": {
        "colab": {
          "base_uri": "https://localhost:8080/"
        },
        "id": "bODY2_jwtLeX",
        "outputId": "4d3aaa59-ed8f-418a-bb69-b2b01816adba"
      },
      "outputs": [
        {
          "output_type": "stream",
          "name": "stdout",
          "text": [
            "511.68 334.0 298\n",
            "티버의 피해량593.7\n"
          ]
        }
      ],
      "source": [
        "class Annie:\n",
        "    def __init__(self, health, mana, ability_power):\n",
        "        self.health = health\n",
        "        self.mana = mana\n",
        "        self.ability_power = ability_power\n",
        "    def tibbers(self):\n",
        "        print('티버의 피해량{0}'.format(self.ability_power * 0.65 + 400))\n",
        "\n",
        "health, mana, ability_power = map(float, input().split())\n",
        " \n",
        "x = Annie(health=health, mana=mana, ability_power=ability_power)\n",
        "x.tibbers()"
      ]
    },
    {
      "cell_type": "code",
      "source": [
        "class Annie:\n",
        "    def __init__(self, health, mana, ability_power):\n",
        "        self.health = health\n",
        "        self.mana = mana\n",
        "        self.ability_power = ability_power\n",
        "    def tibbers(self):\n",
        "        print('티버의 피해량{0}'.format(self.ability_power * 0.65 + 400))\n",
        "\n",
        "health, mana, ability_power = map(float, input().split())\n",
        " \n",
        "x = Annie(health=health, mana=mana, ability_power=ability_power)\n",
        "x.tibbers()"
      ],
      "metadata": {
        "colab": {
          "base_uri": "https://localhost:8080/"
        },
        "id": "deByr5JM2F9W",
        "outputId": "50bb5bf3-3046-4fd3-dfd5-6162424316ec"
      },
      "execution_count": null,
      "outputs": [
        {
          "output_type": "stream",
          "name": "stdout",
          "text": [
            "1803.68 1184.0 645\n",
            "티버의 피해량819.25\n"
          ]
        }
      ]
    },
    {
      "cell_type": "markdown",
      "source": [
        "# 연습문제\n",
        "- 1. Calculator/\n",
        "add, sub, mul, div 메소드 구현 단, 0으로 나누지 못하게 할 것"
      ],
      "metadata": {
        "id": "oxVsDS1WtaCn"
      }
    },
    {
      "cell_type": "code",
      "source": [
        "class Calsulator:\n",
        "    def __init__(self, add, sub, mul, div):\n",
        "        self.add = add\n",
        "        self.sub = sub\n",
        "        self.mul = mul\n",
        "        self.div = div\n",
        "\n",
        "    def factorial(n):\n",
        "        if not isinstance(n, int) or n < 0:\n",
        "            return None\n",
        "        if n == 0:\n",
        "            return 1\n",
        "        return n * factorial(n - 1)"
      ],
      "metadata": {
        "id": "y93KN4Kq_-fi"
      },
      "execution_count": null,
      "outputs": []
    },
    {
      "cell_type": "code",
      "source": [
        "class Calsulator:\n",
        "    '''def __init__(self, x,y):\n",
        "        self.x = x\n",
        "        self.y = y '''\n",
        "    def add(self, a, b):\n",
        "        return a+b\n",
        "    def sub(self, a, b):\n",
        "        return a-b\n",
        "    def sub(self, a, b):\n",
        "        return a*b\n",
        "    def sub(self, a, b):\n",
        "        if abs(b) < 1e-15:\n",
        "            return None\n",
        "            return a / b"
      ],
      "metadata": {
        "id": "R6UtKT67_Er1"
      },
      "execution_count": 1,
      "outputs": []
    },
    {
      "cell_type": "markdown",
      "source": [
        "2. Account 클래스 만들기\n",
        "- 속성/\n",
        "ano: 문자열 6글자, '123456'\n",
        "owner: 문자열\n",
        "balance: 잔액, 비공개 속성\n",
        "\n",
        "- Method/\n",
        "deposit(amount) 잔액이 1000만원 이상이면 입금할 수 없음\n",
        "withdraw(amount) 잔액이 0원 미만이면 출금할 수 없음\n",
        "출력 가능하게(__str__)"
      ],
      "metadata": {
        "id": "5ehMQXUKtlAq"
      }
    },
    {
      "cell_type": "code",
      "source": [
        "class Account:\n",
        "    def __init__(self, ano, owner, balance):\n",
        "        self.ano = ano\n",
        "        self.owner = owner\n",
        "        self.__balance = balance\n",
        "\n",
        "    def pay(self, amount):\n",
        "        if self.__balance <= amount:\n",
        "            print('1000만원 이상이면 입금할 수 없습니다.')\n",
        "            return\n",
        "        if self.__balance > amount:\n",
        "            print('잔액이 0원 미만이면 출금할 수 없습니다.')\n",
        "    def __str__(self):\n",
        "        return"
      ],
      "metadata": {
        "id": "KPYhMVgjtmKD"
      },
      "execution_count": null,
      "outputs": []
    },
    {
      "cell_type": "code",
      "source": [
        "class Account:\n",
        "    def __init__(self, ano, owner, balance):\n",
        "        self.ano = ano\n",
        "        self.owner = owner\n",
        "        self.__balance = balance\n",
        "\n",
        "    def deposit(self, amount):\n",
        "        if amount + self.__balance >= 10000000:\n",
        "            print('1000만원 이상이면 입금할 수 없습니다.')\n",
        "            return\n",
        "        self.__balance += amount\n",
        "\n",
        "    def withdraw(self, amount):\n",
        "        if self.__balance - amount < 0:\n",
        "            print('잔액이 부족합니다.')\n",
        "            return\n",
        "        self.__balance -= amount\n",
        "\n",
        "    def __str__(self):\n",
        "        return f'계좌번호\" {self.ano}, 소유주: {self.owner}, 잔액: {self.__balance}'"
      ],
      "metadata": {
        "id": "FjkW7RfzAJBl"
      },
      "execution_count": 2,
      "outputs": []
    },
    {
      "cell_type": "code",
      "source": [
        "acc = Account('123456', '제임스', 10000)\n",
        "print(acc)"
      ],
      "metadata": {
        "colab": {
          "base_uri": "https://localhost:8080/"
        },
        "id": "N26pErexAwRd",
        "outputId": "1ba8f30e-577b-4403-a7ee-ec150da69468"
      },
      "execution_count": 4,
      "outputs": [
        {
          "output_type": "stream",
          "name": "stdout",
          "text": [
            "계좌번호\" 123456, 소유주: 제임스, 잔액: 10000\n"
          ]
        }
      ]
    },
    {
      "cell_type": "markdown",
      "source": [
        "# 사용자 I/F\n",
        "<pre>\n",
        "1:계좌생성, 2:계좌목록, 3:입금, 4:출금, 5:종료\n",
        "</pre>"
      ],
      "metadata": {
        "id": "k6D_YzJcBHaa"
      }
    },
    {
      "cell_type": "code",
      "source": [
        "def check_duplicate(ano):\n",
        "    for acc in acc_list"
      ],
      "metadata": {
        "id": "2KG6H224BwdM"
      },
      "execution_count": null,
      "outputs": []
    },
    {
      "cell_type": "code",
      "source": [
        "# 사용자로부터 필요한 정보를 입력 받아서 계좌를 생성함\n",
        "def creat_account():\n",
        "    while True:\n",
        "        s = input('계좌번호 성명 금액> ').split()"
      ],
      "metadata": {
        "id": "FeOX1LhVBFIF"
      },
      "execution_count": null,
      "outputs": []
    },
    {
      "cell_type": "markdown",
      "source": [
        "- 비공개 속성"
      ],
      "metadata": {
        "id": "sd2b4qCTDF9u"
      }
    },
    {
      "cell_type": "code",
      "source": [
        "type(acc)"
      ],
      "metadata": {
        "colab": {
          "base_uri": "https://localhost:8080/"
        },
        "id": "mJl0cbf3DHxX",
        "outputId": "7a62623f-bf11-4004-b095-1be373893a26"
      },
      "execution_count": 5,
      "outputs": [
        {
          "output_type": "execute_result",
          "data": {
            "text/plain": [
              "__main__.Account"
            ]
          },
          "metadata": {},
          "execution_count": 5
        }
      ]
    },
    {
      "cell_type": "code",
      "source": [
        "dir(acc)"
      ],
      "metadata": {
        "colab": {
          "base_uri": "https://localhost:8080/"
        },
        "id": "82CsC0tLDSsl",
        "outputId": "f79ec723-68f8-401e-af3e-5e7b27406c52"
      },
      "execution_count": 6,
      "outputs": [
        {
          "output_type": "execute_result",
          "data": {
            "text/plain": [
              "['_Account__balance',\n",
              " '__class__',\n",
              " '__delattr__',\n",
              " '__dict__',\n",
              " '__dir__',\n",
              " '__doc__',\n",
              " '__eq__',\n",
              " '__format__',\n",
              " '__ge__',\n",
              " '__getattribute__',\n",
              " '__gt__',\n",
              " '__hash__',\n",
              " '__init__',\n",
              " '__init_subclass__',\n",
              " '__le__',\n",
              " '__lt__',\n",
              " '__module__',\n",
              " '__ne__',\n",
              " '__new__',\n",
              " '__reduce__',\n",
              " '__reduce_ex__',\n",
              " '__repr__',\n",
              " '__setattr__',\n",
              " '__sizeof__',\n",
              " '__str__',\n",
              " '__subclasshook__',\n",
              " '__weakref__',\n",
              " 'ano',\n",
              " 'deposit',\n",
              " 'owner',\n",
              " 'withdraw']"
            ]
          },
          "metadata": {},
          "execution_count": 6
        }
      ]
    },
    {
      "cell_type": "code",
      "source": [
        "acc._Account__balance # 파이썬은 비공개를 제대로 지원하지 못한다."
      ],
      "metadata": {
        "colab": {
          "base_uri": "https://localhost:8080/"
        },
        "id": "DXQ2K1ADEoSN",
        "outputId": "4a10ff88-132a-4b32-feab-df2912800ca8"
      },
      "execution_count": 9,
      "outputs": [
        {
          "output_type": "execute_result",
          "data": {
            "text/plain": [
              "10000"
            ]
          },
          "metadata": {},
          "execution_count": 9
        }
      ]
    },
    {
      "cell_type": "code",
      "source": [
        ""
      ],
      "metadata": {
        "id": "s8xRS_8IErhO"
      },
      "execution_count": null,
      "outputs": []
    },
    {
      "cell_type": "code",
      "source": [
        "%%shell\n",
        "jupyter nbconvert --to html /content/drive/MyDrive/\"Colab Notebooks\"/심사문제_34.ipynb"
      ],
      "metadata": {
        "colab": {
          "base_uri": "https://localhost:8080/"
        },
        "id": "0FRp7HNYEQA0",
        "outputId": "17944b78-b7d3-49b2-afa7-f467ad717548"
      },
      "execution_count": null,
      "outputs": [
        {
          "output_type": "stream",
          "name": "stdout",
          "text": [
            "[NbConvertApp] Converting notebook /content/drive/MyDrive/Colab Notebooks/심사문제_34.ipynb to html\n",
            "[NbConvertApp] Writing 284278 bytes to /content/drive/MyDrive/Colab Notebooks/심사문제_34.html\n"
          ]
        },
        {
          "output_type": "execute_result",
          "data": {
            "text/plain": [
              ""
            ]
          },
          "metadata": {},
          "execution_count": 1
        }
      ]
    },
    {
      "cell_type": "code",
      "source": [
        ""
      ],
      "metadata": {
        "id": "eQvzjIuoKCVz"
      },
      "execution_count": null,
      "outputs": []
    }
  ]
}