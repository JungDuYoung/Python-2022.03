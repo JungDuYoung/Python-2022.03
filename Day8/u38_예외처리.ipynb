{
  "nbformat": 4,
  "nbformat_minor": 0,
  "metadata": {
    "colab": {
      "name": "u38_예외처리.ipynb",
      "provenance": []
    },
    "kernelspec": {
      "name": "python3",
      "display_name": "Python 3"
    },
    "language_info": {
      "name": "python"
    }
  },
  "cells": [
    {
      "cell_type": "markdown",
      "source": [
        "# Unit 38. 예외(Exception) 처리\n",
        "### 38.1 try except"
      ],
      "metadata": {
        "id": "2GLMXxJWK3F3"
      }
    },
    {
      "cell_type": "code",
      "execution_count": 1,
      "metadata": {
        "colab": {
          "base_uri": "https://localhost:8080/",
          "height": 193
        },
        "id": "8LNpeE1rFAxD",
        "outputId": "3923f3bb-3c3e-4f8c-c4a3-86313154d4af"
      },
      "outputs": [
        {
          "output_type": "error",
          "ename": "IndexError",
          "evalue": "ignored",
          "traceback": [
            "\u001b[0;31m---------------------------------------------------------------------------\u001b[0m",
            "\u001b[0;31mIndexError\u001b[0m                                Traceback (most recent call last)",
            "\u001b[0;32m<ipython-input-1-47894dcd86df>\u001b[0m in \u001b[0;36m<module>\u001b[0;34m()\u001b[0m\n\u001b[1;32m      1\u001b[0m \u001b[0ma\u001b[0m \u001b[0;34m=\u001b[0m \u001b[0;34m[\u001b[0m\u001b[0;36m1\u001b[0m\u001b[0;34m,\u001b[0m\u001b[0;36m2\u001b[0m\u001b[0;34m,\u001b[0m\u001b[0;36m3\u001b[0m\u001b[0;34m]\u001b[0m\u001b[0;34m\u001b[0m\u001b[0;34m\u001b[0m\u001b[0m\n\u001b[0;32m----> 2\u001b[0;31m \u001b[0ma\u001b[0m\u001b[0;34m[\u001b[0m\u001b[0;36m3\u001b[0m\u001b[0;34m]\u001b[0m\u001b[0;34m\u001b[0m\u001b[0;34m\u001b[0m\u001b[0m\n\u001b[0m",
            "\u001b[0;31mIndexError\u001b[0m: list index out of range"
          ]
        }
      ],
      "source": [
        "a = [1,2,3]\n",
        "a[3]"
      ]
    },
    {
      "cell_type": "code",
      "source": [
        "try:\n",
        "    a[3]\n",
        "except:\n",
        "    print('인덱스 에러 발생')"
      ],
      "metadata": {
        "colab": {
          "base_uri": "https://localhost:8080/"
        },
        "id": "l2IgJF2CLf7z",
        "outputId": "841076e4-318a-43e6-a026-70c0d4dc8688"
      },
      "execution_count": 2,
      "outputs": [
        {
          "output_type": "stream",
          "name": "stdout",
          "text": [
            "인덱스 에러 발생\n"
          ]
        }
      ]
    },
    {
      "cell_type": "code",
      "source": [
        "int('10d')"
      ],
      "metadata": {
        "colab": {
          "base_uri": "https://localhost:8080/",
          "height": 174
        },
        "id": "SZi_Pf8xLh6Y",
        "outputId": "ce2d47f4-c14d-400b-ebf0-1f33a001cacd"
      },
      "execution_count": 3,
      "outputs": [
        {
          "output_type": "error",
          "ename": "ValueError",
          "evalue": "ignored",
          "traceback": [
            "\u001b[0;31m---------------------------------------------------------------------------\u001b[0m",
            "\u001b[0;31mValueError\u001b[0m                                Traceback (most recent call last)",
            "\u001b[0;32m<ipython-input-3-331fb23f7ae1>\u001b[0m in \u001b[0;36m<module>\u001b[0;34m()\u001b[0m\n\u001b[0;32m----> 1\u001b[0;31m \u001b[0mint\u001b[0m\u001b[0;34m(\u001b[0m\u001b[0;34m'10d'\u001b[0m\u001b[0;34m)\u001b[0m\u001b[0;34m\u001b[0m\u001b[0;34m\u001b[0m\u001b[0m\n\u001b[0m",
            "\u001b[0;31mValueError\u001b[0m: invalid literal for int() with base 10: '10d'"
          ]
        }
      ]
    },
    {
      "cell_type": "code",
      "source": [
        "try:\n",
        "    print(int('10d'))\n",
        "except:\n",
        "     print('예외발생')"
      ],
      "metadata": {
        "colab": {
          "base_uri": "https://localhost:8080/"
        },
        "id": "PKaH0p8rL7Uz",
        "outputId": "f3fb9ef6-2991-449c-e050-edf5d0a2184c"
      },
      "execution_count": 5,
      "outputs": [
        {
          "output_type": "stream",
          "name": "stdout",
          "text": [
            "예외발생\n"
          ]
        }
      ]
    },
    {
      "cell_type": "markdown",
      "source": [
        "- 특정 예외만 처리"
      ],
      "metadata": {
        "id": "HQSbMjIiOgVZ"
      }
    },
    {
      "cell_type": "code",
      "source": [
        "try:\n",
        "    x = int(input())\n",
        "    y = 100 / x\n",
        "    print(y)\n",
        "except ValueError:\n",
        "    print('입력값이 틀렸습니다.')\n",
        "except ZeroDivisionError:\n",
        "    print('0으로 나눌 수 없습니다.')"
      ],
      "metadata": {
        "colab": {
          "base_uri": "https://localhost:8080/"
        },
        "id": "Ehj12vp8MEns",
        "outputId": "64f5e512-c78c-48b2-b925-80749e58ff33"
      },
      "execution_count": 9,
      "outputs": [
        {
          "output_type": "stream",
          "name": "stdout",
          "text": [
            "0\n",
            "0으로 나눌 수 없습니다.\n"
          ]
        }
      ]
    },
    {
      "cell_type": "code",
      "source": [
        "try:\n",
        "    x = int(input())\n",
        "    y = 100 / x\n",
        "    print(y, a[x])\n",
        "except ValueError:\n",
        "    print('입력값이 틀렸습니다.')\n",
        "except ZeroDivisionError:\n",
        "    print('0으로 나눌 수 없습니다.')\n",
        "except IndexError:\n",
        "    print('Index 에러 발생')"
      ],
      "metadata": {
        "colab": {
          "base_uri": "https://localhost:8080/"
        },
        "id": "xdBA2IYNPYdC",
        "outputId": "10dd9d57-b76c-46e7-9608-2f9cb799b388"
      },
      "execution_count": 11,
      "outputs": [
        {
          "output_type": "stream",
          "name": "stdout",
          "text": [
            "4\n",
            "Index 에러 발생\n"
          ]
        }
      ]
    },
    {
      "cell_type": "markdown",
      "source": [
        "- 다양한 예외 에러 메시지 받기"
      ],
      "metadata": {
        "id": "E8A_6q0tQxbv"
      }
    },
    {
      "cell_type": "code",
      "source": [
        "try:\n",
        "    x = int(input())\n",
        "    y = 100 / x\n",
        "    print(y, a[x])\n",
        "except Exception as e:\n",
        "    print(e)"
      ],
      "metadata": {
        "colab": {
          "base_uri": "https://localhost:8080/"
        },
        "id": "OFyrr-cyP68N",
        "outputId": "5c987378-adce-4a5e-f2a4-3934eacfa8f7"
      },
      "execution_count": 13,
      "outputs": [
        {
          "output_type": "stream",
          "name": "stdout",
          "text": [
            "0\n",
            "division by zero\n"
          ]
        }
      ]
    },
    {
      "cell_type": "markdown",
      "source": [
        "### 38.2 else-finally"
      ],
      "metadata": {
        "id": "uhjnAMucRV8f"
      }
    },
    {
      "cell_type": "code",
      "source": [
        "try:\n",
        "    x = int(input())\n",
        "    y = 100 / x\n",
        "except Exception as e:\n",
        "    print(e)\n",
        "else:               # try code에서 예외가 발생하지 않았을 때 실행됨\n",
        "    print(y)"
      ],
      "metadata": {
        "colab": {
          "base_uri": "https://localhost:8080/"
        },
        "id": "qQ6cu_nwQUHa",
        "outputId": "210bcb17-debb-46fc-ab8f-7ee0707c156d"
      },
      "execution_count": 16,
      "outputs": [
        {
          "output_type": "stream",
          "name": "stdout",
          "text": [
            "4e\n",
            "invalid literal for int() with base 10: '4e'\n"
          ]
        }
      ]
    },
    {
      "cell_type": "code",
      "source": [
        "try:\n",
        "    x = int(input())\n",
        "    y = 100 / x\n",
        "except Exception as e:\n",
        "    print(e)\n",
        "else:              \n",
        "    print(y)\n",
        "finally:                # 예외 발생 여부와 상관없이 항상 실행됨\n",
        "    print('코드 실행 종료')"
      ],
      "metadata": {
        "colab": {
          "base_uri": "https://localhost:8080/"
        },
        "id": "TaKWhpwARw0I",
        "outputId": "6c2f3955-ff64-40f7-8ff0-c76a17a352a0"
      },
      "execution_count": 18,
      "outputs": [
        {
          "output_type": "stream",
          "name": "stdout",
          "text": [
            "4\n",
            "25.0\n",
            "코드 실행 종료\n"
          ]
        }
      ]
    },
    {
      "cell_type": "markdown",
      "source": [
        "### 38.3 예외 발생시키기"
      ],
      "metadata": {
        "id": "00WG-OO9TIKX"
      }
    },
    {
      "cell_type": "code",
      "source": [
        "try:\n",
        "    for i in range(100):\n",
        "        print(i ,  end=' ')\n",
        "        for k in range(100):\n",
        "            if (i==k and i==51):\n",
        "                raise Exception('Loop 종료 조건 충족')\n",
        "except:\n",
        "    print('Loop 강제 종료')         # 고난도"
      ],
      "metadata": {
        "colab": {
          "base_uri": "https://localhost:8080/"
        },
        "id": "rad_9V9kSa6Q",
        "outputId": "361cd57d-589c-4438-8cfb-5197a81ac998"
      },
      "execution_count": 23,
      "outputs": [
        {
          "output_type": "stream",
          "name": "stdout",
          "text": [
            "0 1 2 3 4 5 6 7 8 9 10 11 12 13 14 15 16 17 18 19 20 21 22 23 24 25 26 27 28 29 30 31 32 33 34 35 36 37 38 39 40 41 42 43 44 45 46 47 48 49 50 51 Loop 강제 종료\n"
          ]
        }
      ]
    },
    {
      "cell_type": "code",
      "source": [
        "try:\n",
        "    for i in range(100):\n",
        "        print(i ,  end=' ')\n",
        "        for k in range(100):\n",
        "            if (i==k and i==51):\n",
        "                raise Exception('Loop 종료 조건 충족')\n",
        "except Exception as e:\n",
        "    print(e) "
      ],
      "metadata": {
        "colab": {
          "base_uri": "https://localhost:8080/"
        },
        "id": "-1let4TiT9vR",
        "outputId": "b3ec93c9-76a7-4dfa-dd16-3ee7f284dc96"
      },
      "execution_count": 22,
      "outputs": [
        {
          "output_type": "stream",
          "name": "stdout",
          "text": [
            "0 1 2 3 4 5 6 7 8 9 10 11 12 13 14 15 16 17 18 19 20 21 22 23 24 25 26 27 28 29 30 31 32 33 34 35 36 37 38 39 40 41 42 43 44 45 46 47 48 49 50 51 Loop 종료 조건 충족\n"
          ]
        }
      ]
    },
    {
      "cell_type": "markdown",
      "source": [
        "- assert로 예외 발생시키기"
      ],
      "metadata": {
        "id": "VmTSVZ-3U7Oq"
      }
    },
    {
      "cell_type": "code",
      "source": [
        "try:\n",
        "    x = int(input())\n",
        "    assert x % 3 == 0, '3의 배수가 아닙니다.'\n",
        "except Exception as e:\n",
        "    print(e)\n",
        "else:\n",
        "    print(x)"
      ],
      "metadata": {
        "colab": {
          "base_uri": "https://localhost:8080/"
        },
        "id": "r3LpYAgjUn6M",
        "outputId": "663fa05d-ef92-4626-9949-72b6380aa73c"
      },
      "execution_count": 27,
      "outputs": [
        {
          "output_type": "stream",
          "name": "stdout",
          "text": [
            "10\n",
            "3의 배수가 아닙니다.\n"
          ]
        }
      ]
    },
    {
      "cell_type": "markdown",
      "source": [
        "### 38.4 예외 만들기"
      ],
      "metadata": {
        "id": "-_RzeC_wX8ry"
      }
    },
    {
      "cell_type": "code",
      "source": [
        "class MyException(Exception):\n",
        "    def __init__(self):\n",
        "        super().__init__('내가 만든 예외')"
      ],
      "metadata": {
        "id": "YGsoacHrVJqq"
      },
      "execution_count": 28,
      "outputs": []
    },
    {
      "cell_type": "code",
      "source": [
        "try:\n",
        "    raise(MyException)\n",
        "except Exception as e:\n",
        "    print(e)"
      ],
      "metadata": {
        "colab": {
          "base_uri": "https://localhost:8080/"
        },
        "id": "TaD-t7ccYRzD",
        "outputId": "9ae9719d-57ca-46fb-8e07-7d9bb4e4c6fa"
      },
      "execution_count": 29,
      "outputs": [
        {
          "output_type": "stream",
          "name": "stdout",
          "text": [
            "내가 만든 예외\n"
          ]
        }
      ]
    },
    {
      "cell_type": "code",
      "source": [
        ""
      ],
      "metadata": {
        "id": "mpxcjkqxYcq_"
      },
      "execution_count": null,
      "outputs": []
    }
  ]
}