{
  "nbformat": 4,
  "nbformat_minor": 0,
  "metadata": {
    "colab": {
      "name": "u44_모듈과 패키지.ipynb",
      "provenance": []
    },
    "kernelspec": {
      "name": "python3",
      "display_name": "Python 3"
    },
    "language_info": {
      "name": "python"
    }
  },
  "cells": [
    {
      "cell_type": "markdown",
      "source": [
        "# Unit 44. 모듈과 패키지\n"
      ],
      "metadata": {
        "id": "aCNThE9Carxa"
      }
    },
    {
      "cell_type": "markdown",
      "source": [
        "### 44.1 import"
      ],
      "metadata": {
        "id": "rBLKWeNAbw8Q"
      }
    },
    {
      "cell_type": "code",
      "execution_count": 2,
      "metadata": {
        "colab": {
          "base_uri": "https://localhost:8080/"
        },
        "id": "iutX8Y7mZ9pM",
        "outputId": "4e98d9d2-6e57-4fb5-8583-635ab74cfa3f"
      },
      "outputs": [
        {
          "output_type": "execute_result",
          "data": {
            "text/plain": [
              "3.141592653589793"
            ]
          },
          "metadata": {},
          "execution_count": 2
        }
      ],
      "source": [
        "import math\n",
        "math.pi         # math 모듈의 변수"
      ]
    },
    {
      "cell_type": "code",
      "source": [
        "math.sin(2 * math.pi), math.sqrt(4.)    # math 모듈의 함수"
      ],
      "metadata": {
        "colab": {
          "base_uri": "https://localhost:8080/"
        },
        "id": "qAmStTqqb0lf",
        "outputId": "7b8f8c7d-5061-4323-a31f-47496150f7c9"
      },
      "execution_count": 3,
      "outputs": [
        {
          "output_type": "execute_result",
          "data": {
            "text/plain": [
              "(-2.4492935982947064e-16, 2.0)"
            ]
          },
          "metadata": {},
          "execution_count": 3
        }
      ]
    },
    {
      "cell_type": "markdown",
      "source": [
        "- aliasing(as)"
      ],
      "metadata": {
        "id": "uyYbNLsDdU8J"
      }
    },
    {
      "cell_type": "code",
      "source": [
        "# aliasing\n",
        "import pandas as pd\n",
        "\n",
        "s = pd.Series([1,2,3])          # pandas 모듈의 Series 클래스"
      ],
      "metadata": {
        "id": "rCTRItWhcI_s"
      },
      "execution_count": 6,
      "outputs": []
    },
    {
      "cell_type": "code",
      "source": [
        "import math as m\n",
        "round(m.pi, 4), m.log(2), round(m.sqrt(2), 4)"
      ],
      "metadata": {
        "colab": {
          "base_uri": "https://localhost:8080/"
        },
        "id": "ibJ3RCULcmzr",
        "outputId": "5da3bbec-108c-44b2-89a5-8607602a436b"
      },
      "execution_count": 7,
      "outputs": [
        {
          "output_type": "execute_result",
          "data": {
            "text/plain": [
              "(3.1416, 0.6931471805599453, 1.4142)"
            ]
          },
          "metadata": {},
          "execution_count": 7
        }
      ]
    },
    {
      "cell_type": "markdown",
      "source": [
        "- 모듈의 일부분만 가져오기 (from 모듈 import 변수/함수/클래스)"
      ],
      "metadata": {
        "id": "vMmhEk3WdYc5"
      }
    },
    {
      "cell_type": "code",
      "source": [
        "from math import exp, log\n",
        "exp(1), log(exp(1))"
      ],
      "metadata": {
        "colab": {
          "base_uri": "https://localhost:8080/"
        },
        "id": "lVilfeC3dJ0N",
        "outputId": "8b5093fd-4007-454e-ad08-bba9f04e09f8"
      },
      "execution_count": 8,
      "outputs": [
        {
          "output_type": "execute_result",
          "data": {
            "text/plain": [
              "(2.718281828459045, 1.0)"
            ]
          },
          "metadata": {},
          "execution_count": 8
        }
      ]
    },
    {
      "cell_type": "code",
      "source": [
        "from math import *      # * 모두를 의미하는 Wild character\n",
        "cos(0), sin(0)"
      ],
      "metadata": {
        "colab": {
          "base_uri": "https://localhost:8080/"
        },
        "id": "LUEcATzud9Ef",
        "outputId": "9733f8da-575c-4137-bc6c-034b4c303ab2"
      },
      "execution_count": 9,
      "outputs": [
        {
          "output_type": "execute_result",
          "data": {
            "text/plain": [
              "(1.0, 0.0)"
            ]
          },
          "metadata": {},
          "execution_count": 9
        }
      ]
    },
    {
      "cell_type": "code",
      "source": [
        "from sklearn.tree import DecisionTreeClassifier as DTC\n",
        "dtc = DTC()"
      ],
      "metadata": {
        "id": "9bmF9Nzqecj3"
      },
      "execution_count": 13,
      "outputs": []
    },
    {
      "cell_type": "markdown",
      "source": [
        "### 44.2 import 패키지"
      ],
      "metadata": {
        "id": "1tJkq2uJfQST"
      }
    },
    {
      "cell_type": "code",
      "source": [
        "from urllib.request import urlopen\n",
        "response = urlopen('http://www.google.co.kr')\n",
        "response.status"
      ],
      "metadata": {
        "colab": {
          "base_uri": "https://localhost:8080/"
        },
        "id": "Temxer-ye1x2",
        "outputId": "3d1fb91d-73c4-4469-9af7-c2dad84b2ca3"
      },
      "execution_count": 14,
      "outputs": [
        {
          "output_type": "execute_result",
          "data": {
            "text/plain": [
              "200"
            ]
          },
          "metadata": {},
          "execution_count": 14
        }
      ]
    },
    {
      "cell_type": "markdown",
      "source": [
        "### 44.3 패키지 설치\n",
        "<pre>\n",
        "- 콘다 가상환경(예를 들어 base)\n",
        "    conda activate base\n",
        "    conda install module-name\n",
        "    conda install -c conda-forge module-name\n",
        "- 콘다 가상환경에서 설치 실패시\n",
        "    pip install module-name\n",
        "</pre>"
      ],
      "metadata": {
        "id": "ZYw0HzGuguyy"
      }
    },
    {
      "cell_type": "code",
      "source": [
        ""
      ],
      "metadata": {
        "id": "c8FtEgjxf0L3"
      },
      "execution_count": null,
      "outputs": []
    }
  ]
}