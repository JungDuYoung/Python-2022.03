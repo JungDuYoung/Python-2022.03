{
  "nbformat": 4,
  "nbformat_minor": 0,
  "metadata": {
    "colab": {
      "name": "U10_리스트와 튜플.ipynb",
      "provenance": []
    },
    "kernelspec": {
      "name": "python3",
      "display_name": "Python 3"
    },
    "language_info": {
      "name": "python"
    }
  },
  "cells": [
    {
      "cell_type": "markdown",
      "source": [
        "# Unit 10. 리스트와 튜플\n",
        "```\n",
        "\n"
      ],
      "metadata": {
        "id": "_S_r7KB3haFF"
      }
    },
    {
      "cell_type": "markdown",
      "source": [
        "### 10.1 리스트(List)"
      ],
      "metadata": {
        "id": "xa7mXpuHh99r"
      }
    },
    {
      "cell_type": "code",
      "execution_count": 1,
      "metadata": {
        "colab": {
          "base_uri": "https://localhost:8080/"
        },
        "id": "7ObTivIEhWPG",
        "outputId": "6c94514b-9cb9-4c8c-8ffc-6746778a25bd"
      },
      "outputs": [
        {
          "output_type": "execute_result",
          "data": {
            "text/plain": [
              "[38, 21, 53, 62, 19]"
            ]
          },
          "metadata": {},
          "execution_count": 1
        }
      ],
      "source": [
        "a = [38, 21, 53, 62, 19]\n",
        "a"
      ]
    },
    {
      "cell_type": "code",
      "source": [
        "import numpy as np\n",
        "b = list(np.random.randint(10,70,10))\n",
        "b"
      ],
      "metadata": {
        "colab": {
          "base_uri": "https://localhost:8080/"
        },
        "id": "3nGNuPCpiT6Q",
        "outputId": "e173e96e-d8d1-4e76-f09a-6cc62c352c9e"
      },
      "execution_count": 5,
      "outputs": [
        {
          "output_type": "execute_result",
          "data": {
            "text/plain": [
              "[33, 52, 68, 20, 30, 56, 63, 25, 48, 51]"
            ]
          },
          "metadata": {},
          "execution_count": 5
        }
      ]
    },
    {
      "cell_type": "code",
      "source": [
        "# 리스트에는 여러 자료형을 사용할 수 있음\n",
        "person = ['james', 27, 175.3, '남']\n",
        "person"
      ],
      "metadata": {
        "colab": {
          "base_uri": "https://localhost:8080/"
        },
        "id": "clt9uFXWimZ6",
        "outputId": "5475c517-5220-4e1b-a641-bb607702e09c"
      },
      "execution_count": 6,
      "outputs": [
        {
          "output_type": "execute_result",
          "data": {
            "text/plain": [
              "['james', 27, 175.3, '남']"
            ]
          },
          "metadata": {},
          "execution_count": 6
        }
      ]
    },
    {
      "cell_type": "code",
      "source": [
        "# 위의 리스트는 아래와 같은 딕셔너리로 표현하는 것이 더 좋다\n",
        "{'name':'james', 'age':27, 'height':175.3, 'gender':'남'}"
      ],
      "metadata": {
        "colab": {
          "base_uri": "https://localhost:8080/"
        },
        "id": "Udu5tyczjk-P",
        "outputId": "1121cd3a-17d1-4ddd-a659-687a21ad93aa"
      },
      "execution_count": 7,
      "outputs": [
        {
          "output_type": "execute_result",
          "data": {
            "text/plain": [
              "{'age': 27, 'gender': '남', 'height': 175.3, 'name': 'james'}"
            ]
          },
          "metadata": {},
          "execution_count": 7
        }
      ]
    },
    {
      "cell_type": "markdown",
      "source": [
        "- 빈 리스트 만들기"
      ],
      "metadata": {
        "id": "DNgXGZ-wkFir"
      }
    },
    {
      "cell_type": "code",
      "source": [
        "a = []\n",
        "b = list()\n",
        "a, b = [], []"
      ],
      "metadata": {
        "id": "w9yc3gTNj9rO"
      },
      "execution_count": 8,
      "outputs": []
    },
    {
      "cell_type": "code",
      "source": [
        "import random\n",
        "a = []\n",
        "for i in range(5):\n",
        "    a.append(random.randint(60,100))\n",
        "a"
      ],
      "metadata": {
        "colab": {
          "base_uri": "https://localhost:8080/"
        },
        "id": "y78MdacIkk6h",
        "outputId": "e47d4950-7351-47d2-8d86-a416445def44"
      },
      "execution_count": 10,
      "outputs": [
        {
          "output_type": "execute_result",
          "data": {
            "text/plain": [
              "[65, 89, 75, 64, 91]"
            ]
          },
          "metadata": {},
          "execution_count": 10
        }
      ]
    },
    {
      "cell_type": "markdown",
      "source": [
        "- range 객체"
      ],
      "metadata": {
        "id": "dlGaK00qlJIb"
      }
    },
    {
      "cell_type": "code",
      "source": [
        "# range parameter 1개: 횟수 의미(0 ~ n-1)\n",
        "list(range(5))"
      ],
      "metadata": {
        "colab": {
          "base_uri": "https://localhost:8080/"
        },
        "id": "aabofZzOk2c9",
        "outputId": "ffaf8fe4-1d0f-410b-d533-dc617b583740"
      },
      "execution_count": 12,
      "outputs": [
        {
          "output_type": "execute_result",
          "data": {
            "text/plain": [
              "[0, 1, 2, 3, 4]"
            ]
          },
          "metadata": {},
          "execution_count": 12
        }
      ]
    },
    {
      "cell_type": "code",
      "source": [
        "# range parameter 2개: 시작, 끝 의미(시작 ~ 끝-1)\n",
        "list(range(1,10))"
      ],
      "metadata": {
        "colab": {
          "base_uri": "https://localhost:8080/"
        },
        "id": "YuwgMZGClONx",
        "outputId": "8d894dbe-3ce7-42fa-ba0f-fd55d973b70e"
      },
      "execution_count": 13,
      "outputs": [
        {
          "output_type": "execute_result",
          "data": {
            "text/plain": [
              "[1, 2, 3, 4, 5, 6, 7, 8, 9]"
            ]
          },
          "metadata": {},
          "execution_count": 13
        }
      ]
    },
    {
      "cell_type": "code",
      "source": [
        "# range parameter 3개: 시작, 끝, 증가폭 의미\n",
        "list(range(1,10,2))"
      ],
      "metadata": {
        "colab": {
          "base_uri": "https://localhost:8080/"
        },
        "id": "VExda3Uhlvd_",
        "outputId": "ddcd4878-4b24-4954-cbc7-3f048672ca0b"
      },
      "execution_count": 14,
      "outputs": [
        {
          "output_type": "execute_result",
          "data": {
            "text/plain": [
              "[1, 3, 5, 7, 9]"
            ]
          },
          "metadata": {},
          "execution_count": 14
        }
      ]
    },
    {
      "cell_type": "code",
      "source": [
        "list(range(10,0,-2))"
      ],
      "metadata": {
        "colab": {
          "base_uri": "https://localhost:8080/"
        },
        "id": "xicxD--_mDWM",
        "outputId": "8c0fb2db-b5f5-451c-e6f0-722fffdbe4ab"
      },
      "execution_count": 15,
      "outputs": [
        {
          "output_type": "execute_result",
          "data": {
            "text/plain": [
              "[10, 8, 6, 4, 2]"
            ]
          },
          "metadata": {},
          "execution_count": 15
        }
      ]
    },
    {
      "cell_type": "markdown",
      "source": [
        "### 10.2 튜플(tuple)"
      ],
      "metadata": {
        "id": "PG2ZBBJem5vu"
      }
    },
    {
      "cell_type": "code",
      "source": [
        "a = (38, 21, 53, 62, 19)\n",
        "a"
      ],
      "metadata": {
        "colab": {
          "base_uri": "https://localhost:8080/"
        },
        "id": "jn6Da058nPJ2",
        "outputId": "43a5233e-b13c-4dbb-a0b1-6175f444f35f"
      },
      "execution_count": 18,
      "outputs": [
        {
          "output_type": "execute_result",
          "data": {
            "text/plain": [
              "(38, 21, 53, 62, 19)"
            ]
          },
          "metadata": {},
          "execution_count": 18
        }
      ]
    },
    {
      "cell_type": "code",
      "source": [
        "person"
      ],
      "metadata": {
        "colab": {
          "base_uri": "https://localhost:8080/"
        },
        "id": "2bu_G2n9mRhG",
        "outputId": "18ae8d39-6ac4-4803-f3be-d01dbee206fe"
      },
      "execution_count": 16,
      "outputs": [
        {
          "output_type": "execute_result",
          "data": {
            "text/plain": [
              "['james', 27, 175.3, '남']"
            ]
          },
          "metadata": {},
          "execution_count": 16
        }
      ]
    },
    {
      "cell_type": "code",
      "source": [
        "person = ('james', 27, 175.3, '남')\n",
        "person"
      ],
      "metadata": {
        "colab": {
          "base_uri": "https://localhost:8080/"
        },
        "id": "mcXHItgtm_fV",
        "outputId": "26413295-7668-43df-c9d4-30beaec04086"
      },
      "execution_count": 17,
      "outputs": [
        {
          "output_type": "execute_result",
          "data": {
            "text/plain": [
              "('james', 27, 175.3, '남')"
            ]
          },
          "metadata": {},
          "execution_count": 17
        }
      ]
    },
    {
      "cell_type": "code",
      "source": [
        "size = (3)\n",
        "type(size)"
      ],
      "metadata": {
        "colab": {
          "base_uri": "https://localhost:8080/"
        },
        "id": "FFZ_nzs8nIWd",
        "outputId": "8ec90f22-ff28-4121-efc0-ca63acbe8630"
      },
      "execution_count": 21,
      "outputs": [
        {
          "output_type": "execute_result",
          "data": {
            "text/plain": [
              "int"
            ]
          },
          "metadata": {},
          "execution_count": 21
        }
      ]
    },
    {
      "cell_type": "code",
      "source": [
        "size = (3,)\n",
        "type(size)"
      ],
      "metadata": {
        "colab": {
          "base_uri": "https://localhost:8080/"
        },
        "id": "abyrPal6n0a2",
        "outputId": "e7c7e5a3-0223-41e4-b44d-b959282fd86d"
      },
      "execution_count": 22,
      "outputs": [
        {
          "output_type": "execute_result",
          "data": {
            "text/plain": [
              "tuple"
            ]
          },
          "metadata": {},
          "execution_count": 22
        }
      ]
    },
    {
      "cell_type": "code",
      "source": [
        "size = 3,\n",
        "type(size)"
      ],
      "metadata": {
        "colab": {
          "base_uri": "https://localhost:8080/"
        },
        "id": "dHmySn6roB9R",
        "outputId": "e3eec00d-0fc2-4ffc-99af-79f755e59494"
      },
      "execution_count": 24,
      "outputs": [
        {
          "output_type": "execute_result",
          "data": {
            "text/plain": [
              "tuple"
            ]
          },
          "metadata": {},
          "execution_count": 24
        }
      ]
    },
    {
      "cell_type": "markdown",
      "source": [
        "- 튜플은 요소를 변경, 추가, 삭제할 수 없다."
      ],
      "metadata": {
        "id": "saH2W_5NoT3z"
      }
    },
    {
      "cell_type": "code",
      "source": [
        "t = ()\n",
        "type(t)"
      ],
      "metadata": {
        "colab": {
          "base_uri": "https://localhost:8080/"
        },
        "id": "HIktCtK_oGGH",
        "outputId": "4e585ed2-bb2b-4657-a722-3078a8856f78"
      },
      "execution_count": 25,
      "outputs": [
        {
          "output_type": "execute_result",
          "data": {
            "text/plain": [
              "tuple"
            ]
          },
          "metadata": {},
          "execution_count": 25
        }
      ]
    },
    {
      "cell_type": "code",
      "source": [
        "t = tuple(range(5))\n",
        "t"
      ],
      "metadata": {
        "colab": {
          "base_uri": "https://localhost:8080/"
        },
        "id": "1lGjHVzyohRE",
        "outputId": "a1b4c979-e363-4967-8872-ef7c6b1095f5"
      },
      "execution_count": 26,
      "outputs": [
        {
          "output_type": "execute_result",
          "data": {
            "text/plain": [
              "(0, 1, 2, 3, 4)"
            ]
          },
          "metadata": {},
          "execution_count": 26
        }
      ]
    },
    {
      "cell_type": "markdown",
      "source": [
        "- 리스트 <--> 튜플"
      ],
      "metadata": {
        "id": "OxxzsJNDo2d9"
      }
    },
    {
      "cell_type": "code",
      "source": [
        "l = list(t)\n",
        "type(l)"
      ],
      "metadata": {
        "colab": {
          "base_uri": "https://localhost:8080/"
        },
        "id": "wf-7h4x6oxao",
        "outputId": "d4578bc7-844c-40ca-b8e8-a846ef8236cf"
      },
      "execution_count": 27,
      "outputs": [
        {
          "output_type": "execute_result",
          "data": {
            "text/plain": [
              "list"
            ]
          },
          "metadata": {},
          "execution_count": 27
        }
      ]
    },
    {
      "cell_type": "code",
      "source": [
        "type(tuple(l))"
      ],
      "metadata": {
        "colab": {
          "base_uri": "https://localhost:8080/"
        },
        "id": "A4zRKZ6to-pS",
        "outputId": "6b16f81e-4663-4c65-d28d-4ded192a859e"
      },
      "execution_count": 28,
      "outputs": [
        {
          "output_type": "execute_result",
          "data": {
            "text/plain": [
              "tuple"
            ]
          },
          "metadata": {},
          "execution_count": 28
        }
      ]
    },
    {
      "cell_type": "markdown",
      "source": [
        "- 리스트에 문자열 넣기"
      ],
      "metadata": {
        "id": "KFdGVqQ4pW6H"
      }
    },
    {
      "cell_type": "code",
      "source": [
        "list('안녕하세요')"
      ],
      "metadata": {
        "colab": {
          "base_uri": "https://localhost:8080/"
        },
        "id": "mSdTAfrepFyd",
        "outputId": "d3177dd7-c4db-45a5-bb0b-ca24d05ab57f"
      },
      "execution_count": 29,
      "outputs": [
        {
          "output_type": "execute_result",
          "data": {
            "text/plain": [
              "['안', '녕', '하', '세', '요']"
            ]
          },
          "metadata": {},
          "execution_count": 29
        }
      ]
    },
    {
      "cell_type": "code",
      "source": [
        "list('ABCD')"
      ],
      "metadata": {
        "colab": {
          "base_uri": "https://localhost:8080/"
        },
        "id": "6vm2HgZUpfze",
        "outputId": "e5336cdb-fd7d-4503-eac7-eebbb6805284"
      },
      "execution_count": 30,
      "outputs": [
        {
          "output_type": "execute_result",
          "data": {
            "text/plain": [
              "['A', 'B', 'C', 'D']"
            ]
          },
          "metadata": {},
          "execution_count": 30
        }
      ]
    },
    {
      "cell_type": "markdown",
      "source": [
        "- list/tuple unpacking"
      ],
      "metadata": {
        "id": "N21fsQpqpteE"
      }
    },
    {
      "cell_type": "code",
      "source": [
        "a, b, c, d = 'a', 'b', 'c', 'd'\n",
        "a, b, c, d"
      ],
      "metadata": {
        "colab": {
          "base_uri": "https://localhost:8080/"
        },
        "id": "b7H_7MA-pqbn",
        "outputId": "682364a6-32c9-41eb-c9a6-812a390301ac"
      },
      "execution_count": 32,
      "outputs": [
        {
          "output_type": "execute_result",
          "data": {
            "text/plain": [
              "('a', 'b', 'c', 'd')"
            ]
          },
          "metadata": {},
          "execution_count": 32
        }
      ]
    },
    {
      "cell_type": "code",
      "source": [
        "a, b, c, d = list('abcd')\n",
        "a, b, c, d"
      ],
      "metadata": {
        "colab": {
          "base_uri": "https://localhost:8080/"
        },
        "id": "MsIkodzSp55D",
        "outputId": "100e093f-2f78-4911-9a85-4c6987dcd6ab"
      },
      "execution_count": 33,
      "outputs": [
        {
          "output_type": "execute_result",
          "data": {
            "text/plain": [
              "('a', 'b', 'c', 'd')"
            ]
          },
          "metadata": {},
          "execution_count": 33
        }
      ]
    },
    {
      "cell_type": "code",
      "source": [
        "x, y, z = range(3)\n",
        "x, y, z"
      ],
      "metadata": {
        "colab": {
          "base_uri": "https://localhost:8080/"
        },
        "id": "n8Nk5i3KqFO7",
        "outputId": "528a97f1-57ee-4363-bbab-7f2e6ba84e34"
      },
      "execution_count": 34,
      "outputs": [
        {
          "output_type": "execute_result",
          "data": {
            "text/plain": [
              "(0, 1, 2)"
            ]
          },
          "metadata": {},
          "execution_count": 34
        }
      ]
    },
    {
      "cell_type": "code",
      "source": [
        "x, y, z = input().split()\n",
        "x, y, z"
      ],
      "metadata": {
        "colab": {
          "base_uri": "https://localhost:8080/"
        },
        "id": "b8XtVkHIqPH8",
        "outputId": "5db102fc-cb70-4924-e624-a55551752d89"
      },
      "execution_count": 35,
      "outputs": [
        {
          "name": "stdout",
          "output_type": "stream",
          "text": [
            "10 20 30\n"
          ]
        },
        {
          "output_type": "execute_result",
          "data": {
            "text/plain": [
              "('10', '20', '30')"
            ]
          },
          "metadata": {},
          "execution_count": 35
        }
      ]
    },
    {
      "cell_type": "code",
      "source": [
        "x, y, z = map(int, input().split())\n",
        "x, y, z"
      ],
      "metadata": {
        "colab": {
          "base_uri": "https://localhost:8080/"
        },
        "id": "L258ZKpiqeER",
        "outputId": "50b1e656-a3b0-4e36-fabd-4f003afe1f52"
      },
      "execution_count": 36,
      "outputs": [
        {
          "name": "stdout",
          "output_type": "stream",
          "text": [
            "10 20 30\n"
          ]
        },
        {
          "output_type": "execute_result",
          "data": {
            "text/plain": [
              "(10, 20, 30)"
            ]
          },
          "metadata": {},
          "execution_count": 36
        }
      ]
    },
    {
      "cell_type": "code",
      "source": [
        "x, y, z = map(lambda x: int(x)*2 +5, input().split())\n",
        "x, y, z"
      ],
      "metadata": {
        "colab": {
          "base_uri": "https://localhost:8080/"
        },
        "id": "srHDlspBqrW_",
        "outputId": "f8645940-4305-4885-f18a-aad161720e82"
      },
      "execution_count": 37,
      "outputs": [
        {
          "name": "stdout",
          "output_type": "stream",
          "text": [
            "10 20 30\n"
          ]
        },
        {
          "output_type": "execute_result",
          "data": {
            "text/plain": [
              "(25, 45, 65)"
            ]
          },
          "metadata": {},
          "execution_count": 37
        }
      ]
    },
    {
      "cell_type": "code",
      "source": [
        ""
      ],
      "metadata": {
        "id": "ZMUaqe8Mq5x3"
      },
      "execution_count": null,
      "outputs": []
    }
  ]
}