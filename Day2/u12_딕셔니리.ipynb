{
  "nbformat": 4,
  "nbformat_minor": 0,
  "metadata": {
    "colab": {
      "name": "u12_딕셔니리.ipynb",
      "provenance": []
    },
    "kernelspec": {
      "name": "python3",
      "display_name": "Python 3"
    },
    "language_info": {
      "name": "python"
    }
  },
  "cells": [
    {
      "cell_type": "markdown",
      "source": [
        "# Unit 12. 딕셔너리(Dictionary)"
      ],
      "metadata": {
        "id": "KqZqUCUcU7LL"
      }
    },
    {
      "cell_type": "code",
      "execution_count": 1,
      "metadata": {
        "colab": {
          "base_uri": "https://localhost:8080/"
        },
        "id": "56X32xq8U2MJ",
        "outputId": "94111fae-4797-491d-fdf1-fd5ed671bd4b"
      },
      "outputs": [
        {
          "output_type": "execute_result",
          "data": {
            "text/plain": [
              "{'armor': 18.72, 'health': 490, 'mana': 334, 'melee': 550}"
            ]
          },
          "metadata": {},
          "execution_count": 1
        }
      ],
      "source": [
        "lux1 = [490, 334,550, 18.72]\n",
        "lux2 = {'health':490, 'mana':334, 'melee':550, 'armor':18.72}\n",
        "lux2"
      ]
    },
    {
      "cell_type": "code",
      "source": [
        "armor = lux1[-1]\n",
        "armor"
      ],
      "metadata": {
        "colab": {
          "base_uri": "https://localhost:8080/"
        },
        "id": "8vRNCJLyXDm5",
        "outputId": "0a16f623-f683-43b1-9d65-89ed7c55f33e"
      },
      "execution_count": 4,
      "outputs": [
        {
          "output_type": "execute_result",
          "data": {
            "text/plain": [
              "18.72"
            ]
          },
          "metadata": {},
          "execution_count": 4
        }
      ]
    },
    {
      "cell_type": "code",
      "source": [
        "armor = lux2['armor']\n",
        "armor"
      ],
      "metadata": {
        "colab": {
          "base_uri": "https://localhost:8080/"
        },
        "id": "PlJXwknHXJGD",
        "outputId": "04a038ed-b787-43d3-d361-3c8f5c4dba10"
      },
      "execution_count": 3,
      "outputs": [
        {
          "output_type": "execute_result",
          "data": {
            "text/plain": [
              "18.72"
            ]
          },
          "metadata": {},
          "execution_count": 3
        }
      ]
    },
    {
      "cell_type": "markdown",
      "source": [
        "### 12.1 딕셔너리 만들기"
      ],
      "metadata": {
        "id": "Vlokl0jTXbec"
      }
    },
    {
      "cell_type": "code",
      "source": [
        "# key값의 순서가 보장되지 않음\n",
        "lux = {'health':490, 'mana':334, 'melee':550, 'armor':18.72}\n",
        "lux"
      ],
      "metadata": {
        "colab": {
          "base_uri": "https://localhost:8080/"
        },
        "id": "h8tQeUTPXQjI",
        "outputId": "3ff46bc7-3181-4fec-86e3-01c20f9467fc"
      },
      "execution_count": 6,
      "outputs": [
        {
          "output_type": "execute_result",
          "data": {
            "text/plain": [
              "{'armor': 18.72, 'health': 490, 'mana': 334, 'melee': 550}"
            ]
          },
          "metadata": {},
          "execution_count": 6
        }
      ]
    },
    {
      "cell_type": "code",
      "source": [
        "lux = {'health':490, 'mana':334, 'melee':550, 'armor':18.72, 'mana':430}\n",
        "lux"
      ],
      "metadata": {
        "colab": {
          "base_uri": "https://localhost:8080/"
        },
        "id": "kbWFJ79fXldE",
        "outputId": "ab031be5-fe43-4958-dbb9-b8e7768e9497"
      },
      "execution_count": 7,
      "outputs": [
        {
          "output_type": "execute_result",
          "data": {
            "text/plain": [
              "{'armor': 18.72, 'health': 490, 'mana': 430, 'melee': 550}"
            ]
          },
          "metadata": {},
          "execution_count": 7
        }
      ]
    },
    {
      "cell_type": "code",
      "source": [
        "# key값의 순서(입력한 순서)가 보장\n",
        "from collections import OrderedDict\n",
        "d = OrderedDict()\n",
        "d['health'] = 490\n",
        "d['mana'] = 334\n",
        "d['armor'] = 18.72\n",
        "d"
      ],
      "metadata": {
        "colab": {
          "base_uri": "https://localhost:8080/"
        },
        "id": "oC2Pj6R2Xy9m",
        "outputId": "918c6e52-bea4-4b4a-f30a-f14601fe7093"
      },
      "execution_count": 8,
      "outputs": [
        {
          "output_type": "execute_result",
          "data": {
            "text/plain": [
              "OrderedDict([('health', 490), ('mana', 334), ('armor', 18.72)])"
            ]
          },
          "metadata": {},
          "execution_count": 8
        }
      ]
    },
    {
      "cell_type": "markdown",
      "source": [
        "- 빈 딕셔너리 생성"
      ],
      "metadata": {
        "id": "rmv3QGp3ZQPF"
      }
    },
    {
      "cell_type": "code",
      "source": [
        "a = {}\n",
        "b = dict()\n",
        "type(a), type(b)"
      ],
      "metadata": {
        "colab": {
          "base_uri": "https://localhost:8080/"
        },
        "id": "4Lqa6Mv6YSSp",
        "outputId": "20d40962-2395-4e0c-b16a-330fd8cd6958"
      },
      "execution_count": 9,
      "outputs": [
        {
          "output_type": "execute_result",
          "data": {
            "text/plain": [
              "(dict, dict)"
            ]
          },
          "metadata": {},
          "execution_count": 9
        }
      ]
    },
    {
      "cell_type": "code",
      "source": [
        "c = set([1,2,3])\n",
        "type(c)"
      ],
      "metadata": {
        "colab": {
          "base_uri": "https://localhost:8080/"
        },
        "id": "yrVoPIdUZbAn",
        "outputId": "81f02638-21f3-434b-d1e6-78129cbc780a"
      },
      "execution_count": 13,
      "outputs": [
        {
          "output_type": "execute_result",
          "data": {
            "text/plain": [
              "set"
            ]
          },
          "metadata": {},
          "execution_count": 13
        }
      ]
    },
    {
      "cell_type": "code",
      "source": [
        "c"
      ],
      "metadata": {
        "colab": {
          "base_uri": "https://localhost:8080/"
        },
        "id": "VUl1MXY2ZfIk",
        "outputId": "80c5943b-6139-48d5-c42d-59008b8f491d"
      },
      "execution_count": 14,
      "outputs": [
        {
          "output_type": "execute_result",
          "data": {
            "text/plain": [
              "{1, 2, 3}"
            ]
          },
          "metadata": {},
          "execution_count": 14
        }
      ]
    },
    {
      "cell_type": "markdown",
      "source": [
        "- dict() 로 딕셔너리 생성"
      ],
      "metadata": {
        "id": "PEbBwvppZ1u0"
      }
    },
    {
      "cell_type": "code",
      "source": [
        "lux1 = dict(health=490, mana=334, melee=550, armor=18.72)    # 키=값 형식으로 딕셔너리를 만듦\n",
        "lux1"
      ],
      "metadata": {
        "colab": {
          "base_uri": "https://localhost:8080/"
        },
        "id": "8pSNRkENZhGa",
        "outputId": "8c303d49-b080-47be-c7a4-6d8d7f4f655f"
      },
      "execution_count": 15,
      "outputs": [
        {
          "output_type": "execute_result",
          "data": {
            "text/plain": [
              "{'armor': 18.72, 'health': 490, 'mana': 334, 'melee': 550}"
            ]
          },
          "metadata": {},
          "execution_count": 15
        }
      ]
    },
    {
      "cell_type": "code",
      "source": [
        "keys = ['health', 'mana', 'melee', 'armor']\n",
        "values = [490, 334, 550, 18.72]\n",
        "list(zip(keys, values))"
      ],
      "metadata": {
        "colab": {
          "base_uri": "https://localhost:8080/"
        },
        "id": "zRpJclxyaGs4",
        "outputId": "9cc5b922-a0c9-4902-d7fc-dc2b1b020bc7"
      },
      "execution_count": 20,
      "outputs": [
        {
          "output_type": "execute_result",
          "data": {
            "text/plain": [
              "[('health', 490), ('mana', 334), ('melee', 550), ('armor', 18.72)]"
            ]
          },
          "metadata": {},
          "execution_count": 20
        }
      ]
    },
    {
      "cell_type": "code",
      "source": [
        "lux2 = dict(zip(keys, values))\n",
        "lux2"
      ],
      "metadata": {
        "colab": {
          "base_uri": "https://localhost:8080/"
        },
        "id": "N5A02bl7adlQ",
        "outputId": "5109576e-edae-46e1-d7f5-22cc038734ed"
      },
      "execution_count": 21,
      "outputs": [
        {
          "output_type": "execute_result",
          "data": {
            "text/plain": [
              "{'armor': 18.72, 'health': 490, 'mana': 334, 'melee': 550}"
            ]
          },
          "metadata": {},
          "execution_count": 21
        }
      ]
    },
    {
      "cell_type": "code",
      "source": [
        "lux3 = dict([('health', 490), ('mana', 334), ('melee', 550), ('armor', 18.72)])\n",
        "lux3"
      ],
      "metadata": {
        "colab": {
          "base_uri": "https://localhost:8080/"
        },
        "id": "0sCGGeEJaviJ",
        "outputId": "f3e7d0d3-2509-4613-d613-7f0894ebf519"
      },
      "execution_count": 22,
      "outputs": [
        {
          "output_type": "execute_result",
          "data": {
            "text/plain": [
              "{'armor': 18.72, 'health': 490, 'mana': 334, 'melee': 550}"
            ]
          },
          "metadata": {},
          "execution_count": 22
        }
      ]
    },
    {
      "cell_type": "code",
      "source": [
        "lux4 = dict({'health':490, 'mana':334, 'melee':550, 'armor':18.72})\n",
        "lux4"
      ],
      "metadata": {
        "colab": {
          "base_uri": "https://localhost:8080/"
        },
        "id": "cGFh0pEFa9z-",
        "outputId": "ac993da8-d65f-485f-bf1b-3d5b018c0c9e"
      },
      "execution_count": 23,
      "outputs": [
        {
          "output_type": "execute_result",
          "data": {
            "text/plain": [
              "{'armor': 18.72, 'health': 490, 'mana': 334, 'melee': 550}"
            ]
          },
          "metadata": {},
          "execution_count": 23
        }
      ]
    },
    {
      "cell_type": "markdown",
      "source": [
        "- 추천 방법"
      ],
      "metadata": {
        "id": "2an09E5rbh20"
      }
    },
    {
      "cell_type": "code",
      "source": [
        "# 가장 많이 사용하는 방법 2가지\n",
        "lux = {'health':490, 'mana':334, 'melee':550, 'armor':18.72}\n",
        "lux2 = dict(zip(keys, values))"
      ],
      "metadata": {
        "id": "3zvW67XjbHVl"
      },
      "execution_count": 27,
      "outputs": []
    },
    {
      "cell_type": "markdown",
      "source": [
        "### 12.2 딕셔너리 키에 접근하고 값 할당하기"
      ],
      "metadata": {
        "id": "Tk7bAKpfcyGz"
      }
    },
    {
      "cell_type": "code",
      "source": [
        "lux['mana']"
      ],
      "metadata": {
        "colab": {
          "base_uri": "https://localhost:8080/"
        },
        "id": "gR6ZfIRXbxry",
        "outputId": "e0d1c0b2-5a66-451c-c342-9719ede19491"
      },
      "execution_count": 28,
      "outputs": [
        {
          "output_type": "execute_result",
          "data": {
            "text/plain": [
              "334"
            ]
          },
          "metadata": {},
          "execution_count": 28
        }
      ]
    },
    {
      "cell_type": "code",
      "source": [
        "lux['armor'] = 21.34\n",
        "lux"
      ],
      "metadata": {
        "colab": {
          "base_uri": "https://localhost:8080/"
        },
        "id": "XglndcOic-cM",
        "outputId": "87df49cd-16f4-47d2-b9a8-7cd4b856f679"
      },
      "execution_count": 29,
      "outputs": [
        {
          "output_type": "execute_result",
          "data": {
            "text/plain": [
              "{'armor': 21.34, 'health': 490, 'mana': 334, 'melee': 550}"
            ]
          },
          "metadata": {},
          "execution_count": 29
        }
      ]
    },
    {
      "cell_type": "code",
      "source": [
        "lux['new'] = 'Kim'\n",
        "lux"
      ],
      "metadata": {
        "colab": {
          "base_uri": "https://localhost:8080/"
        },
        "id": "93nVcgCAdIfo",
        "outputId": "e0bec1f8-48b0-4258-d5e0-eccc5a000114"
      },
      "execution_count": 30,
      "outputs": [
        {
          "output_type": "execute_result",
          "data": {
            "text/plain": [
              "{'armor': 21.34, 'health': 490, 'mana': 334, 'melee': 550, 'new': 'Kim'}"
            ]
          },
          "metadata": {},
          "execution_count": 30
        }
      ]
    },
    {
      "cell_type": "code",
      "source": [
        "lux['origin']"
      ],
      "metadata": {
        "colab": {
          "base_uri": "https://localhost:8080/",
          "height": 174
        },
        "id": "0Ezs69PTdSK8",
        "outputId": "8cba12e7-338a-49d9-bfc1-00bb7baf76f1"
      },
      "execution_count": 31,
      "outputs": [
        {
          "output_type": "error",
          "ename": "KeyError",
          "evalue": "ignored",
          "traceback": [
            "\u001b[0;31m---------------------------------------------------------------------------\u001b[0m",
            "\u001b[0;31mKeyError\u001b[0m                                  Traceback (most recent call last)",
            "\u001b[0;32m<ipython-input-31-69b3bda4e409>\u001b[0m in \u001b[0;36m<module>\u001b[0;34m()\u001b[0m\n\u001b[0;32m----> 1\u001b[0;31m \u001b[0mlux\u001b[0m\u001b[0;34m[\u001b[0m\u001b[0;34m'origin'\u001b[0m\u001b[0;34m]\u001b[0m\u001b[0;34m\u001b[0m\u001b[0;34m\u001b[0m\u001b[0m\n\u001b[0m",
            "\u001b[0;31mKeyError\u001b[0m: 'origin'"
          ]
        }
      ]
    },
    {
      "cell_type": "markdown",
      "source": [
        "- in 연산자: key가 있는지 확인"
      ],
      "metadata": {
        "id": "xekQfL0TgzVY"
      }
    },
    {
      "cell_type": "code",
      "source": [
        "'health' in lux"
      ],
      "metadata": {
        "colab": {
          "base_uri": "https://localhost:8080/"
        },
        "id": "ueOZh4rHeCzP",
        "outputId": "5ecd380f-52cd-4a76-e003-1aa07038d3a4"
      },
      "execution_count": 32,
      "outputs": [
        {
          "output_type": "execute_result",
          "data": {
            "text/plain": [
              "True"
            ]
          },
          "metadata": {},
          "execution_count": 32
        }
      ]
    },
    {
      "cell_type": "markdown",
      "source": [
        "- key 갯수"
      ],
      "metadata": {
        "id": "F5PxWAF9g_fV"
      }
    },
    {
      "cell_type": "code",
      "source": [
        "len(lux)"
      ],
      "metadata": {
        "colab": {
          "base_uri": "https://localhost:8080/"
        },
        "id": "ZN46NKv0g9ar",
        "outputId": "8a34a636-6733-4943-bb43-49a8b60e4898"
      },
      "execution_count": 33,
      "outputs": [
        {
          "output_type": "execute_result",
          "data": {
            "text/plain": [
              "5"
            ]
          },
          "metadata": {},
          "execution_count": 33
        }
      ]
    },
    {
      "cell_type": "code",
      "source": [
        ""
      ],
      "metadata": {
        "id": "XuTWqtnvhDAk"
      },
      "execution_count": null,
      "outputs": []
    }
  ]
}