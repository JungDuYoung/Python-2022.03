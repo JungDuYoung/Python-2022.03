{
  "nbformat": 4,
  "nbformat_minor": 0,
  "metadata": {
    "colab": {
      "name": "u34_클래스.ipynb",
      "provenance": [],
      "collapsed_sections": []
    },
    "kernelspec": {
      "name": "python3",
      "display_name": "Python 3"
    },
    "language_info": {
      "name": "python"
    }
  },
  "cells": [
    {
      "cell_type": "markdown",
      "source": [
        "# Unit 34. 클래스(Class)\n",
        "### 34.1 클래스와 메소드 만들기"
      ],
      "metadata": {
        "id": "t5DzrnWbxz0E"
      }
    },
    {
      "cell_type": "code",
      "execution_count": null,
      "metadata": {
        "id": "1uVLmfXRWCXC"
      },
      "outputs": [],
      "source": [
        "class Person:       # 클래스 이름은 대문자로 시작\n",
        "    def greeting(self):     # 메소드의 첫번째 인자는 무조건 self\n",
        "        print('Hello')"
      ]
    },
    {
      "cell_type": "code",
      "source": [
        "# 클래스의 인스턴스를 만들어야 클래스를 사용할 수 있음\n",
        "james = Person()        # 생성자(COnstructor) 함수\n",
        "maria = Person()"
      ],
      "metadata": {
        "id": "_zfKLa47yqP8"
      },
      "execution_count": null,
      "outputs": []
    },
    {
      "cell_type": "code",
      "source": [
        "james.greeting()"
      ],
      "metadata": {
        "colab": {
          "base_uri": "https://localhost:8080/"
        },
        "id": "PL4PnqV0zSiA",
        "outputId": "84a48e1a-9af0-4359-f038-308600c88c06"
      },
      "execution_count": null,
      "outputs": [
        {
          "output_type": "stream",
          "name": "stdout",
          "text": [
            "Hello\n"
          ]
        }
      ]
    },
    {
      "cell_type": "code",
      "source": [
        "maria.greeting()"
      ],
      "metadata": {
        "colab": {
          "base_uri": "https://localhost:8080/"
        },
        "id": "OSU32bNBze9w",
        "outputId": "96d88218-e4b2-4769-eb1e-b63fda88b979"
      },
      "execution_count": null,
      "outputs": [
        {
          "output_type": "stream",
          "name": "stdout",
          "text": [
            "Hello\n"
          ]
        }
      ]
    },
    {
      "cell_type": "code",
      "source": [
        "Person().greeting"
      ],
      "metadata": {
        "colab": {
          "base_uri": "https://localhost:8080/"
        },
        "id": "inDh6LTxzih8",
        "outputId": "b1c7cb6b-3c07-4002-b399-820b2f40b240"
      },
      "execution_count": null,
      "outputs": [
        {
          "output_type": "execute_result",
          "data": {
            "text/plain": [
              "<bound method Person.greeting of <__main__.Person object at 0x7fb47ddeeed0>>"
            ]
          },
          "metadata": {},
          "execution_count": 6
        }
      ]
    },
    {
      "cell_type": "markdown",
      "source": [
        "- 클래스 내에서 메소드 호출하기"
      ],
      "metadata": {
        "id": "Nd330hJE07dl"
      }
    },
    {
      "cell_type": "code",
      "source": [
        "class Person:\n",
        "    def greeting(self):\n",
        "        print('Hello')\n",
        "\n",
        "        def hello(self):        \n",
        "            self.greeting()     # 클래스 내에서 속성이나 메소드를 참조할때는 self.xxx 한다."
      ],
      "metadata": {
        "id": "NYyk46nN04Sg"
      },
      "execution_count": null,
      "outputs": []
    },
    {
      "cell_type": "code",
      "source": [
        "james = Person()\n",
        "james.hello()"
      ],
      "metadata": {
        "colab": {
          "base_uri": "https://localhost:8080/",
          "height": 193
        },
        "id": "AfF-ZZom1cHH",
        "outputId": "cac7ff95-b345-4b5f-e6ca-ac5a21ba7533"
      },
      "execution_count": null,
      "outputs": [
        {
          "output_type": "error",
          "ename": "AttributeError",
          "evalue": "ignored",
          "traceback": [
            "\u001b[0;31m---------------------------------------------------------------------------\u001b[0m",
            "\u001b[0;31mAttributeError\u001b[0m                            Traceback (most recent call last)",
            "\u001b[0;32m<ipython-input-15-e52769860e7c>\u001b[0m in \u001b[0;36m<module>\u001b[0;34m()\u001b[0m\n\u001b[1;32m      1\u001b[0m \u001b[0mjames\u001b[0m \u001b[0;34m=\u001b[0m \u001b[0mPerson\u001b[0m\u001b[0;34m(\u001b[0m\u001b[0;34m)\u001b[0m\u001b[0;34m\u001b[0m\u001b[0;34m\u001b[0m\u001b[0m\n\u001b[0;32m----> 2\u001b[0;31m \u001b[0mjames\u001b[0m\u001b[0;34m.\u001b[0m\u001b[0mhello\u001b[0m\u001b[0;34m(\u001b[0m\u001b[0;34m)\u001b[0m\u001b[0;34m\u001b[0m\u001b[0;34m\u001b[0m\u001b[0m\n\u001b[0m",
            "\u001b[0;31mAttributeError\u001b[0m: 'Person' object has no attribute 'hello'"
          ]
        }
      ]
    },
    {
      "cell_type": "markdown",
      "source": [
        "- 특정 클래스의 인스턴스인지 확인하기"
      ],
      "metadata": {
        "id": "uvfCouGK01ub"
      }
    },
    {
      "cell_type": "code",
      "source": [
        "isinstance(james, Person)"
      ],
      "metadata": {
        "colab": {
          "base_uri": "https://localhost:8080/"
        },
        "id": "_CXoIZM-0I2I",
        "outputId": "e3456095-8bbd-4aac-abcd-41969213c0b0"
      },
      "execution_count": null,
      "outputs": [
        {
          "output_type": "execute_result",
          "data": {
            "text/plain": [
              "True"
            ]
          },
          "metadata": {},
          "execution_count": 8
        }
      ]
    },
    {
      "cell_type": "code",
      "source": [
        "# 음수와 실수에 대한 대비가 없다\n",
        "def fact(n):\n",
        "    if n == 0:\n",
        "        return 1\n",
        "    return n * fact(n-1)"
      ],
      "metadata": {
        "id": "m0A7nWsi2UlB"
      },
      "execution_count": null,
      "outputs": []
    },
    {
      "cell_type": "code",
      "source": [
        "def factorial(n):\n",
        "    if not isinstance(n, int) or n < 0:\n",
        "        return None\n",
        "    if n == 0:\n",
        "        return 1\n",
        "    return n * factorial(n-1)"
      ],
      "metadata": {
        "id": "1lJ-fGnE1z9O"
      },
      "execution_count": null,
      "outputs": []
    },
    {
      "cell_type": "code",
      "source": [
        "factorial(1.3), factorial(-4)"
      ],
      "metadata": {
        "colab": {
          "base_uri": "https://localhost:8080/"
        },
        "id": "P2aD8Vgi2eOc",
        "outputId": "26d76a48-69c6-4390-f2ff-a4a34f8f1e18"
      },
      "execution_count": null,
      "outputs": [
        {
          "output_type": "execute_result",
          "data": {
            "text/plain": [
              "(None, None)"
            ]
          },
          "metadata": {},
          "execution_count": 20
        }
      ]
    },
    {
      "cell_type": "code",
      "source": [
        "factorial(5)"
      ],
      "metadata": {
        "colab": {
          "base_uri": "https://localhost:8080/"
        },
        "id": "5GQFNs8G3QQb",
        "outputId": "56b69a99-026e-424f-bb7f-903b33a69ac4"
      },
      "execution_count": null,
      "outputs": [
        {
          "output_type": "execute_result",
          "data": {
            "text/plain": [
              "120"
            ]
          },
          "metadata": {},
          "execution_count": 21
        }
      ]
    },
    {
      "cell_type": "markdown",
      "source": [
        "### 34.2 속성(Attribute)"
      ],
      "metadata": {
        "id": "Ggz-ExnF3rlK"
      }
    },
    {
      "cell_type": "code",
      "source": [
        "class Person:\n",
        "    def __init__(self):\n",
        "        self.hello = '안녕하세요?'\n",
        "    def greeting(self):\n",
        "        print(self.hello)"
      ],
      "metadata": {
        "id": "NmCfbYr83RYK"
      },
      "execution_count": null,
      "outputs": []
    },
    {
      "cell_type": "code",
      "source": [
        "maria = Person()\n",
        "maria.greeting()"
      ],
      "metadata": {
        "colab": {
          "base_uri": "https://localhost:8080/"
        },
        "id": "cQ4Fg1s94e-M",
        "outputId": "d57f9faf-05bd-4c55-8c68-758e3e951903"
      },
      "execution_count": null,
      "outputs": [
        {
          "output_type": "stream",
          "name": "stdout",
          "text": [
            "안녕하세요?\n"
          ]
        }
      ]
    },
    {
      "cell_type": "code",
      "source": [
        "maria.hello = 'How are you?'\n",
        "maria.greeting()"
      ],
      "metadata": {
        "colab": {
          "base_uri": "https://localhost:8080/"
        },
        "id": "mEGfY8ll4lmo",
        "outputId": "b57dab87-6d05-4ed5-af6c-f613e70a77fb"
      },
      "execution_count": null,
      "outputs": [
        {
          "output_type": "stream",
          "name": "stdout",
          "text": [
            "How are you?\n"
          ]
        }
      ]
    },
    {
      "cell_type": "code",
      "source": [
        "james = Person()\n",
        "james.hello = 'Good afternoon!'\n",
        "james.greeting()"
      ],
      "metadata": {
        "colab": {
          "base_uri": "https://localhost:8080/"
        },
        "id": "hkBdjVlc40tv",
        "outputId": "1465f3b6-2d44-4789-9c1c-7fee7493b35c"
      },
      "execution_count": null,
      "outputs": [
        {
          "output_type": "stream",
          "name": "stdout",
          "text": [
            "Good afternoon!\n"
          ]
        }
      ]
    },
    {
      "cell_type": "code",
      "source": [
        "class Person:\n",
        "    def __init__(self, name, age, address):\n",
        "        self.hello = '안녕하세요?'\n",
        "        self.name = name\n",
        "        self.age = age\n",
        "        self.address = address\n",
        "    def greeting(self):\n",
        "        print(f'{self.hello} 저는 {self.name} 입니다.')\n",
        "    # JAVA의 toString() method\n",
        "    def __str__(self):\n",
        "        return f'hello: {self.hello}, name: {self.name}, age: {self.age}, address: {self.address}'"
      ],
      "metadata": {
        "id": "yICYVfxu5LBW"
      },
      "execution_count": null,
      "outputs": []
    },
    {
      "cell_type": "code",
      "source": [
        "maria = Person('마리아', 23, '서울시 서초구 서초동')\n",
        "maria.greeting()"
      ],
      "metadata": {
        "colab": {
          "base_uri": "https://localhost:8080/"
        },
        "id": "wrDqMjcz58HH",
        "outputId": "5cacffc1-05e7-435e-e01e-1ba1ea416f9f"
      },
      "execution_count": null,
      "outputs": [
        {
          "output_type": "stream",
          "name": "stdout",
          "text": [
            "안녕하세요? 저는 마리아 입니다.\n"
          ]
        }
      ]
    },
    {
      "cell_type": "code",
      "source": [
        "maria.hello = '반갑습니다.'\n",
        "maria.greeting()"
      ],
      "metadata": {
        "colab": {
          "base_uri": "https://localhost:8080/"
        },
        "id": "9YnSXaLR6sLB",
        "outputId": "992175f2-d84a-4db6-86ee-c08f6e4d81ca"
      },
      "execution_count": null,
      "outputs": [
        {
          "output_type": "stream",
          "name": "stdout",
          "text": [
            "반갑습니다. 저는 마리아 입니다.\n"
          ]
        }
      ]
    },
    {
      "cell_type": "code",
      "source": [
        "# __str__ method 만들기 전\n",
        "print(maria)"
      ],
      "metadata": {
        "colab": {
          "base_uri": "https://localhost:8080/"
        },
        "id": "oN0XCJs-69_-",
        "outputId": "a4c7dac5-d37e-466e-b886-99331e68aca8"
      },
      "execution_count": null,
      "outputs": [
        {
          "output_type": "stream",
          "name": "stdout",
          "text": [
            "<__main__.Person object at 0x7fb47dc70b50>\n"
          ]
        }
      ]
    },
    {
      "cell_type": "code",
      "source": [
        "# __str__ method 만든 후\n",
        "print(maria)"
      ],
      "metadata": {
        "colab": {
          "base_uri": "https://localhost:8080/"
        },
        "id": "r10Ibk2j7mHD",
        "outputId": "f9c186e8-0cb1-4848-cb72-07f80860d7b7"
      },
      "execution_count": null,
      "outputs": [
        {
          "output_type": "stream",
          "name": "stdout",
          "text": [
            "hello: 반갑습니다., name: 마리아, age: 23, address: 서울시 서초구 서초동\n"
          ]
        }
      ]
    },
    {
      "cell_type": "code",
      "source": [
        "maria.hello = '반갑습니다.'\n",
        "print(maria)"
      ],
      "metadata": {
        "colab": {
          "base_uri": "https://localhost:8080/"
        },
        "id": "zPlbw6JZ8rXY",
        "outputId": "7a265a61-80fc-4593-9487-530ed565dfff"
      },
      "execution_count": null,
      "outputs": [
        {
          "output_type": "stream",
          "name": "stdout",
          "text": [
            "hello: 반갑습니다., name: 마리아, age: 23, address: 서울시 서초구 서초동\n"
          ]
        }
      ]
    },
    {
      "cell_type": "markdown",
      "source": [
        "### 34.3 비공개 속성"
      ],
      "metadata": {
        "id": "tNLkHqZV_w4f"
      }
    },
    {
      "cell_type": "code",
      "source": [
        "print(maria)"
      ],
      "metadata": {
        "colab": {
          "base_uri": "https://localhost:8080/"
        },
        "id": "LSDQEBVg8229",
        "outputId": "13681bfd-ed78-4414-f762-4d4fdf768654"
      },
      "execution_count": null,
      "outputs": [
        {
          "output_type": "stream",
          "name": "stdout",
          "text": [
            "hello: 반갑습니다., name: 마리아, age: 23, address: 서울시 서초구 서초동\n"
          ]
        }
      ]
    },
    {
      "cell_type": "code",
      "source": [
        "class Person:\n",
        "    def __init__(self, name, age, addr, wallet):\n",
        "        self.name = name\n",
        "        self.age = age\n",
        "        self.addr = addr\n",
        "        self.__wallet = wallet      # __가 붙으면 비공개 속성이 됨"
      ],
      "metadata": {
        "id": "LJ-dD3Qz_4rY"
      },
      "execution_count": null,
      "outputs": []
    },
    {
      "cell_type": "code",
      "source": [
        "james = Person('제임스', 25, '서울시 서초구 반포동', 10000)"
      ],
      "metadata": {
        "id": "R2OdCGTnAiV3"
      },
      "execution_count": null,
      "outputs": []
    },
    {
      "cell_type": "code",
      "source": [
        "class Person:\n",
        "    def __init__(self, name, age, addr, wallet):\n",
        "        self.name = name\n",
        "        self.age = age\n",
        "        self.addr = addr\n",
        "        self.__wallet = wallet\n",
        "\n",
        "    def pay(self, amount):\n",
        "        if self.__wallet < amount:\n",
        "            print('지갑에 돈이 부족합니다.ㅠㅠ')\n",
        "            return\n",
        "        self.__wallet -= amount\n",
        "        print(f'지갑에 남은 돈은 {self.__wallet:,d}원 입니다.')\n",
        "\n",
        "    def __greeting(self): \n",
        "        print('Hello')\n",
        "\n",
        "    def hello(self):\n",
        "        self.__greeting()"
      ],
      "metadata": {
        "id": "rKymKSy8CPx7"
      },
      "execution_count": null,
      "outputs": []
    },
    {
      "cell_type": "code",
      "source": [
        "james = Person('제임스', 25, '서울시 서초구 반포동', 10000)\n",
        "james.pay(2500)"
      ],
      "metadata": {
        "colab": {
          "base_uri": "https://localhost:8080/"
        },
        "id": "kambwTYcDemL",
        "outputId": "e26c3b8f-c0e2-4262-94b9-b73efed19869"
      },
      "execution_count": null,
      "outputs": [
        {
          "output_type": "stream",
          "name": "stdout",
          "text": [
            "지갑에 남은 돈은 7,500원 입니다.\n"
          ]
        }
      ]
    },
    {
      "cell_type": "code",
      "source": [
        "james.pay(8000)"
      ],
      "metadata": {
        "colab": {
          "base_uri": "https://localhost:8080/"
        },
        "id": "atsbTzq8DsCm",
        "outputId": "f6546e9e-f7c5-4c40-e95e-9a87d32d8977"
      },
      "execution_count": null,
      "outputs": [
        {
          "output_type": "stream",
          "name": "stdout",
          "text": [
            "지갑에 돈이 부족합니다.ㅠㅠ\n"
          ]
        }
      ]
    },
    {
      "cell_type": "code",
      "source": [
        "# 비공개 메소드\n",
        "james.__greeting()"
      ],
      "metadata": {
        "colab": {
          "base_uri": "https://localhost:8080/",
          "height": 174
        },
        "id": "6aix-XdEDwKO",
        "outputId": "d84129dc-0dd8-45f1-c5d2-6df933a4c4bb"
      },
      "execution_count": null,
      "outputs": [
        {
          "output_type": "error",
          "ename": "AttributeError",
          "evalue": "ignored",
          "traceback": [
            "\u001b[0;31m---------------------------------------------------------------------------\u001b[0m",
            "\u001b[0;31mAttributeError\u001b[0m                            Traceback (most recent call last)",
            "\u001b[0;32m<ipython-input-55-294fe1420d26>\u001b[0m in \u001b[0;36m<module>\u001b[0;34m()\u001b[0m\n\u001b[0;32m----> 1\u001b[0;31m \u001b[0mjames\u001b[0m\u001b[0;34m.\u001b[0m\u001b[0m__greeting\u001b[0m\u001b[0;34m(\u001b[0m\u001b[0;34m)\u001b[0m\u001b[0;34m\u001b[0m\u001b[0;34m\u001b[0m\u001b[0m\n\u001b[0m",
            "\u001b[0;31mAttributeError\u001b[0m: 'Person' object has no attribute '__greeting'"
          ]
        }
      ]
    },
    {
      "cell_type": "code",
      "source": [
        "james.hello()"
      ],
      "metadata": {
        "colab": {
          "base_uri": "https://localhost:8080/"
        },
        "id": "I8wOVYuRERVj",
        "outputId": "88c1fe98-aa04-423f-b5d0-df38b88417a2"
      },
      "execution_count": null,
      "outputs": [
        {
          "output_type": "stream",
          "name": "stdout",
          "text": [
            "Hello\n"
          ]
        }
      ]
    },
    {
      "cell_type": "markdown",
      "source": [
        "### 연습문제\n",
        "- class Tmoney"
      ],
      "metadata": {
        "id": "eZ3-NtaWFqIQ"
      }
    },
    {
      "cell_type": "code",
      "source": [
        "class Tmoney:\n",
        "    def __init__(self, age, balance):\n",
        "        self.age = age\n",
        "        self.__balance = balance\n",
        "\n",
        "    def pay(self):\n",
        "        if 7 <= self.age <=12:\n",
        "            fare =650\n",
        "        elif 13<=self.age<=18:\n",
        "            fare =1050\n",
        "        else:\n",
        "            fare = 0\n",
        "\n",
        "        if self.__balance < fare:\n",
        "            print('잔액이 부족합니다.ㅠㅠ')\n",
        "            return\n",
        "        self.__balance -= fare\n",
        "        print(f'{self.age}살의 요금은 {fare:,d}원이고, 잔액은 {self.balance:,d}원입니다')"
      ],
      "metadata": {
        "id": "p_qC6cKPEUNP"
      },
      "execution_count": null,
      "outputs": []
    },
    {
      "cell_type": "code",
      "source": [
        "card = Tmoney(30, 10000)\n",
        "card.pay()"
      ],
      "metadata": {
        "colab": {
          "base_uri": "https://localhost:8080/",
          "height": 284
        },
        "id": "tD_U7HG1HL0N",
        "outputId": "3cd8e78c-1b95-48e6-dd30-f4e9dfaefdcf"
      },
      "execution_count": null,
      "outputs": [
        {
          "output_type": "error",
          "ename": "AttributeError",
          "evalue": "ignored",
          "traceback": [
            "\u001b[0;31m---------------------------------------------------------------------------\u001b[0m",
            "\u001b[0;31mAttributeError\u001b[0m                            Traceback (most recent call last)",
            "\u001b[0;32m<ipython-input-66-d1b5b3f3dca3>\u001b[0m in \u001b[0;36m<module>\u001b[0;34m()\u001b[0m\n\u001b[1;32m      1\u001b[0m \u001b[0mcard\u001b[0m \u001b[0;34m=\u001b[0m \u001b[0mTmoney\u001b[0m\u001b[0;34m(\u001b[0m\u001b[0;36m30\u001b[0m\u001b[0;34m,\u001b[0m \u001b[0;36m10000\u001b[0m\u001b[0;34m)\u001b[0m\u001b[0;34m\u001b[0m\u001b[0;34m\u001b[0m\u001b[0m\n\u001b[0;32m----> 2\u001b[0;31m \u001b[0mcard\u001b[0m\u001b[0;34m.\u001b[0m\u001b[0mpay\u001b[0m\u001b[0;34m(\u001b[0m\u001b[0;34m)\u001b[0m\u001b[0;34m\u001b[0m\u001b[0;34m\u001b[0m\u001b[0m\n\u001b[0m",
            "\u001b[0;32m<ipython-input-64-62d450daa00a>\u001b[0m in \u001b[0;36mpay\u001b[0;34m(self)\u001b[0m\n\u001b[1;32m     16\u001b[0m             \u001b[0;32mreturn\u001b[0m\u001b[0;34m\u001b[0m\u001b[0;34m\u001b[0m\u001b[0m\n\u001b[1;32m     17\u001b[0m         \u001b[0mself\u001b[0m\u001b[0;34m.\u001b[0m\u001b[0m__balance\u001b[0m \u001b[0;34m-=\u001b[0m \u001b[0mfare\u001b[0m\u001b[0;34m\u001b[0m\u001b[0;34m\u001b[0m\u001b[0m\n\u001b[0;32m---> 18\u001b[0;31m         \u001b[0mprint\u001b[0m\u001b[0;34m(\u001b[0m\u001b[0;34mf'{self.age}살의 요금은 {fare:,d}원이고, 잔액은 {self.balance:,d}원입니다'\u001b[0m\u001b[0;34m)\u001b[0m\u001b[0;34m\u001b[0m\u001b[0;34m\u001b[0m\u001b[0m\n\u001b[0m",
            "\u001b[0;31mAttributeError\u001b[0m: 'Tmoney' object has no attribute 'balance'"
          ]
        }
      ]
    },
    {
      "cell_type": "code",
      "source": [
        "card = Tmoney(30, 10000)\n",
        "for i in range(10):\n",
        "    card.pay()"
      ],
      "metadata": {
        "colab": {
          "base_uri": "https://localhost:8080/",
          "height": 303
        },
        "id": "4KgNwRcJHQKM",
        "outputId": "fea56564-c166-42f1-ff51-77d7125dadf8"
      },
      "execution_count": null,
      "outputs": [
        {
          "output_type": "error",
          "ename": "AttributeError",
          "evalue": "ignored",
          "traceback": [
            "\u001b[0;31m---------------------------------------------------------------------------\u001b[0m",
            "\u001b[0;31mAttributeError\u001b[0m                            Traceback (most recent call last)",
            "\u001b[0;32m<ipython-input-67-33cfc53ae53e>\u001b[0m in \u001b[0;36m<module>\u001b[0;34m()\u001b[0m\n\u001b[1;32m      1\u001b[0m \u001b[0mcard\u001b[0m \u001b[0;34m=\u001b[0m \u001b[0mTmoney\u001b[0m\u001b[0;34m(\u001b[0m\u001b[0;36m30\u001b[0m\u001b[0;34m,\u001b[0m \u001b[0;36m10000\u001b[0m\u001b[0;34m)\u001b[0m\u001b[0;34m\u001b[0m\u001b[0;34m\u001b[0m\u001b[0m\n\u001b[1;32m      2\u001b[0m \u001b[0;32mfor\u001b[0m \u001b[0mi\u001b[0m \u001b[0;32min\u001b[0m \u001b[0mrange\u001b[0m\u001b[0;34m(\u001b[0m\u001b[0;36m10\u001b[0m\u001b[0;34m)\u001b[0m\u001b[0;34m:\u001b[0m\u001b[0;34m\u001b[0m\u001b[0;34m\u001b[0m\u001b[0m\n\u001b[0;32m----> 3\u001b[0;31m     \u001b[0mcard\u001b[0m\u001b[0;34m.\u001b[0m\u001b[0mpay\u001b[0m\u001b[0;34m(\u001b[0m\u001b[0;34m)\u001b[0m\u001b[0;34m\u001b[0m\u001b[0;34m\u001b[0m\u001b[0m\n\u001b[0m",
            "\u001b[0;32m<ipython-input-64-62d450daa00a>\u001b[0m in \u001b[0;36mpay\u001b[0;34m(self)\u001b[0m\n\u001b[1;32m     16\u001b[0m             \u001b[0;32mreturn\u001b[0m\u001b[0;34m\u001b[0m\u001b[0;34m\u001b[0m\u001b[0m\n\u001b[1;32m     17\u001b[0m         \u001b[0mself\u001b[0m\u001b[0;34m.\u001b[0m\u001b[0m__balance\u001b[0m \u001b[0;34m-=\u001b[0m \u001b[0mfare\u001b[0m\u001b[0;34m\u001b[0m\u001b[0;34m\u001b[0m\u001b[0m\n\u001b[0;32m---> 18\u001b[0;31m         \u001b[0mprint\u001b[0m\u001b[0;34m(\u001b[0m\u001b[0;34mf'{self.age}살의 요금은 {fare:,d}원이고, 잔액은 {self.balance:,d}원입니다'\u001b[0m\u001b[0;34m)\u001b[0m\u001b[0;34m\u001b[0m\u001b[0;34m\u001b[0m\u001b[0m\n\u001b[0m",
            "\u001b[0;31mAttributeError\u001b[0m: 'Tmoney' object has no attribute 'balance'"
          ]
        }
      ]
    },
    {
      "cell_type": "code",
      "source": [
        "class Tcard:\n",
        "    def __init__(self, balance):\n",
        "        self.__balance = balance\n",
        "\n",
        "    def get_balance(self):\n",
        "        return self.__balance\n",
        "\n",
        "    def pay(self, fare=1350):\n",
        "        if self.__balance < fare:\n",
        "            print('잔액이 부족합니다.ㅠㅠ')\n",
        "        self.__balance -= fare\n",
        "        print(f'잔액: {self.__balance:,d}')"
      ],
      "metadata": {
        "id": "JnD4MKbRH5Q-"
      },
      "execution_count": 75,
      "outputs": []
    },
    {
      "cell_type": "code",
      "source": [
        "card = Tcard(10000)\n",
        "fare = 1350\n",
        "while card.get_balance() >= fare:\n",
        "    card.pay()"
      ],
      "metadata": {
        "colab": {
          "base_uri": "https://localhost:8080/"
        },
        "id": "546RyeLEYTSD",
        "outputId": "eea66eb8-638d-4a0a-da12-92f660c702ba"
      },
      "execution_count": 76,
      "outputs": [
        {
          "output_type": "stream",
          "name": "stdout",
          "text": [
            "잔액: 8,650\n",
            "잔액: 7,300\n",
            "잔액: 5,950\n",
            "잔액: 4,600\n",
            "잔액: 3,250\n",
            "잔액: 1,900\n",
            "잔액: 550\n"
          ]
        }
      ]
    }
  ]
}