{
  "nbformat": 4,
  "nbformat_minor": 0,
  "metadata": {
    "colab": {
      "name": "u35_정적메소드.ipynb",
      "provenance": []
    },
    "kernelspec": {
      "name": "python3",
      "display_name": "Python 3"
    },
    "language_info": {
      "name": "python"
    }
  },
  "cells": [
    {
      "cell_type": "markdown",
      "source": [
        "# Unit 35. 정적 메소드"
      ],
      "metadata": {
        "id": "cEJooTIOaHHH"
      }
    },
    {
      "cell_type": "code",
      "execution_count": 1,
      "metadata": {
        "id": "xirz64avZL7t"
      },
      "outputs": [],
      "source": [
        "class Calc:\n",
        "    @staticmethod       # decorator\n",
        "    def add(a,b):\n",
        "        print(a+b)"
      ]
    },
    {
      "cell_type": "code",
      "source": [
        "# 일반적인 메소드 사용 방법\n",
        "calc = Calc()\n",
        "calc.add(3,4)"
      ],
      "metadata": {
        "colab": {
          "base_uri": "https://localhost:8080/"
        },
        "id": "dLepVcTGamV_",
        "outputId": "a9642fcd-4bc2-461e-c23b-aefa5188c74a"
      },
      "execution_count": 4,
      "outputs": [
        {
          "output_type": "stream",
          "name": "stdout",
          "text": [
            "7\n"
          ]
        }
      ]
    },
    {
      "cell_type": "code",
      "source": [
        "# 정적 메소드 사용 방법, 인스턴스화 시킬 필요 없음\n",
        "Calc.add(3,4)"
      ],
      "metadata": {
        "colab": {
          "base_uri": "https://localhost:8080/"
        },
        "id": "y_uMJKefa208",
        "outputId": "99a8bd9d-f16b-485f-dd13-ab8e884041a8"
      },
      "execution_count": 5,
      "outputs": [
        {
          "output_type": "stream",
          "name": "stdout",
          "text": [
            "7\n"
          ]
        }
      ]
    },
    {
      "cell_type": "code",
      "source": [
        ""
      ],
      "metadata": {
        "id": "zsh5L0RAa8CP"
      },
      "execution_count": null,
      "outputs": []
    }
  ]
}