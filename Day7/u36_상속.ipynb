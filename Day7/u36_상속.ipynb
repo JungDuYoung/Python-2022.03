{
  "nbformat": 4,
  "nbformat_minor": 0,
  "metadata": {
    "colab": {
      "name": "u36_상속.ipynb",
      "provenance": []
    },
    "kernelspec": {
      "name": "python3",
      "display_name": "Python 3"
    },
    "language_info": {
      "name": "python"
    }
  },
  "cells": [
    {
      "cell_type": "markdown",
      "source": [
        "# Unit 36. 상속(Inheritance)\n",
        "### 36.1 기본 상속"
      ],
      "metadata": {
        "id": "zRvplubcbvpm"
      }
    },
    {
      "cell_type": "code",
      "execution_count": 1,
      "metadata": {
        "id": "tuU7ZhQXbohH"
      },
      "outputs": [],
      "source": [
        "# 기반(base) 클래스\n",
        "class Person:\n",
        "    def greeting(self):\n",
        "        print('안녕하세요?')\n",
        "\n",
        "# 파생(derived) 클래스\n",
        "class Student(Person):\n",
        "    def study(self):\n",
        "        print('공부합니다.')"
      ]
    },
    {
      "cell_type": "code",
      "source": [
        "james = Student()\n",
        "james.study()"
      ],
      "metadata": {
        "colab": {
          "base_uri": "https://localhost:8080/"
        },
        "id": "s2sHPoORdAkI",
        "outputId": "f7182e61-c6a5-488d-bb18-0ef78d066300"
      },
      "execution_count": 2,
      "outputs": [
        {
          "output_type": "stream",
          "name": "stdout",
          "text": [
            "공부합니다.\n"
          ]
        }
      ]
    },
    {
      "cell_type": "code",
      "source": [
        "james.greeting()        # 기반 클래스의 메소드 호출"
      ],
      "metadata": {
        "colab": {
          "base_uri": "https://localhost:8080/"
        },
        "id": "JAYpg2UgdNij",
        "outputId": "1280328d-d25a-4a7f-b650-dbb8a8aa4e49"
      },
      "execution_count": 4,
      "outputs": [
        {
          "output_type": "stream",
          "name": "stdout",
          "text": [
            "안녕하세요?\n"
          ]
        }
      ]
    },
    {
      "cell_type": "markdown",
      "source": [
        "### 36.2 상속관계 및 포함관계"
      ],
      "metadata": {
        "id": "eNfqJmrpdsdl"
      }
    },
    {
      "cell_type": "markdown",
      "source": [
        "- 상속 관계\n",
        "<pre>\n",
        "Student와 Person은 상속관계\n",
        "Student is a Person.\n",
        "is-a 관계\n",
        "</pre>"
      ],
      "metadata": {
        "id": "bezHyZUQfh-M"
      }
    },
    {
      "cell_type": "code",
      "source": [
        "# Student와 Person은 상속관계\n",
        "# Student is a Person."
      ],
      "metadata": {
        "id": "fW4GBfzhdPUY"
      },
      "execution_count": 5,
      "outputs": []
    },
    {
      "cell_type": "markdown",
      "source": [
        "- 포함관계\n",
        "<pre>\n",
        "사람 목록은 사람을 가지고 있다.\n",
        "PersonList has a Person.\n",
        "has-a 관계\n",
        "</pre>"
      ],
      "metadata": {
        "id": "QEtM48yJePZf"
      }
    },
    {
      "cell_type": "code",
      "source": [
        "class PersonList:\n",
        "    def __init__(self):\n",
        "        self.person_list = []\n",
        "\n",
        "    def append_person(self, person):\n",
        "        self.person_list.append(person)"
      ],
      "metadata": {
        "id": "zKGu64eCeOrh"
      },
      "execution_count": 8,
      "outputs": []
    },
    {
      "cell_type": "code",
      "source": [
        "my_friend = PersonList()\n",
        "james = Person()\n",
        "maria = Person()\n",
        "my_friend.append_person(james)\n",
        "my_friend.append_person(maria)"
      ],
      "metadata": {
        "id": "GaMzuMKbel8q"
      },
      "execution_count": 9,
      "outputs": []
    },
    {
      "cell_type": "code",
      "source": [
        "my_friend.person_list"
      ],
      "metadata": {
        "colab": {
          "base_uri": "https://localhost:8080/"
        },
        "id": "uNVzd_d9e46s",
        "outputId": "68a1d1d0-169e-4bd5-f96d-b159c0c00017"
      },
      "execution_count": 10,
      "outputs": [
        {
          "output_type": "execute_result",
          "data": {
            "text/plain": [
              "[<__main__.Person at 0x7f44f5879b90>, <__main__.Person at 0x7f44f5879150>]"
            ]
          },
          "metadata": {},
          "execution_count": 10
        }
      ]
    },
    {
      "cell_type": "markdown",
      "source": [
        "### 36.3 기반 클래스의 속성 사용하기"
      ],
      "metadata": {
        "id": "nTRSCuImf5VV"
      }
    },
    {
      "cell_type": "code",
      "source": [
        "class Person:\n",
        "    def __init__(self):\n",
        "        print('Person __init__')\n",
        "        self.hello = '안녕하세요.'\n",
        "\n",
        "class Student(Person):\n",
        "    def __init__(self):\n",
        "        print('Student __init__')\n",
        "        self.school = '파이썬 코딩 도장'"
      ],
      "metadata": {
        "id": "tW57o-xyfErg"
      },
      "execution_count": 14,
      "outputs": []
    },
    {
      "cell_type": "code",
      "source": [
        "james = Student()\n",
        "james.school"
      ],
      "metadata": {
        "colab": {
          "base_uri": "https://localhost:8080/",
          "height": 54
        },
        "id": "sLlyiBZkgost",
        "outputId": "1407fcd8-4c30-4e77-9009-3170b127aaf3"
      },
      "execution_count": 15,
      "outputs": [
        {
          "output_type": "stream",
          "name": "stdout",
          "text": [
            "Student __init__\n"
          ]
        },
        {
          "output_type": "execute_result",
          "data": {
            "text/plain": [
              "'파이썬 코딩 도장'"
            ],
            "application/vnd.google.colaboratory.intrinsic+json": {
              "type": "string"
            }
          },
          "metadata": {},
          "execution_count": 15
        }
      ]
    },
    {
      "cell_type": "code",
      "source": [
        "class Person:\n",
        "    def __init__(self):\n",
        "        print('Person __init__')\n",
        "        self.hello = '안녕하세요.'\n",
        "\n",
        "class Soldier(Person):\n",
        "    def shoot(self):\n",
        "        print('총을 쏩니다.')"
      ],
      "metadata": {
        "id": "X8OUbes6gtuV"
      },
      "execution_count": 16,
      "outputs": []
    },
    {
      "cell_type": "code",
      "source": [
        "peter = Soldier()\n",
        "peter.hello"
      ],
      "metadata": {
        "colab": {
          "base_uri": "https://localhost:8080/",
          "height": 54
        },
        "id": "2GlWDe_uhR5Z",
        "outputId": "e94fc908-7751-4c44-ae64-68e9e94be3c5"
      },
      "execution_count": 17,
      "outputs": [
        {
          "output_type": "stream",
          "name": "stdout",
          "text": [
            "Person __init__\n"
          ]
        },
        {
          "output_type": "execute_result",
          "data": {
            "text/plain": [
              "'안녕하세요.'"
            ],
            "application/vnd.google.colaboratory.intrinsic+json": {
              "type": "string"
            }
          },
          "metadata": {},
          "execution_count": 17
        }
      ]
    },
    {
      "cell_type": "markdown",
      "source": [
        "<pre>\n",
        "부모/자식이 모두 __init__ 메소드를 가지고 있을 경우\n",
        "</pre>"
      ],
      "metadata": {
        "id": "K2L8xxPhk8vP"
      }
    },
    {
      "cell_type": "code",
      "source": [
        "class Person:\n",
        "    def __init__(self):\n",
        "        print('Person __init__')\n",
        "        self.hello = '안녕하세요.'\n",
        "\n",
        "class Student(Person):\n",
        "    def __init__(self):\n",
        "        print('Student __init__')\n",
        "        super().__init__()              # 기반 클래스의 __init__ 메소드 호출\n",
        "        self.school = '파이썬 코딩 도장'"
      ],
      "metadata": {
        "id": "jV6-UAvQhW_O"
      },
      "execution_count": 18,
      "outputs": []
    },
    {
      "cell_type": "code",
      "source": [
        "maria = Student()\n",
        "maria.hello"
      ],
      "metadata": {
        "colab": {
          "base_uri": "https://localhost:8080/",
          "height": 72
        },
        "id": "SpyXKZl5lY0i",
        "outputId": "96dbb15e-ad4a-4a88-8269-27e49f12d287"
      },
      "execution_count": 19,
      "outputs": [
        {
          "output_type": "stream",
          "name": "stdout",
          "text": [
            "Student __init__\n",
            "Person __init__\n"
          ]
        },
        {
          "output_type": "execute_result",
          "data": {
            "text/plain": [
              "'안녕하세요.'"
            ],
            "application/vnd.google.colaboratory.intrinsic+json": {
              "type": "string"
            }
          },
          "metadata": {},
          "execution_count": 19
        }
      ]
    },
    {
      "cell_type": "markdown",
      "source": [
        "### 36.4 Method overriding"
      ],
      "metadata": {
        "id": "WjauKtW_l1IV"
      }
    },
    {
      "cell_type": "code",
      "source": [
        "class Person:\n",
        "    def greeting(self):\n",
        "        print('안녕하세요.')\n",
        "\n",
        "class Student(Person):\n",
        "    def greeting(self):\n",
        "        print('안녕하세요. 저는 파이썬 코딩 도장 학생입니다.')"
      ],
      "metadata": {
        "id": "ZHQcn4ttlcLk"
      },
      "execution_count": 20,
      "outputs": []
    },
    {
      "cell_type": "code",
      "source": [
        "james = Student()\n",
        "james.greeting()"
      ],
      "metadata": {
        "colab": {
          "base_uri": "https://localhost:8080/"
        },
        "id": "dni7nS9OmT0Q",
        "outputId": "b9933ab7-3927-4db6-cd66-6e4e9633c123"
      },
      "execution_count": 21,
      "outputs": [
        {
          "output_type": "stream",
          "name": "stdout",
          "text": [
            "안녕하세요. 저는 파이썬 코딩 도장 학생입니다.\n"
          ]
        }
      ]
    },
    {
      "cell_type": "markdown",
      "source": [
        "### 36.5 다중상속\n",
        "- 별로 좋은 방법이 아니므로 사용하지 말 것"
      ],
      "metadata": {
        "id": "0pEDMccRoAa5"
      }
    },
    {
      "cell_type": "markdown",
      "source": [
        "### 36.6 추상 클래스 - 인터페이스"
      ],
      "metadata": {
        "id": "-iDC6qcGoHMJ"
      }
    },
    {
      "cell_type": "code",
      "source": [
        "from abc import *\n",
        "\n",
        "class StudentBase(metaclass=ABCMeta):\n",
        "    @abstractmethod\n",
        "    def study(self):\n",
        "        pass\n",
        "\n",
        "    @abstractmethod\n",
        "    def go_to_school(self):\n",
        "        pass"
      ],
      "metadata": {
        "id": "usTJj-eompxV"
      },
      "execution_count": 22,
      "outputs": []
    },
    {
      "cell_type": "code",
      "source": [
        "class Student(StudentBase):\n",
        "    def study(self):\n",
        "        print('공부하기')"
      ],
      "metadata": {
        "id": "uN6TugVEpASm"
      },
      "execution_count": 23,
      "outputs": []
    },
    {
      "cell_type": "code",
      "source": [
        "james = Student()"
      ],
      "metadata": {
        "colab": {
          "base_uri": "https://localhost:8080/",
          "height": 174
        },
        "id": "A4MGRsX2pRUw",
        "outputId": "7516fa9c-9df4-47cb-d6ad-377a929da534"
      },
      "execution_count": 24,
      "outputs": [
        {
          "output_type": "error",
          "ename": "TypeError",
          "evalue": "ignored",
          "traceback": [
            "\u001b[0;31m---------------------------------------------------------------------------\u001b[0m",
            "\u001b[0;31mTypeError\u001b[0m                                 Traceback (most recent call last)",
            "\u001b[0;32m<ipython-input-24-543725277122>\u001b[0m in \u001b[0;36m<module>\u001b[0;34m()\u001b[0m\n\u001b[0;32m----> 1\u001b[0;31m \u001b[0mjames\u001b[0m \u001b[0;34m=\u001b[0m \u001b[0mStudent\u001b[0m\u001b[0;34m(\u001b[0m\u001b[0;34m)\u001b[0m\u001b[0;34m\u001b[0m\u001b[0;34m\u001b[0m\u001b[0m\n\u001b[0m",
            "\u001b[0;31mTypeError\u001b[0m: Can't instantiate abstract class Student with abstract methods go_to_school"
          ]
        }
      ]
    },
    {
      "cell_type": "code",
      "source": [
        "class Student(StudentBase):\n",
        "    def study(self):\n",
        "        print('공부하기')\n",
        "    def go_to_school(self):\n",
        "        print('학교가기')"
      ],
      "metadata": {
        "id": "1ogLwWx9pVSI"
      },
      "execution_count": 25,
      "outputs": []
    },
    {
      "cell_type": "code",
      "source": [
        "maria = Student()\n",
        "maria.study()\n",
        "maria.go_to_school()"
      ],
      "metadata": {
        "colab": {
          "base_uri": "https://localhost:8080/"
        },
        "id": "oAtLFJTmqLr3",
        "outputId": "ac60f3f6-d7ab-4296-e668-0519b76e3e08"
      },
      "execution_count": 27,
      "outputs": [
        {
          "output_type": "stream",
          "name": "stdout",
          "text": [
            "공부하기\n",
            "학교가기\n"
          ]
        }
      ]
    },
    {
      "cell_type": "code",
      "source": [
        ""
      ],
      "metadata": {
        "id": "tNaxrtecqTgP"
      },
      "execution_count": null,
      "outputs": []
    }
  ]
}