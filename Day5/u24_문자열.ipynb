{
  "nbformat": 4,
  "nbformat_minor": 0,
  "metadata": {
    "colab": {
      "name": "u24_문자열.ipynb",
      "provenance": []
    },
    "kernelspec": {
      "name": "python3",
      "display_name": "Python 3"
    },
    "language_info": {
      "name": "python"
    }
  },
  "cells": [
    {
      "cell_type": "markdown",
      "source": [
        "### Unit24. 문자열 응용"
      ],
      "metadata": {
        "id": "uicoVIhWHgfF"
      }
    },
    {
      "cell_type": "markdown",
      "source": [
        "# 24.1 문자열 조작"
      ],
      "metadata": {
        "id": "zqVx2NZBHlYt"
      }
    },
    {
      "cell_type": "code",
      "source": [
        "s = 'Hello, python'\n",
        "s.replace('python', 'world')"
      ],
      "metadata": {
        "colab": {
          "base_uri": "https://localhost:8080/",
          "height": 36
        },
        "id": "a_m_9gQUGxRb",
        "outputId": "0795f2fc-bd61-4a15-f8f4-a4cbd3002196"
      },
      "execution_count": 1,
      "outputs": [
        {
          "output_type": "execute_result",
          "data": {
            "text/plain": [
              "'Hello, world'"
            ],
            "application/vnd.google.colaboratory.intrinsic+json": {
              "type": "string"
            }
          },
          "metadata": {},
          "execution_count": 1
        }
      ]
    },
    {
      "cell_type": "code",
      "source": [
        "s"
      ],
      "metadata": {
        "colab": {
          "base_uri": "https://localhost:8080/",
          "height": 36
        },
        "id": "dy6dNvjjGvnW",
        "outputId": "ec98bf5a-9f95-41a3-dd82-0d9e01cfd069"
      },
      "execution_count": 2,
      "outputs": [
        {
          "output_type": "execute_result",
          "data": {
            "text/plain": [
              "'Hello, python'"
            ],
            "application/vnd.google.colaboratory.intrinsic+json": {
              "type": "string"
            }
          },
          "metadata": {},
          "execution_count": 2
        }
      ]
    },
    {
      "cell_type": "code",
      "execution_count": 4,
      "metadata": {
        "id": "Uky6AIC1GQVA"
      },
      "outputs": [],
      "source": [
        "#  리스트의 메소드는 자기 파괴적\n",
        "a = [10,20,30]\n",
        "a.sort(reverse=True)"
      ]
    },
    {
      "cell_type": "code",
      "source": [
        "a"
      ],
      "metadata": {
        "colab": {
          "base_uri": "https://localhost:8080/"
        },
        "id": "OiC4l8QGGjkG",
        "outputId": "bcc7f326-ff2a-4b80-cf67-0894d719b7f0"
      },
      "execution_count": 5,
      "outputs": [
        {
          "output_type": "execute_result",
          "data": {
            "text/plain": [
              "[30, 20, 10]"
            ]
          },
          "metadata": {},
          "execution_count": 5
        }
      ]
    },
    {
      "cell_type": "code",
      "source": [
        "s = s.replace('pythin', 'world')\n",
        "s"
      ],
      "metadata": {
        "colab": {
          "base_uri": "https://localhost:8080/",
          "height": 36
        },
        "id": "BcB30QYnGkJD",
        "outputId": "cf2be4ea-f89f-461c-c18a-dc6498d4fc3f"
      },
      "execution_count": 6,
      "outputs": [
        {
          "output_type": "execute_result",
          "data": {
            "text/plain": [
              "'Hello, python'"
            ],
            "application/vnd.google.colaboratory.intrinsic+json": {
              "type": "string"
            }
          },
          "metadata": {},
          "execution_count": 6
        }
      ]
    },
    {
      "cell_type": "code",
      "source": [
        "# 정규 표현시(Regular expression)\n",
        "import re\n",
        "s = '안녕하세요? Python 코딩 강좌입니다.ㅋㅋ'\n",
        "re.sub('[^A-Za-z ]', ' ',s)        # 패턴, 변경될 값, 문자열"
      ],
      "metadata": {
        "colab": {
          "base_uri": "https://localhost:8080/",
          "height": 36
        },
        "id": "NJMlNmOKHCVq",
        "outputId": "13df2a19-d428-4b57-98b7-4c5af70c540f"
      },
      "execution_count": 10,
      "outputs": [
        {
          "output_type": "execute_result",
          "data": {
            "text/plain": [
              "'       Python            '"
            ],
            "application/vnd.google.colaboratory.intrinsic+json": {
              "type": "string"
            }
          },
          "metadata": {},
          "execution_count": 10
        }
      ]
    },
    {
      "cell_type": "code",
      "source": [
        "# 한글 이외에는 공백으로 변경\n",
        "re.sub('[^ㄱ-ㅎ ㅏ-ㅣ 가-힣]', ' ', s)"
      ],
      "metadata": {
        "colab": {
          "base_uri": "https://localhost:8080/",
          "height": 36
        },
        "id": "xNzgY1lbHfBh",
        "outputId": "cb3a8b25-c348-4ce5-be25-6993a17bc73b"
      },
      "execution_count": 11,
      "outputs": [
        {
          "output_type": "execute_result",
          "data": {
            "text/plain": [
              "'안녕하세요         코딩 강좌입니다 ㅋㅋ'"
            ],
            "application/vnd.google.colaboratory.intrinsic+json": {
              "type": "string"
            }
          },
          "metadata": {},
          "execution_count": 11
        }
      ]
    },
    {
      "cell_type": "markdown",
      "source": [
        "- 문자열 분리(split)"
      ],
      "metadata": {
        "id": "3TH726AcJAuE"
      }
    },
    {
      "cell_type": "code",
      "source": [
        "s = 'apple pear grape pineapple orange'\n",
        "d = s.split()\n",
        "d"
      ],
      "metadata": {
        "colab": {
          "base_uri": "https://localhost:8080/"
        },
        "id": "_4mo1sPGH_gc",
        "outputId": "649d1967-d486-45f2-fffa-5a9416b545c4"
      },
      "execution_count": 12,
      "outputs": [
        {
          "output_type": "execute_result",
          "data": {
            "text/plain": [
              "['apple', 'pear', 'grape', 'pineapple', 'orange']"
            ]
          },
          "metadata": {},
          "execution_count": 12
        }
      ]
    },
    {
      "cell_type": "code",
      "source": [
        "s = 'apple,pear,grape,pineapple,orange'\n",
        "d = s.split(',')\n",
        "d"
      ],
      "metadata": {
        "colab": {
          "base_uri": "https://localhost:8080/"
        },
        "id": "XWxRYuEoJbO0",
        "outputId": "ef771c74-b016-41fd-bdc5-68c223cb64e9"
      },
      "execution_count": 13,
      "outputs": [
        {
          "output_type": "execute_result",
          "data": {
            "text/plain": [
              "['apple', 'pear', 'grape', 'pineapple', 'orange']"
            ]
          },
          "metadata": {},
          "execution_count": 13
        }
      ]
    },
    {
      "cell_type": "code",
      "source": [
        "stopwords = ['a', 'the', ' I', 'am', 'is']\n",
        "s = 'I am a graduate student.'\n",
        "d = s.split()\n",
        "d = [word for word in d if word not in stopwords]\n",
        "d"
      ],
      "metadata": {
        "colab": {
          "base_uri": "https://localhost:8080/"
        },
        "id": "2vtfYoEHJs_0",
        "outputId": "01521a66-dd39-490f-9d3a-46492255242f"
      },
      "execution_count": 14,
      "outputs": [
        {
          "output_type": "execute_result",
          "data": {
            "text/plain": [
              "['I', 'graduate', 'student.']"
            ]
          },
          "metadata": {},
          "execution_count": 14
        }
      ]
    },
    {
      "cell_type": "markdown",
      "source": [
        "- 문자열 리스트 연결(join)"
      ],
      "metadata": {
        "id": "rHV-Gu1sKxZ8"
      }
    },
    {
      "cell_type": "code",
      "source": [
        "' '.join(d)"
      ],
      "metadata": {
        "colab": {
          "base_uri": "https://localhost:8080/",
          "height": 36
        },
        "id": "K8OevkvrKrlX",
        "outputId": "2c31a4fc-5577-4487-df6b-5ac729797707"
      },
      "execution_count": 15,
      "outputs": [
        {
          "output_type": "execute_result",
          "data": {
            "text/plain": [
              "'I graduate student.'"
            ],
            "application/vnd.google.colaboratory.intrinsic+json": {
              "type": "string"
            }
          },
          "metadata": {},
          "execution_count": 15
        }
      ]
    },
    {
      "cell_type": "code",
      "source": [
        "' '.join('apple,pear,grape,pineapple,orange'.split(','))"
      ],
      "metadata": {
        "colab": {
          "base_uri": "https://localhost:8080/",
          "height": 36
        },
        "id": "tREyreiJK69r",
        "outputId": "e2d0a610-9d61-40d4-a51b-41133c1afaa4"
      },
      "execution_count": 17,
      "outputs": [
        {
          "output_type": "execute_result",
          "data": {
            "text/plain": [
              "'apple pear grape pineapple orange'"
            ],
            "application/vnd.google.colaboratory.intrinsic+json": {
              "type": "string"
            }
          },
          "metadata": {},
          "execution_count": 17
        }
      ]
    },
    {
      "cell_type": "code",
      "source": [
        "'apple,pear,grape,pineapple,orange'.replace(',', ' ')"
      ],
      "metadata": {
        "colab": {
          "base_uri": "https://localhost:8080/",
          "height": 36
        },
        "id": "fyAVaX_BLI4d",
        "outputId": "77fe330c-5459-402d-e3e7-36de35cad0bb"
      },
      "execution_count": 18,
      "outputs": [
        {
          "output_type": "execute_result",
          "data": {
            "text/plain": [
              "'apple pear grape pineapple orange'"
            ],
            "application/vnd.google.colaboratory.intrinsic+json": {
              "type": "string"
            }
          },
          "metadata": {},
          "execution_count": 18
        }
      ]
    },
    {
      "cell_type": "code",
      "source": [
        "s = 'I am a graduate student.'\n",
        "' '.join(word for word in s.split() if word not in stopwords)"
      ],
      "metadata": {
        "colab": {
          "base_uri": "https://localhost:8080/",
          "height": 36
        },
        "id": "yBBEhOufLPfl",
        "outputId": "3a2985a6-428d-42b9-bd75-97216ee7dd89"
      },
      "execution_count": 20,
      "outputs": [
        {
          "output_type": "execute_result",
          "data": {
            "text/plain": [
              "'I graduate student.'"
            ],
            "application/vnd.google.colaboratory.intrinsic+json": {
              "type": "string"
            }
          },
          "metadata": {},
          "execution_count": 20
        }
      ]
    },
    {
      "cell_type": "code",
      "source": [
        "d = s.split()\n",
        "sentence = []\n",
        "for word in d:\n",
        "    if word not in stopwords:\n",
        "        sentence.append(word)\n",
        "sentence = ' '.join(sentence)\n",
        "sentence"
      ],
      "metadata": {
        "colab": {
          "base_uri": "https://localhost:8080/",
          "height": 36
        },
        "id": "QpsmzB2ULiOf",
        "outputId": "e55013a9-0004-4d09-9171-77b57d651abb"
      },
      "execution_count": 22,
      "outputs": [
        {
          "output_type": "execute_result",
          "data": {
            "text/plain": [
              "'I graduate student.'"
            ],
            "application/vnd.google.colaboratory.intrinsic+json": {
              "type": "string"
            }
          },
          "metadata": {},
          "execution_count": 22
        }
      ]
    },
    {
      "cell_type": "markdown",
      "source": [
        "- 대소문자 변환(upper, lower)"
      ],
      "metadata": {
        "id": "_EUx_hj6OBQc"
      }
    },
    {
      "cell_type": "code",
      "source": [
        "'Python'.lower(), 'Python'.upper()"
      ],
      "metadata": {
        "colab": {
          "base_uri": "https://localhost:8080/"
        },
        "id": "vPlzap_MMFmS",
        "outputId": "2fa1873c-156c-4b91-a1d5-2397604ab8c5"
      },
      "execution_count": 23,
      "outputs": [
        {
          "output_type": "execute_result",
          "data": {
            "text/plain": [
              "('python', 'PYTHON')"
            ]
          },
          "metadata": {},
          "execution_count": 23
        }
      ]
    },
    {
      "cell_type": "markdown",
      "source": [
        "- 공백 삭제(strip, lstrip, rstrip)"
      ],
      "metadata": {
        "id": "6eBXysB-Q5CX"
      }
    },
    {
      "cell_type": "code",
      "source": [
        "s = '   Python   '\n",
        "s.lstrip(), s.rstrip(), s.strip()"
      ],
      "metadata": {
        "colab": {
          "base_uri": "https://localhost:8080/"
        },
        "id": "A-VASlHkOMy-",
        "outputId": "38dedd67-a556-4bde-b92b-abaa2505b2ea"
      },
      "execution_count": 26,
      "outputs": [
        {
          "output_type": "execute_result",
          "data": {
            "text/plain": [
              "('Python   ', '   Python', 'Python')"
            ]
          },
          "metadata": {},
          "execution_count": 26
        }
      ]
    },
    {
      "cell_type": "markdown",
      "source": [
        "-구둣점 제거"
      ],
      "metadata": {
        "id": "w6I9xY2KRxIt"
      }
    },
    {
      "cell_type": "code",
      "source": [
        "s = ',=Python.!'\n",
        "s.strip()"
      ],
      "metadata": {
        "colab": {
          "base_uri": "https://localhost:8080/",
          "height": 36
        },
        "id": "kCU8jrD4RJF1",
        "outputId": "06f6bdc4-2da8-4055-b560-e9e292bf5244"
      },
      "execution_count": 27,
      "outputs": [
        {
          "output_type": "execute_result",
          "data": {
            "text/plain": [
              "',=Python.!'"
            ],
            "application/vnd.google.colaboratory.intrinsic+json": {
              "type": "string"
            }
          },
          "metadata": {},
          "execution_count": 27
        }
      ]
    },
    {
      "cell_type": "code",
      "source": [
        "import string\n",
        "string.punctuation"
      ],
      "metadata": {
        "colab": {
          "base_uri": "https://localhost:8080/",
          "height": 36
        },
        "id": "wIZ3W_K1RaH4",
        "outputId": "74ac433c-3e82-4393-a53e-4ba025e7623d"
      },
      "execution_count": 28,
      "outputs": [
        {
          "output_type": "execute_result",
          "data": {
            "text/plain": [
              "'!\"#$%&\\'()*+,-./:;<=>?@[\\\\]^_`{|}~'"
            ],
            "application/vnd.google.colaboratory.intrinsic+json": {
              "type": "string"
            }
          },
          "metadata": {},
          "execution_count": 28
        }
      ]
    },
    {
      "cell_type": "code",
      "source": [
        "s.strip(string.punctuation)"
      ],
      "metadata": {
        "colab": {
          "base_uri": "https://localhost:8080/",
          "height": 36
        },
        "id": "47OL1J7cRiX-",
        "outputId": "4f2f0167-1927-4b9f-dcdf-2749167bb8e4"
      },
      "execution_count": 29,
      "outputs": [
        {
          "output_type": "execute_result",
          "data": {
            "text/plain": [
              "'Python'"
            ],
            "application/vnd.google.colaboratory.intrinsic+json": {
              "type": "string"
            }
          },
          "metadata": {},
          "execution_count": 29
        }
      ]
    },
    {
      "cell_type": "markdown",
      "source": [
        "- 메소드 체이닝(method chaining)"
      ],
      "metadata": {
        "id": "EGpTp2gZTMhA"
      }
    },
    {
      "cell_type": "code",
      "source": [
        "s = ',=Python.!'\n",
        "s.lower().strip(string.punctuation)"
      ],
      "metadata": {
        "colab": {
          "base_uri": "https://localhost:8080/",
          "height": 36
        },
        "id": "ZqaMZGn_Siwq",
        "outputId": "912d96b4-3c7d-4c74-c151-0c927605e2f5"
      },
      "execution_count": 31,
      "outputs": [
        {
          "output_type": "execute_result",
          "data": {
            "text/plain": [
              "'python'"
            ],
            "application/vnd.google.colaboratory.intrinsic+json": {
              "type": "string"
            }
          },
          "metadata": {},
          "execution_count": 31
        }
      ]
    },
    {
      "cell_type": "code",
      "source": [
        "s = '  123,000원'\n",
        "int(s.strip(' 원').replace(',',''))"
      ],
      "metadata": {
        "colab": {
          "base_uri": "https://localhost:8080/"
        },
        "id": "vKGubqHjTeIH",
        "outputId": "5fcf78f8-9672-403e-d1e2-338a8921ae3c"
      },
      "execution_count": 36,
      "outputs": [
        {
          "output_type": "execute_result",
          "data": {
            "text/plain": [
              "123000"
            ]
          },
          "metadata": {},
          "execution_count": 36
        }
      ]
    },
    {
      "cell_type": "code",
      "source": [
        "s = 'USD 1,752.37$'\n",
        "float(s.strip('USD $').replace(',',''))"
      ],
      "metadata": {
        "colab": {
          "base_uri": "https://localhost:8080/"
        },
        "id": "pCt8uwWiUBDF",
        "outputId": "224b6615-a94c-41b5-ef8a-f3718becce20"
      },
      "execution_count": 39,
      "outputs": [
        {
          "output_type": "execute_result",
          "data": {
            "text/plain": [
              "1752.37"
            ]
          },
          "metadata": {},
          "execution_count": 39
        }
      ]
    },
    {
      "cell_type": "markdown",
      "source": [
        "- 정렬(ljust, rjust, center)"
      ],
      "metadata": {
        "id": "Zl3t2aVzV1oK"
      }
    },
    {
      "cell_type": "code",
      "source": [
        "'python'.ljust(10), 'python'.rjust(10), 'python'.center(11)"
      ],
      "metadata": {
        "colab": {
          "base_uri": "https://localhost:8080/"
        },
        "id": "6jmMpv6sVVbm",
        "outputId": "279f629e-af7a-4fa9-ecc6-b31284dccc16"
      },
      "execution_count": 43,
      "outputs": [
        {
          "output_type": "execute_result",
          "data": {
            "text/plain": [
              "('python    ', '    python', '   python  ')"
            ]
          },
          "metadata": {},
          "execution_count": 43
        }
      ]
    },
    {
      "cell_type": "markdown",
      "source": [
        "- 위치 찾기(find, rfind, index)"
      ],
      "metadata": {
        "id": "ZM7fhzt6WsXD"
      }
    },
    {
      "cell_type": "code",
      "source": [
        "'apple pineapple'.find('pp')"
      ],
      "metadata": {
        "colab": {
          "base_uri": "https://localhost:8080/"
        },
        "id": "uz5vb0CXWBH8",
        "outputId": "24f74f33-b250-4290-ee28-3588b3188c67"
      },
      "execution_count": 45,
      "outputs": [
        {
          "output_type": "execute_result",
          "data": {
            "text/plain": [
              "1"
            ]
          },
          "metadata": {},
          "execution_count": 45
        }
      ]
    },
    {
      "cell_type": "code",
      "source": [
        "'apple pineapple'.find('xy')"
      ],
      "metadata": {
        "colab": {
          "base_uri": "https://localhost:8080/"
        },
        "id": "Yy5id5BxW7zL",
        "outputId": "b84e1249-939c-43f6-cda5-f52af9b63cc1"
      },
      "execution_count": 46,
      "outputs": [
        {
          "output_type": "execute_result",
          "data": {
            "text/plain": [
              "-1"
            ]
          },
          "metadata": {},
          "execution_count": 46
        }
      ]
    },
    {
      "cell_type": "code",
      "source": [
        "s = 'A quick brown fox jumps over the lazy dog'\n",
        "s.find('fox')"
      ],
      "metadata": {
        "colab": {
          "base_uri": "https://localhost:8080/"
        },
        "id": "oCqfZBjkXBmK",
        "outputId": "2d051308-9b4c-41c7-ad54-94dfcd26bc78"
      },
      "execution_count": 48,
      "outputs": [
        {
          "output_type": "execute_result",
          "data": {
            "text/plain": [
              "14"
            ]
          },
          "metadata": {},
          "execution_count": 48
        }
      ]
    },
    {
      "cell_type": "code",
      "source": [
        "s.find('wolf')"
      ],
      "metadata": {
        "colab": {
          "base_uri": "https://localhost:8080/"
        },
        "id": "wsiMaIx6XXE2",
        "outputId": "953a84e6-b1f3-4016-90c9-d4ea35b9fee4"
      },
      "execution_count": 49,
      "outputs": [
        {
          "output_type": "execute_result",
          "data": {
            "text/plain": [
              "-1"
            ]
          },
          "metadata": {},
          "execution_count": 49
        }
      ]
    },
    {
      "cell_type": "code",
      "source": [
        "search = 'fox'\n",
        "if s.find(search) >= 0:\n",
        "    print('문장안에 찾고자 하는 문자열이 있습니다.')\n",
        "else:\n",
        "     print('문장안에 찾고자 하는 문자열이 없습니다.')"
      ],
      "metadata": {
        "colab": {
          "base_uri": "https://localhost:8080/"
        },
        "id": "Y8fucEV4Xah1",
        "outputId": "7c7ab35b-e7d1-4216-f0c6-40f5746e7c8f"
      },
      "execution_count": 51,
      "outputs": [
        {
          "output_type": "stream",
          "name": "stdout",
          "text": [
            "문장안에 찾고자 하는 문자열이 있습니다.\n"
          ]
        }
      ]
    },
    {
      "cell_type": "code",
      "source": [
        "'fox' in s"
      ],
      "metadata": {
        "colab": {
          "base_uri": "https://localhost:8080/"
        },
        "id": "e9C-PVKXXiKa",
        "outputId": "4723a702-4f3d-4e10-d8e4-6273af333098"
      },
      "execution_count": 53,
      "outputs": [
        {
          "output_type": "execute_result",
          "data": {
            "text/plain": [
              "True"
            ]
          },
          "metadata": {},
          "execution_count": 53
        }
      ]
    },
    {
      "cell_type": "code",
      "source": [
        "'apple pineapple'.rfind('pp')"
      ],
      "metadata": {
        "colab": {
          "base_uri": "https://localhost:8080/"
        },
        "id": "i802MH0PYJXw",
        "outputId": "87022e31-22fe-49a7-dfa1-168bf4621633"
      },
      "execution_count": 54,
      "outputs": [
        {
          "output_type": "execute_result",
          "data": {
            "text/plain": [
              "11"
            ]
          },
          "metadata": {},
          "execution_count": 54
        }
      ]
    },
    {
      "cell_type": "code",
      "source": [
        "'apple pineapple'.index('pp'), 'apple pineapple'.rindex('pp')"
      ],
      "metadata": {
        "colab": {
          "base_uri": "https://localhost:8080/"
        },
        "id": "Dm_fzO8rYfrX",
        "outputId": "fa397356-f7f1-4cfd-b4f6-e3f651beac0e"
      },
      "execution_count": 55,
      "outputs": [
        {
          "output_type": "execute_result",
          "data": {
            "text/plain": [
              "(1, 11)"
            ]
          },
          "metadata": {},
          "execution_count": 55
        }
      ]
    },
    {
      "cell_type": "markdown",
      "source": [
        "- 문자열 개수"
      ],
      "metadata": {
        "id": "px_hVSPcY0KJ"
      }
    },
    {
      "cell_type": "code",
      "source": [
        "'apple pineapple'.count('pp')"
      ],
      "metadata": {
        "colab": {
          "base_uri": "https://localhost:8080/"
        },
        "id": "L8Grmx1RYu0X",
        "outputId": "61b6f28d-e2e8-4c68-f6e0-da091ab3ac61"
      },
      "execution_count": 56,
      "outputs": [
        {
          "output_type": "execute_result",
          "data": {
            "text/plain": [
              "2"
            ]
          },
          "metadata": {},
          "execution_count": 56
        }
      ]
    },
    {
      "cell_type": "markdown",
      "source": [
        "### 연습문제\n",
        "<pre>\n",
        "1. 디지털 시계(00:00 ~ 23:59)가 있다.\n",
        "하룻동안 3이라는 숫자가 표시되는 시간은 몇초인가?\n",
        "\n",
        "2. 1에서 100까지 숫자에서 0,1,...,9는 몇번 나오나?\n",
        "</pre>"
      ],
      "metadata": {
        "id": "wyb9p8G_Y9I0"
      }
    },
    {
      "cell_type": "code",
      "source": [
        "# 디지털 시계\n",
        "time = 0\n",
        "for hour in range(24):\n",
        "    for minute in range(60):\n",
        "        display = str(hour) + ':' + str(minute)\n",
        "        # display = f'{hour:02d}:{minute:02d}'\n",
        "        if '3' in display:      # if display.find('3') >= 0\n",
        "            time += 60\n",
        "print(time)"
      ],
      "metadata": {
        "colab": {
          "base_uri": "https://localhost:8080/"
        },
        "id": "fQe44E7jeZ_D",
        "outputId": "9de3f1d9-4937-429c-fca2-7dcaedbe3db5"
      },
      "execution_count": 67,
      "outputs": [
        {
          "output_type": "stream",
          "name": "stdout",
          "text": [
            "29700\n"
          ]
        }
      ]
    },
    {
      "cell_type": "code",
      "source": [
        "print(str(list(range(1, 101))).count(''))"
      ],
      "metadata": {
        "colab": {
          "base_uri": "https://localhost:8080/"
        },
        "id": "iFbjOdVtclgW",
        "outputId": "11e65f4d-2983-4167-9917-934ccced9d94"
      },
      "execution_count": 64,
      "outputs": [
        {
          "output_type": "stream",
          "name": "stdout",
          "text": [
            "393\n"
          ]
        }
      ]
    },
    {
      "cell_type": "code",
      "source": [
        "# 숫자 갯수\n",
        "num_string = ''\n",
        "for i in range(1,1001):\n",
        "    num_string +=str(i)\n",
        "num_string"
      ],
      "metadata": {
        "colab": {
          "base_uri": "https://localhost:8080/",
          "height": 148
        },
        "id": "nS_YPKN4dTqm",
        "outputId": "d26bed78-114a-40d5-8606-b76d143c9c19"
      },
      "execution_count": 69,
      "outputs": [
        {
          "output_type": "execute_result",
          "data": {
            "text/plain": [
              "'1234567891011121314151617181920212223242526272829303132333435363738394041424344454647484950515253545556575859606162636465666768697071727374757677787980818283848586878889909192939495969798991001011021031041051061071081091101111121131141151161171181191201211221231241251261271281291301311321331341351361371381391401411421431441451461471481491501511521531541551561571581591601611621631641651661671681691701711721731741751761771781791801811821831841851861871881891901911921931941951961971981992002012022032042052062072082092102112122132142152162172182192202212222232242252262272282292302312322332342352362372382392402412422432442452462472482492502512522532542552562572582592602612622632642652662672682692702712722732742752762772782792802812822832842852862872882892902912922932942952962972982993003013023033043053063073083093103113123133143153163173183193203213223233243253263273283293303313323333343353363373383393403413423433443453463473483493503513523533543553563573583593603613623633643653663673683693703713723733743753763773783793803813823833843853863873883893903913923933943953963973983994004014024034044054064074084094104114124134144154164174184194204214224234244254264274284294304314324334344354364374384394404414424434444454464474484494504514524534544554564574584594604614624634644654664674684694704714724734744754764774784794804814824834844854864874884894904914924934944954964974984995005015025035045055065075085095105115125135145155165175185195205215225235245255265275285295305315325335345355365375385395405415425435445455465475485495505515525535545555565575585595605615625635645655665675685695705715725735745755765775785795805815825835845855865875885895905915925935945955965975985996006016026036046056066076086096106116126136146156166176186196206216226236246256266276286296306316326336346356366376386396406416426436446456466476486496506516526536546556566576586596606616626636646656666676686696706716726736746756766776786796806816826836846856866876886896906916926936946956966976986997007017027037047057067077087097107117127137147157167177187197207217227237247257267277287297307317327337347357367377387397407417427437447457467477487497507517527537547557567577587597607617627637647657667677687697707717727737747757767777787797807817827837847857867877887897907917927937947957967977987998008018028038048058068078088098108118128138148158168178188198208218228238248258268278288298308318328338348358368378388398408418428438448458468478488498508518528538548558568578588598608618628638648658668678688698708718728738748758768778788798808818828838848858868878888898908918928938948958968978988999009019029039049059069079089099109119129139149159169179189199209219229239249259269279289299309319329339349359369379389399409419429439449459469479489499509519529539549559569579589599609619629639649659669679689699709719729739749759769779789799809819829839849859869879889899909919929939949959969979989991000'"
            ],
            "application/vnd.google.colaboratory.intrinsic+json": {
              "type": "string"
            }
          },
          "metadata": {},
          "execution_count": 69
        }
      ]
    },
    {
      "cell_type": "code",
      "source": [
        "# 2. 숫자 갯수\n",
        "num_string = ''\n",
        "for i in range(1,1001):\n",
        "    num_string +=str(i)"
      ],
      "metadata": {
        "id": "iBbRmlD1gjBO"
      },
      "execution_count": 72,
      "outputs": []
    },
    {
      "cell_type": "code",
      "source": [
        "for i in range(10):\n",
        "    count = num_string.count(str(i))\n",
        "    print(i, count)"
      ],
      "metadata": {
        "colab": {
          "base_uri": "https://localhost:8080/"
        },
        "id": "oqIt8JHWf9_X",
        "outputId": "0e05b672-426b-4942-b28a-d1c67477a6ea"
      },
      "execution_count": 71,
      "outputs": [
        {
          "output_type": "stream",
          "name": "stdout",
          "text": [
            "0 192\n",
            "1 301\n",
            "2 300\n",
            "3 300\n",
            "4 300\n",
            "5 300\n",
            "6 300\n",
            "7 300\n",
            "8 300\n",
            "9 300\n"
          ]
        }
      ]
    },
    {
      "cell_type": "markdown",
      "source": [
        "### 24.2 문자열 서식 지정자와 포맷팅"
      ],
      "metadata": {
        "id": "VUJDWVsvgwlN"
      }
    },
    {
      "cell_type": "code",
      "source": [
        "s = 'python'        # 문자열\n",
        "f'==={s:10s}==='"
      ],
      "metadata": {
        "colab": {
          "base_uri": "https://localhost:8080/",
          "height": 36
        },
        "id": "7Z6Pgr1mg17f",
        "outputId": "60111d02-aadc-492b-f259-fee411cd6548"
      },
      "execution_count": 75,
      "outputs": [
        {
          "output_type": "execute_result",
          "data": {
            "text/plain": [
              "'===python    ==='"
            ],
            "application/vnd.google.colaboratory.intrinsic+json": {
              "type": "string"
            }
          },
          "metadata": {},
          "execution_count": 75
        }
      ]
    },
    {
      "cell_type": "code",
      "source": [
        "d = 3           # 정수\n",
        "f'==={d:4d}:{d:02d}==='"
      ],
      "metadata": {
        "colab": {
          "base_uri": "https://localhost:8080/",
          "height": 36
        },
        "id": "aPynX5zMhW5C",
        "outputId": "955412b4-81e5-4900-eb5a-e77b361eeea7"
      },
      "execution_count": 76,
      "outputs": [
        {
          "output_type": "execute_result",
          "data": {
            "text/plain": [
              "'===   3:03==='"
            ],
            "application/vnd.google.colaboratory.intrinsic+json": {
              "type": "string"
            }
          },
          "metadata": {},
          "execution_count": 76
        }
      ]
    },
    {
      "cell_type": "code",
      "source": [
        "year, month, day, hour, minute= 2022, 3, 29, 11, 36\n",
        "f'오늘은 {year}-{month:02d}-{day:02d} 이고, 시간은 {hour:02d}:{minute:02d} 입니다.'"
      ],
      "metadata": {
        "colab": {
          "base_uri": "https://localhost:8080/",
          "height": 36
        },
        "id": "_4F-bwPphywk",
        "outputId": "7fcb642b-49a7-4f5e-dfe4-d6630598d3cc"
      },
      "execution_count": 78,
      "outputs": [
        {
          "output_type": "execute_result",
          "data": {
            "text/plain": [
              "'오늘은 2022-03-29 이고, 시간은 11:36 입니다.'"
            ],
            "application/vnd.google.colaboratory.intrinsic+json": {
              "type": "string"
            }
          },
          "metadata": {},
          "execution_count": 78
        }
      ]
    },
    {
      "cell_type": "code",
      "source": [
        "price = 35000\n",
        "f'가격: {price:10,d}원'"
      ],
      "metadata": {
        "colab": {
          "base_uri": "https://localhost:8080/",
          "height": 36
        },
        "id": "UvVhROKyidi9",
        "outputId": "14a1ebec-cd03-4d93-b414-83472e92f723"
      },
      "execution_count": 79,
      "outputs": [
        {
          "output_type": "execute_result",
          "data": {
            "text/plain": [
              "'가격:     35,000원'"
            ],
            "application/vnd.google.colaboratory.intrinsic+json": {
              "type": "string"
            }
          },
          "metadata": {},
          "execution_count": 79
        }
      ]
    },
    {
      "cell_type": "code",
      "source": [
        "price1, price2 = 35000, 1200000\n",
        "print(f'가격1: {price1:10,d}원')\n",
        "print(f'가격2: {price2:10,d}원')"
      ],
      "metadata": {
        "colab": {
          "base_uri": "https://localhost:8080/"
        },
        "id": "1-qcqbCajFo_",
        "outputId": "af351149-54fa-4658-a388-6ff96f45bd8f"
      },
      "execution_count": 80,
      "outputs": [
        {
          "output_type": "stream",
          "name": "stdout",
          "text": [
            "가격1:     35,000원\n",
            "가격2:  1,200,000원\n"
          ]
        }
      ]
    },
    {
      "cell_type": "code",
      "source": [
        "import math\n",
        "f'파이값은 {math.pi} 입니다.'"
      ],
      "metadata": {
        "colab": {
          "base_uri": "https://localhost:8080/",
          "height": 36
        },
        "id": "8s5qrAL5jeSg",
        "outputId": "fe72bae9-15e5-48bb-cbd5-c2c618883187"
      },
      "execution_count": 81,
      "outputs": [
        {
          "output_type": "execute_result",
          "data": {
            "text/plain": [
              "'파이값은 3.141592653589793 입니다.'"
            ],
            "application/vnd.google.colaboratory.intrinsic+json": {
              "type": "string"
            }
          },
          "metadata": {},
          "execution_count": 81
        }
      ]
    },
    {
      "cell_type": "code",
      "source": [
        "import math\n",
        "f'파이값은 {math.pi:8.5f} 입니다.'"
      ],
      "metadata": {
        "colab": {
          "base_uri": "https://localhost:8080/",
          "height": 36
        },
        "id": "HNXvDkX4kM63",
        "outputId": "75143d4f-e546-48e1-be80-4c563905a567"
      },
      "execution_count": 82,
      "outputs": [
        {
          "output_type": "execute_result",
          "data": {
            "text/plain": [
              "'파이값은  3.14159 입니다.'"
            ],
            "application/vnd.google.colaboratory.intrinsic+json": {
              "type": "string"
            }
          },
          "metadata": {},
          "execution_count": 82
        }
      ]
    },
    {
      "cell_type": "code",
      "source": [
        ""
      ],
      "metadata": {
        "id": "d0l9iK6ykUOK"
      },
      "execution_count": null,
      "outputs": []
    }
  ]
}