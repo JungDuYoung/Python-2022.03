{
  "nbformat": 4,
  "nbformat_minor": 0,
  "metadata": {
    "colab": {
      "name": "u_심사문제.ipynb",
      "provenance": []
    },
    "kernelspec": {
      "name": "python3",
      "display_name": "Python 3"
    },
    "language_info": {
      "name": "python"
    }
  },
  "cells": [
    {
      "cell_type": "markdown",
      "source": [
        "24.5 심사문제: 특정 단어 개수 세기"
      ],
      "metadata": {
        "id": "CWN3w8bcRfPp"
      }
    },
    {
      "cell_type": "markdown",
      "source": [
        "표준 입력으로 문자열이 입력됩니다. 입력된 문자열에서 'the'의 개수를 출력하는 프로그램을 만드세요(input에서 안내 문자열은 출력하지 않아야 합니다). 단, 모든 문자가 소문자인 'the'만 찾으면 되며 'them', 'there', 'their' 등은 포함하지 않아야 합니다."
      ],
      "metadata": {
        "id": "Hi33X15ZVgHR"
      }
    },
    {
      "cell_type": "code",
      "execution_count": 1,
      "metadata": {
        "id": "jz9Dl7cgRWfY",
        "colab": {
          "base_uri": "https://localhost:8080/"
        },
        "outputId": "1f8d6cc8-c73c-447b-dff9-2a32bc0b61ae"
      },
      "outputs": [
        {
          "output_type": "stream",
          "name": "stdout",
          "text": [
            "the grown-ups' response, this time, was to advise me to lay aside my drawings of boa constrictors, whether from the inside or the outside, and devote myself instead to geography, history, arithmetic, and grammar. That is why, at the, age of six, I gave up what might have been a magnificent career as a painter. I had been disheartened by the failure of my Drawing Number One and my Drawing Number Two. Grown-ups never understand anything by themselves, and it is tiresome for children to be always and forever explaining things to the.\n",
            "6\n"
          ]
        }
      ],
      "source": [
        "contents = input().split()\n",
        "\n",
        "count = 0\n",
        "for word in contents:\n",
        "    if(word.strip('.,') == 'the'):\n",
        "        count += 1\n",
        "\n",
        "print(count)"
      ]
    },
    {
      "cell_type": "markdown",
      "source": [
        "24.6 심사문제: 높은 가격순으로 출력하기"
      ],
      "metadata": {
        "id": "SCEhu5mCRpPI"
      }
    },
    {
      "cell_type": "markdown",
      "source": [
        "-표준 입력으로 물품 가격 여러 개가 문자열 한 줄로 입력되고, 각 가격은 ;(세미콜론)으로 구분되어 있습니다. 입력된 가격을 높은 가격순으로 출력하는 프로그램을 만드세요(input에서 안내 문자열은 출력하지 않아야 합니다). 이때 가격은 길이를 9로 만든 뒤 오른쪽으로 정렬하고 천단위로 ,(콤마)를 넣으세요."
      ],
      "metadata": {
        "id": "MNCZoz33VkpY"
      }
    },
    {
      "cell_type": "code",
      "source": [
        "pricelist = list(map(int, input().split(';')))\n",
        "pricelist.sort(reverse=True)\n",
        "for price in pricelist:\n",
        "    print('%9s' %(format(price,',')))"
      ],
      "metadata": {
        "id": "RI_Hknz7Rs-r",
        "colab": {
          "base_uri": "https://localhost:8080/"
        },
        "outputId": "8a4b79d2-7832-4d89-c383-8f8bd8a7bb2c"
      },
      "execution_count": 3,
      "outputs": [
        {
          "output_type": "stream",
          "name": "stdout",
          "text": [
            "51900;83000;158000;367500;250000;59200;128500;1304000\n",
            "1,304,000\n",
            "  367,500\n",
            "  250,000\n",
            "  158,000\n",
            "  128,500\n",
            "   83,000\n",
            "   59,200\n",
            "   51,900\n"
          ]
        }
      ]
    },
    {
      "cell_type": "markdown",
      "source": [
        "25.8 심사문제: 딕셔너리에서 특정 값 삭제하기"
      ],
      "metadata": {
        "id": "hiACGKZfRv4Q"
      }
    },
    {
      "cell_type": "markdown",
      "source": [
        "-표준 입력으로 문자열 여러 개와 숫자 여러 개가 두 줄로 입력되고, 첫 번째 줄은 키, 두 번째 줄은 값으로 하여 딕셔너리를 생성합니다. 다음 코드를 완성하여 딕셔너리에서 키가 'delta'인 키-값 쌍과 값이 30인 키-값 쌍을 삭제하도록 만드세요."
      ],
      "metadata": {
        "id": "2kEUY7-LV5iY"
      }
    },
    {
      "cell_type": "code",
      "source": [
        "keys = input().split() \n",
        "values = map(int, input().split())  \n",
        "x = dict(zip(keys, values))\n",
        "\n",
        "del x['delta']\n",
        "x = {key : value for key, value in x.items() if value != 30}\n",
        "print(x)"
      ],
      "metadata": {
        "id": "L8KTx5_iRzRm",
        "colab": {
          "base_uri": "https://localhost:8080/"
        },
        "outputId": "600de83d-5424-4fd2-c2d5-c4b7f3aea86f"
      },
      "execution_count": 1,
      "outputs": [
        {
          "output_type": "stream",
          "name": "stdout",
          "text": [
            "alpha bravo charlie delta\n",
            " 10 20 30 40\n",
            "{'alpha': 10, 'bravo': 20}\n"
          ]
        }
      ]
    },
    {
      "cell_type": "code",
      "source": [
        "keys = input().split() \n",
        "values = map(int, input().split())  \n",
        "x = dict(zip(keys, values))\n",
        "\n",
        "del x['delta']\n",
        "x = {key : value for key, value in x.items() if value != 30}\n",
        "print(x)"
      ],
      "metadata": {
        "colab": {
          "base_uri": "https://localhost:8080/"
        },
        "id": "zcrb81MVk_YZ",
        "outputId": "aa52b2e7-492e-4baf-d860-bd704b327a63"
      },
      "execution_count": 3,
      "outputs": [
        {
          "output_type": "stream",
          "name": "stdout",
          "text": [
            "alpha bravo charlie delta echo foxtrot golf \n",
            "30 40 50 60 70 80 90\n",
            "{'bravo': 40, 'charlie': 50, 'echo': 70, 'foxtrot': 80, 'golf': 90}\n"
          ]
        }
      ]
    },
    {
      "cell_type": "code",
      "source": [
        "# 반복문에서 반복 대상이 되는 딕셔너리의 크기를 변경시키는 작업을 하면 안됨\n",
        "for key, value in x.items():\n",
        "    if value == 30:\n",
        "        del x[key]"
      ],
      "metadata": {
        "id": "OilNop6vz-5R"
      },
      "execution_count": 4,
      "outputs": []
    },
    {
      "cell_type": "code",
      "source": [
        "for key, value in x.items():\n",
        "    if value == 30:\n",
        "        break\n",
        "x.pop(key)              #del x[key]\n",
        "x"
      ],
      "metadata": {
        "colab": {
          "base_uri": "https://localhost:8080/"
        },
        "id": "-o5Yv2Bm0p3R",
        "outputId": "d85860fe-a8f7-444e-b8c1-f754ee63b5d4"
      },
      "execution_count": 5,
      "outputs": [
        {
          "output_type": "execute_result",
          "data": {
            "text/plain": [
              "{'bravo': 40, 'charlie': 50, 'echo': 70, 'foxtrot': 80}"
            ]
          },
          "metadata": {},
          "execution_count": 5
        }
      ]
    },
    {
      "cell_type": "markdown",
      "source": [
        "26.9 심사문제: 공약수 구하기"
      ],
      "metadata": {
        "id": "OFHNjqIiRzpY"
      }
    },
    {
      "cell_type": "markdown",
      "source": [
        "-표준 입력으로 양의 정수 두 개가 입력됩니다. 다음 소스 코드를 완성하여 두 숫자의 공약수를 세트 형태로 구하도록 만드세요. 단, 최종 결과는 공약수의 합으로 판단합니다."
      ],
      "metadata": {
        "id": "lgWbzLGsV-9Y"
      }
    },
    {
      "cell_type": "code",
      "source": [
        "# 약수의 집합\n",
        "div_set = set()\n",
        "x = 10\n",
        "for i in range(1, x+1):\n",
        "    if x % i == 0:\n",
        "        div_set.add(i)\n",
        "div_set"
      ],
      "metadata": {
        "colab": {
          "base_uri": "https://localhost:8080/"
        },
        "id": "BQMR8uUL1J2r",
        "outputId": "b004654b-b709-4901-e128-dc94b76d263b"
      },
      "execution_count": 6,
      "outputs": [
        {
          "output_type": "execute_result",
          "data": {
            "text/plain": [
              "{1, 2, 5, 10}"
            ]
          },
          "metadata": {},
          "execution_count": 6
        }
      ]
    },
    {
      "cell_type": "code",
      "source": [
        "div_set = {i for i in range(1, x+1) if x % i == 0}\n",
        "div_set"
      ],
      "metadata": {
        "colab": {
          "base_uri": "https://localhost:8080/"
        },
        "id": "JV3xxwP-1iRR",
        "outputId": "48580ba8-0373-4ccc-d110-c4a2c8db0b25"
      },
      "execution_count": 7,
      "outputs": [
        {
          "output_type": "execute_result",
          "data": {
            "text/plain": [
              "{1, 2, 5, 10}"
            ]
          },
          "metadata": {},
          "execution_count": 7
        }
      ]
    },
    {
      "cell_type": "code",
      "source": [
        "a, b = map(int, input().split())\n",
        "a = {i for i in range(1, a+1) if a%i == 0}\n",
        "b = {i for i in range(1, b+1) if b%i == 0}\n",
        "divisor = a & b\n",
        " \n",
        "result = 0\n",
        "if type(divisor) == set:\n",
        "    result = sum(divisor)\n",
        " \n",
        "print(result)"
      ],
      "metadata": {
        "id": "eIndvYC8R4Y7",
        "colab": {
          "base_uri": "https://localhost:8080/"
        },
        "outputId": "c3923ba4-e890-4012-e54c-081ee40db8dd"
      },
      "execution_count": 6,
      "outputs": [
        {
          "output_type": "stream",
          "name": "stdout",
          "text": [
            "10 20\n",
            "18\n"
          ]
        }
      ]
    },
    {
      "cell_type": "code",
      "source": [
        "a, b = map(int, input().split())\n",
        "a = {i for i in range(1, a+1) if a%i == 0}\n",
        "b = {i for i in range(1, b+1) if b%i == 0}\n",
        "divisor = a & b\n",
        " \n",
        "result = 0\n",
        "if type(divisor) == set:\n",
        "    result = sum(divisor)\n",
        " \n",
        "print(result)"
      ],
      "metadata": {
        "colab": {
          "base_uri": "https://localhost:8080/"
        },
        "id": "aMWWn5e7lTCC",
        "outputId": "2d16d781-9ae6-4bb6-bba9-3ba2e58f6958"
      },
      "execution_count": 7,
      "outputs": [
        {
          "output_type": "stream",
          "name": "stdout",
          "text": [
            "100 200\n",
            "217\n"
          ]
        }
      ]
    },
    {
      "cell_type": "code",
      "source": [
        "%%shell\n",
        "jupyter nbconvert --to html /content/drive/MyDrive/\"Colab Notebooks\"/u_심사문제.ipynb"
      ],
      "metadata": {
        "colab": {
          "base_uri": "https://localhost:8080/"
        },
        "id": "s4k6ROoblVyH",
        "outputId": "cafbac10-c86c-4a8d-e480-038d4f253b94"
      },
      "execution_count": 13,
      "outputs": [
        {
          "output_type": "stream",
          "name": "stdout",
          "text": [
            "[NbConvertApp] Converting notebook /content/drive/MyDrive/Colab Notebooks/u_심사문제.ipynb to html\n",
            "[NbConvertApp] Writing 300681 bytes to /content/drive/MyDrive/Colab Notebooks/u_심사문제.html\n"
          ]
        },
        {
          "output_type": "execute_result",
          "data": {
            "text/plain": [
              ""
            ]
          },
          "metadata": {},
          "execution_count": 13
        }
      ]
    },
    {
      "cell_type": "code",
      "source": [
        ""
      ],
      "metadata": {
        "id": "BJ4JwG5vp2PX"
      },
      "execution_count": null,
      "outputs": []
    }
  ]
}