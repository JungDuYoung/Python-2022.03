{
  "nbformat": 4,
  "nbformat_minor": 0,
  "metadata": {
    "colab": {
      "name": "u17_while.ipynb",
      "provenance": []
    },
    "kernelspec": {
      "name": "python3",
      "display_name": "Python 3"
    },
    "language_info": {
      "name": "python"
    }
  },
  "cells": [
    {
      "cell_type": "markdown",
      "source": [
        "# Unit 17. while 반복문"
      ],
      "metadata": {
        "id": "1gSX7NUteC5H"
      }
    },
    {
      "cell_type": "markdown",
      "source": [
        "### 17.1 while 반복문"
      ],
      "metadata": {
        "id": "4xNlqHXAezKv"
      }
    },
    {
      "cell_type": "code",
      "execution_count": 1,
      "metadata": {
        "colab": {
          "base_uri": "https://localhost:8080/"
        },
        "id": "WFcvNX12d_LQ",
        "outputId": "18ccae1d-a88f-4981-b7c4-052259f2f337"
      },
      "outputs": [
        {
          "output_type": "stream",
          "name": "stdout",
          "text": [
            "Hello World 0\n",
            "Hello World 1\n",
            "Hello World 2\n",
            "Hello World 3\n",
            "Hello World 4\n"
          ]
        }
      ],
      "source": [
        "i = 0\n",
        "while i < 5:\n",
        "    print('Hello World', i)\n",
        "    i += 1"
      ]
    },
    {
      "cell_type": "markdown",
      "source": [
        "### 17.2 반복횟수가 정해져 있지 않은 경우"
      ],
      "metadata": {
        "id": "-2qw8qJpffRN"
      }
    },
    {
      "cell_type": "code",
      "source": [
        "import random"
      ],
      "metadata": {
        "id": "VxQCTF0GfGe-"
      },
      "execution_count": 2,
      "outputs": []
    },
    {
      "cell_type": "code",
      "source": [
        "dice = random.randint(1, 6)\n",
        "while dice != 3:\n",
        "    print(dice, end=' ')\n",
        "    dice = random.randint(1, 6)"
      ],
      "metadata": {
        "colab": {
          "base_uri": "https://localhost:8080/"
        },
        "id": "V1W8KFrsfsKD",
        "outputId": "50f4fb2b-21c1-46b9-9682-f1482d48b183"
      },
      "execution_count": 6,
      "outputs": [
        {
          "output_type": "stream",
          "name": "stdout",
          "text": [
            "6 2 2 1 4 4 5 6 1 2 "
          ]
        }
      ]
    },
    {
      "cell_type": "code",
      "source": [
        "dice = 0\n",
        "while dice != 3:\n",
        "    dice = random.randint(1, 6)\n",
        "    print(dice, end=' ')"
      ],
      "metadata": {
        "colab": {
          "base_uri": "https://localhost:8080/"
        },
        "id": "oyPfu_L7gB4F",
        "outputId": "1e319b87-14f6-4c4f-f24d-fbdd6d5855fd"
      },
      "execution_count": 7,
      "outputs": [
        {
          "output_type": "stream",
          "name": "stdout",
          "text": [
            "2 1 1 4 3 "
          ]
        }
      ]
    },
    {
      "cell_type": "code",
      "source": [
        "while True:                         # 무한루프\n",
        "    dice = random.randint(1, 6)\n",
        "    print(dice, end=' ')\n",
        "    if dice == 3:\n",
        "        break"
      ],
      "metadata": {
        "colab": {
          "base_uri": "https://localhost:8080/"
        },
        "id": "bU61vD9af9sb",
        "outputId": "3f23757b-9608-4558-db2b-9020715c4560"
      },
      "execution_count": 8,
      "outputs": [
        {
          "output_type": "stream",
          "name": "stdout",
          "text": [
            "2 4 4 6 1 2 2 3 "
          ]
        }
      ]
    },
    {
      "cell_type": "code",
      "source": [
        ""
      ],
      "metadata": {
        "id": "sTRQumd9geGk"
      },
      "execution_count": null,
      "outputs": []
    }
  ]
}