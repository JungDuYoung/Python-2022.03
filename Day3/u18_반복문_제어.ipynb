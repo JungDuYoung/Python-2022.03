{
  "nbformat": 4,
  "nbformat_minor": 0,
  "metadata": {
    "colab": {
      "name": "u18_반복문 제어.ipynb",
      "provenance": []
    },
    "kernelspec": {
      "name": "python3",
      "display_name": "Python 3"
    },
    "language_info": {
      "name": "python"
    }
  },
  "cells": [
    {
      "cell_type": "markdown",
      "source": [
        "# Unit 18. 반복문 제어\n",
        "### 18.1 break"
      ],
      "metadata": {
        "id": "nJsD4WTGhAs-"
      }
    },
    {
      "cell_type": "code",
      "execution_count": 3,
      "metadata": {
        "colab": {
          "base_uri": "https://localhost:8080/"
        },
        "id": "GkFqDIBNhADj",
        "outputId": "c7be6b49-baf4-41ce-ebc2-cb628fd3a418"
      },
      "outputs": [
        {
          "output_type": "stream",
          "name": "stdout",
          "text": [
            "((6, 4))  "
          ]
        }
      ],
      "source": [
        "# 주사위를 두번 굴려서 눈의 합이 8 이상이면 탈출\n",
        "import random\n",
        "\n",
        "while True:\n",
        "    dice1 = random.randint(1,6)\n",
        "    dice2 = random.randint(1,6)\n",
        "    print(f'({dice1, dice2})', end='  ')\n",
        "    if dice1 + dice2 >= 8:\n",
        "        break"
      ]
    },
    {
      "cell_type": "code",
      "source": [
        "# for - break\n",
        "# 1에서 몇가지 더하면 누적합이 300을 초과하는가?\n",
        "cum_sum = 0\n",
        "for i in range(100):\n",
        "    cum_sum += i\n",
        "    if cum_sum > 300:\n",
        "        print(i, cum_sum)\n",
        "        break"
      ],
      "metadata": {
        "colab": {
          "base_uri": "https://localhost:8080/"
        },
        "id": "U89UmsCmhS7o",
        "outputId": "f91137f2-59e0-4c47-c37e-068b9a4d5ab9"
      },
      "execution_count": 4,
      "outputs": [
        {
          "output_type": "stream",
          "name": "stdout",
          "text": [
            "25 325\n"
          ]
        }
      ]
    },
    {
      "cell_type": "code",
      "source": [
        "# 중첩 반복문에서는 루프 1개만 탈출한다\n",
        "for i in range(100):\n",
        "    for k in range(i+1):\n",
        "        break"
      ],
      "metadata": {
        "id": "waN19XGaisdS"
      },
      "execution_count": 5,
      "outputs": []
    },
    {
      "cell_type": "markdown",
      "source": [
        "### 18.2 continue"
      ],
      "metadata": {
        "id": "Z8rUeLlBjU4U"
      }
    },
    {
      "cell_type": "code",
      "source": [
        "# 홀수만 출력\n",
        "for i in range(10):\n",
        "    if i % 2 == 0:\n",
        "        continue\n",
        "    print(i, end=' ')"
      ],
      "metadata": {
        "colab": {
          "base_uri": "https://localhost:8080/"
        },
        "id": "p7aIYB5EjGYI",
        "outputId": "9c3bb178-cde0-4fcd-c8b8-bafb18e4dc3e"
      },
      "execution_count": 7,
      "outputs": [
        {
          "output_type": "stream",
          "name": "stdout",
          "text": [
            "1 3 5 7 9 "
          ]
        }
      ]
    },
    {
      "cell_type": "code",
      "source": [
        "i = 0\n",
        "while i < 10:\n",
        "    i += 1\n",
        "    if i % 2 == 0:\n",
        "        continue\n",
        "    print(i, end=' ')"
      ],
      "metadata": {
        "colab": {
          "base_uri": "https://localhost:8080/"
        },
        "id": "1yHYyS16kCOg",
        "outputId": "59fee4b6-d317-446f-b868-38f5e31ba6ae"
      },
      "execution_count": 8,
      "outputs": [
        {
          "output_type": "stream",
          "name": "stdout",
          "text": [
            "1 3 5 7 9 "
          ]
        }
      ]
    },
    {
      "cell_type": "code",
      "source": [
        ""
      ],
      "metadata": {
        "id": "33rXTNwYkg_Q"
      },
      "execution_count": null,
      "outputs": []
    }
  ]
}