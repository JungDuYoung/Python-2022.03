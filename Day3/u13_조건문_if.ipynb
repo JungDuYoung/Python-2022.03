{
  "nbformat": 4,
  "nbformat_minor": 0,
  "metadata": {
    "colab": {
      "name": "u13_조건문_if.ipynb",
      "provenance": []
    },
    "kernelspec": {
      "name": "python3",
      "display_name": "Python 3"
    },
    "language_info": {
      "name": "python"
    }
  },
  "cells": [
    {
      "cell_type": "markdown",
      "source": [
        "# Unit 13. if 조건문"
      ],
      "metadata": {
        "id": "zU1s6aQydgst"
      }
    },
    {
      "cell_type": "markdown",
      "source": [
        "### 13.1 if 조건문"
      ],
      "metadata": {
        "id": "3L-YxFRafroW"
      }
    },
    {
      "cell_type": "code",
      "execution_count": 1,
      "metadata": {
        "id": "5luQASuZdD1c"
      },
      "outputs": [],
      "source": [
        "import random"
      ]
    },
    {
      "cell_type": "code",
      "source": [
        "x = random.randint(9, 11)\n",
        "if x == 10:\n",
        "    print('10입니다.')"
      ],
      "metadata": {
        "colab": {
          "base_uri": "https://localhost:8080/"
        },
        "id": "yWgsz5bqf9Sb",
        "outputId": "96b1b2b5-bf1f-4263-810d-27466b9a0625"
      },
      "execution_count": 2,
      "outputs": [
        {
          "output_type": "stream",
          "name": "stdout",
          "text": [
            "10입니다.\n"
          ]
        }
      ]
    },
    {
      "cell_type": "code",
      "source": [
        "if x == 10:\n",
        "    pass        # Todo: x가 10일때 처리할 코드\n",
        "print(x)"
      ],
      "metadata": {
        "colab": {
          "base_uri": "https://localhost:8080/"
        },
        "id": "ycXpqfdJgID-",
        "outputId": "3bff336e-fa86-434f-cc1d-8c21743ef0d1"
      },
      "execution_count": 5,
      "outputs": [
        {
          "output_type": "stream",
          "name": "stdout",
          "text": [
            "10\n"
          ]
        }
      ]
    },
    {
      "cell_type": "code",
      "source": [
        "if x:\n",
        "    print(x)"
      ],
      "metadata": {
        "colab": {
          "base_uri": "https://localhost:8080/"
        },
        "id": "yNjFhmSxgjm0",
        "outputId": "d16b84cf-e4bf-40f5-ad33-5fc21667c378"
      },
      "execution_count": 6,
      "outputs": [
        {
          "output_type": "stream",
          "name": "stdout",
          "text": [
            "10\n"
          ]
        }
      ]
    },
    {
      "cell_type": "markdown",
      "source": [
        "### 13.2 if 조건문과 들여쓰기"
      ],
      "metadata": {
        "id": "vgI8BolLif2O"
      }
    },
    {
      "cell_type": "code",
      "source": [
        "if x == 10:\n",
        "    print(x, '입니다.')\n",
        "    print('들여쓰기한 이 부분은 조건이 참일 경우에 실행됩니다.')\n",
        "print('들여쓰기가 끝나면 조건에 관계없이 실행됩니다.')"
      ],
      "metadata": {
        "colab": {
          "base_uri": "https://localhost:8080/"
        },
        "id": "R4keunTxhdBc",
        "outputId": "261834bf-a67f-42df-d1d9-8383d8d0175d"
      },
      "execution_count": 11,
      "outputs": [
        {
          "output_type": "stream",
          "name": "stdout",
          "text": [
            "10 입니다.\n",
            "들여쓰기한 이 부분은 조건이 참일 경우에 실행됩니다.\n",
            "들여쓰기가 끝나면 조건에 관계없이 실행됩니다.\n"
          ]
        }
      ]
    },
    {
      "cell_type": "markdown",
      "source": [
        "### 13.3 중첩(Nested) 조건문"
      ],
      "metadata": {
        "id": "weUkEcp5hV9N"
      }
    },
    {
      "cell_type": "code",
      "source": [
        "x = random.randint(1,20)\n",
        "if x >= 10:\n",
        "    print('10이상입니다.')\n",
        "    if x >= 15:\n",
        "        print('15이상입니다.')\n",
        "print(x)"
      ],
      "metadata": {
        "colab": {
          "base_uri": "https://localhost:8080/"
        },
        "id": "rUQMaupJg864",
        "outputId": "01ffcf95-a0e1-4977-a433-fd25abbca192"
      },
      "execution_count": 12,
      "outputs": [
        {
          "output_type": "stream",
          "name": "stdout",
          "text": [
            "10이상입니다.\n",
            "15이상입니다.\n",
            "16\n"
          ]
        }
      ]
    },
    {
      "cell_type": "code",
      "source": [
        "# 10 이상 정수, 3의 배수를 찾기\n",
        "x = random.randint(1,20)\n",
        "if x >= 10:\n",
        "    print('10이상입니다.')\n",
        "    if x % 3 == 0:\n",
        "        print('3의 배수입니다.')\n",
        "print(x)"
      ],
      "metadata": {
        "colab": {
          "base_uri": "https://localhost:8080/"
        },
        "id": "y1R3FRocjTQv",
        "outputId": "80cf844d-9c14-4371-c00e-361604ec99ee"
      },
      "execution_count": 14,
      "outputs": [
        {
          "output_type": "stream",
          "name": "stdout",
          "text": [
            "10이상입니다.\n",
            "3의 배수입니다.\n",
            "18\n"
          ]
        }
      ]
    },
    {
      "cell_type": "code",
      "source": [
        ""
      ],
      "metadata": {
        "id": "eP7viKlrjwo1"
      },
      "execution_count": null,
      "outputs": []
    }
  ]
}