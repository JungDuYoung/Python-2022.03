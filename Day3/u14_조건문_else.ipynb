{
  "nbformat": 4,
  "nbformat_minor": 0,
  "metadata": {
    "colab": {
      "name": "u14_조건문_else.ipynb",
      "provenance": []
    },
    "kernelspec": {
      "name": "python3",
      "display_name": "Python 3"
    },
    "language_info": {
      "name": "python"
    }
  },
  "cells": [
    {
      "cell_type": "markdown",
      "source": [
        "# Unit 14. 조건문 if - else"
      ],
      "metadata": {
        "id": "0HWZMx0BkvbZ"
      }
    },
    {
      "cell_type": "markdown",
      "source": [
        "### 14.1 else"
      ],
      "metadata": {
        "id": "agokqPa3lRAO"
      }
    },
    {
      "cell_type": "code",
      "execution_count": null,
      "metadata": {
        "id": "aMr06qB3kqRI"
      },
      "outputs": [],
      "source": [
        "import random"
      ]
    },
    {
      "cell_type": "code",
      "source": [
        "x = random.randint(1, 6)\n",
        "if x >= 4:\n",
        "    print('큰 수')\n",
        "else:\n",
        "    print('작은 수')\n",
        "print(x)"
      ],
      "metadata": {
        "colab": {
          "base_uri": "https://localhost:8080/"
        },
        "id": "xm6xgrbMlUK5",
        "outputId": "932b9834-eb94-45bf-e7a3-b25bcd684dff"
      },
      "execution_count": null,
      "outputs": [
        {
          "output_type": "stream",
          "name": "stdout",
          "text": [
            "큰 수\n",
            "5\n"
          ]
        }
      ]
    },
    {
      "cell_type": "code",
      "source": [
        "x = random.randint(1, 6)\n",
        "if x % 2 == 0:\n",
        "    print('짝수')\n",
        "else:\n",
        "    print('홀수')\n",
        "print(x)"
      ],
      "metadata": {
        "colab": {
          "base_uri": "https://localhost:8080/"
        },
        "id": "dS-_GUBRluBz",
        "outputId": "c9bdbc11-89c4-4e92-f8ed-149259561c62"
      },
      "execution_count": null,
      "outputs": [
        {
          "output_type": "stream",
          "name": "stdout",
          "text": [
            "짝수\n",
            "6\n"
          ]
        }
      ]
    },
    {
      "cell_type": "code",
      "source": [
        "x = random.randint(1, 6)\n",
        "if x % 2 == 0:\n",
        "    result = 'even number'\n",
        "else:\n",
        "    result = 'odd number'\n",
        "print(x, result)"
      ],
      "metadata": {
        "colab": {
          "base_uri": "https://localhost:8080/"
        },
        "id": "--dMMnVWl-qS",
        "outputId": "698115bb-4b08-4c89-fdd8-cd2f847847a3"
      },
      "execution_count": null,
      "outputs": [
        {
          "output_type": "stream",
          "name": "stdout",
          "text": [
            "1 odd number\n"
          ]
        }
      ]
    },
    {
      "cell_type": "markdown",
      "source": [
        "- 조건부 표현식(3항 연산자)"
      ],
      "metadata": {
        "id": "oX8iZn5VmfwP"
      }
    },
    {
      "cell_type": "code",
      "source": [
        "# Java, JS에서는 result = x % 2 == 0 ? \"even\" : \"odd\" ;\n",
        "result = 'even' if x % 2 == 0 else 'odd' # 이 문장 코드는 외워두자!!\n",
        "print(x, result)"
      ],
      "metadata": {
        "colab": {
          "base_uri": "https://localhost:8080/"
        },
        "id": "3sHviVGvmURh",
        "outputId": "b5eb05bb-3afa-4e0f-a6ab-b1a29e2f00fa"
      },
      "execution_count": null,
      "outputs": [
        {
          "output_type": "stream",
          "name": "stdout",
          "text": [
            "1 odd\n"
          ]
        }
      ]
    },
    {
      "cell_type": "markdown",
      "source": [
        "### 14.2 esle와 들여쓰기"
      ],
      "metadata": {
        "id": "bVJ_SBTPuOyv"
      }
    },
    {
      "cell_type": "code",
      "source": [
        "x = 10\n",
        "if x == 10:\n",
        "    print('10입니다.')\n",
        "else:\n",
        "    print('x에 들어있는 숫자는')\n",
        "print('10이 아닙니다.')"
      ],
      "metadata": {
        "colab": {
          "base_uri": "https://localhost:8080/"
        },
        "id": "19qGa3Bsm0WD",
        "outputId": "8f86fc82-0f57-45b1-e4a8-c91f575d1d4b"
      },
      "execution_count": null,
      "outputs": [
        {
          "output_type": "stream",
          "name": "stdout",
          "text": [
            "10입니다.\n",
            "10이 아닙니다.\n"
          ]
        }
      ]
    },
    {
      "cell_type": "code",
      "source": [
        "if x == 10:\n",
        "    print('10입니다.')\n",
        "else:\n",
        "    print('x에 들어있는 숫자는')\n",
        "    print('10이 아닙니다.')"
      ],
      "metadata": {
        "colab": {
          "base_uri": "https://localhost:8080/"
        },
        "id": "h6M9HC1IucER",
        "outputId": "2af96b5e-4c8a-4cfc-95d7-dbb57d5d8442"
      },
      "execution_count": null,
      "outputs": [
        {
          "output_type": "stream",
          "name": "stdout",
          "text": [
            "10입니다.\n"
          ]
        }
      ]
    },
    {
      "cell_type": "markdown",
      "source": [
        "### 14.3 동작 방식"
      ],
      "metadata": {
        "id": "rr5AD636vFFR"
      }
    },
    {
      "cell_type": "code",
      "source": [
        "x = ''\n",
        "if x:\n",
        "    print(x)\n",
        "else:\n",
        "    print('0, 0.0, \"\", Flase, None입니다.')"
      ],
      "metadata": {
        "colab": {
          "base_uri": "https://localhost:8080/"
        },
        "id": "tJcMiPynvHKg",
        "outputId": "8873eca4-e484-440c-a863-e3ade0c3512d"
      },
      "execution_count": null,
      "outputs": [
        {
          "output_type": "stream",
          "name": "stdout",
          "text": [
            "0, 0.0, \"\", Flase, None입니다.\n"
          ]
        }
      ]
    },
    {
      "cell_type": "markdown",
      "source": [
        "### 14.4 여러개의 조건식"
      ],
      "metadata": {
        "id": "i6s_AuNUwCSo"
      }
    },
    {
      "cell_type": "code",
      "source": [
        "# 3과 5의 공배수면 FizzBuzz를 출력\n",
        "# 위의 경우가 아니면 숫자값을 출력\n",
        "\n",
        "x = random.randint(1,100)\n",
        "if x % 3 == 0 and x % 5 == 0:\n",
        "    print('FizzBuzz')\n",
        "else:\n",
        "    print(x)"
      ],
      "metadata": {
        "colab": {
          "base_uri": "https://localhost:8080/"
        },
        "id": "kPnqnpE5vQGD",
        "outputId": "493e4edf-b423-42d6-ce1f-42488b94f224"
      },
      "execution_count": null,
      "outputs": [
        {
          "output_type": "stream",
          "name": "stdout",
          "text": [
            "FizzBuzz\n"
          ]
        }
      ]
    },
    {
      "cell_type": "code",
      "source": [
        "x = 30\n",
        "if x % 3 == 0 and x % 5 == 0:\n",
        "    print('FizzBuzz')\n",
        "else:\n",
        "    print(x)"
      ],
      "metadata": {
        "colab": {
          "base_uri": "https://localhost:8080/"
        },
        "id": "FtKLpM4YxVH_",
        "outputId": "7bb24939-3f55-4644-d932-02cf4fbf5650"
      },
      "execution_count": null,
      "outputs": [
        {
          "output_type": "stream",
          "name": "stdout",
          "text": [
            "FizzBuzz\n"
          ]
        }
      ]
    },
    {
      "cell_type": "code",
      "source": [
        "x = 14\n",
        "if x >= 10 and x <= 20:\n",
        "    print('10이상이고 20사이')\n",
        "else:\n",
        "    print(x)"
      ],
      "metadata": {
        "colab": {
          "base_uri": "https://localhost:8080/"
        },
        "id": "ikzGuUjdxc7U",
        "outputId": "f33e1ca2-4667-4aa1-b1fd-b7860eb123af"
      },
      "execution_count": null,
      "outputs": [
        {
          "output_type": "stream",
          "name": "stdout",
          "text": [
            "10이상이고 20사이\n"
          ]
        }
      ]
    },
    {
      "cell_type": "code",
      "source": [
        "if 10<= x <=20:\n",
        "    print('10이상이고 20사이')\n",
        "else:\n",
        "    print(x)"
      ],
      "metadata": {
        "colab": {
          "base_uri": "https://localhost:8080/"
        },
        "id": "mB3KwfxUxpaX",
        "outputId": "1a66fce8-027e-4c36-e42e-dc0b583be431"
      },
      "execution_count": null,
      "outputs": [
        {
          "output_type": "stream",
          "name": "stdout",
          "text": [
            "10이상이고 20사이\n"
          ]
        }
      ]
    },
    {
      "cell_type": "markdown",
      "source": [
        "### 연습문제\n",
        "<pre>\n",
        "4로 나누어지면 윤년\n",
        "100으로 나누어지면 평년\n",
        "400으로 나누어지면 윤년\n",
        "그외 평년\n",
        "</pre>\n",
        "\n"
      ],
      "metadata": {
        "id": "d7fx72gkyFLA"
      }
    },
    {
      "cell_type": "code",
      "source": [
        "x = 1900\n",
        "if x % 4 == 0:\n",
        "    print(x, '윤년')\n",
        "if x % 400 == 0:\n",
        "    print(x,'윤년')\n",
        "if x % 100 == 0:\n",
        "    print(x,'평년')\n",
        "else:\n",
        "    print(x,'평년')"
      ],
      "metadata": {
        "colab": {
          "base_uri": "https://localhost:8080/"
        },
        "id": "1ewFUvSdx8pS",
        "outputId": "63abada9-c8cd-4f42-8f38-719126acb453"
      },
      "execution_count": null,
      "outputs": [
        {
          "output_type": "stream",
          "name": "stdout",
          "text": [
            "1900 윤년\n",
            "1900 평년\n"
          ]
        }
      ]
    },
    {
      "cell_type": "code",
      "source": [
        "x = 2004\n",
        "if x % 4 ==0:\n",
        "    if x % 100 == 0:\n",
        "        if x % 400 == 0:\n",
        "            print(x, '윤년')\n",
        "        else:\n",
        "            print(x, '평년')\n",
        "    else:\n",
        "        print(x, '윤년')\n",
        "else:\n",
        "    print(x, '평년')"
      ],
      "metadata": {
        "colab": {
          "base_uri": "https://localhost:8080/"
        },
        "id": "NJtVbKv3zY4J",
        "outputId": "b7e61fd8-7709-4613-9488-1228e7cb5276"
      },
      "execution_count": null,
      "outputs": [
        {
          "output_type": "stream",
          "name": "stdout",
          "text": [
            "2004 윤년\n"
          ]
        }
      ]
    },
    {
      "cell_type": "code",
      "source": [
        "# Code Refactoring\n",
        "x = 1901\n",
        "if x % 4 ==0:\n",
        "    if x % 100 == 0 and x % 400 !=0:\n",
        "            print(x, '평년')\n",
        "    else:\n",
        "        print(x, '윤년')\n",
        "else:\n",
        "    print(x, '평년')"
      ],
      "metadata": {
        "colab": {
          "base_uri": "https://localhost:8080/"
        },
        "id": "w_JOqbeu1srC",
        "outputId": "f6a6af72-bcbe-4d50-ef3f-4f06a0eb74f9"
      },
      "execution_count": null,
      "outputs": [
        {
          "output_type": "stream",
          "name": "stdout",
          "text": [
            "1901 평년\n"
          ]
        }
      ]
    },
    {
      "cell_type": "code",
      "source": [
        "x = 1900\n",
        "if x % 4 == 0 and not (x % 100 == 0 and x % 400 !=0):\n",
        "    print(x, '윤년')\n",
        "else:\n",
        "    print(x, '평년')"
      ],
      "metadata": {
        "colab": {
          "base_uri": "https://localhost:8080/"
        },
        "id": "JArviZNB4e4e",
        "outputId": "5d87f5c3-05d7-4ef9-fd6f-7c0650f29681"
      },
      "execution_count": null,
      "outputs": [
        {
          "output_type": "stream",
          "name": "stdout",
          "text": [
            "1900 평년\n"
          ]
        }
      ]
    },
    {
      "cell_type": "code",
      "source": [
        "# not (A and B) ==> not A or not B\n",
        "x = 2004\n",
        "if x % 4 == 0 and (x % 100 != 0 or x % 400 ==0):\n",
        "    print(x, '윤년')\n",
        "else:\n",
        "    print(x, '평년')"
      ],
      "metadata": {
        "colab": {
          "base_uri": "https://localhost:8080/"
        },
        "id": "wcOxVytK5Sdj",
        "outputId": "a09dea77-ddb7-481e-e5a6-302b430ab12a"
      },
      "execution_count": null,
      "outputs": [
        {
          "output_type": "stream",
          "name": "stdout",
          "text": [
            "2004 윤년\n"
          ]
        }
      ]
    },
    {
      "cell_type": "code",
      "source": [
        ""
      ],
      "metadata": {
        "id": "p7LW5gJa5olD"
      },
      "execution_count": null,
      "outputs": []
    }
  ]
}