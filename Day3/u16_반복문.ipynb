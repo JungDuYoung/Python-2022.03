{
  "nbformat": 4,
  "nbformat_minor": 0,
  "metadata": {
    "colab": {
      "name": "u16_반복문.ipynb",
      "provenance": []
    },
    "kernelspec": {
      "name": "python3",
      "display_name": "Python 3"
    },
    "language_info": {
      "name": "python"
    }
  },
  "cells": [
    {
      "cell_type": "markdown",
      "source": [
        "# Unit 16. 반복문"
      ],
      "metadata": {
        "id": "6AtZfnfPHOAo"
      }
    },
    {
      "cell_type": "markdown",
      "source": [
        "### 16.1 for, range"
      ],
      "metadata": {
        "id": "86k5zOWHHlIo"
      }
    },
    {
      "cell_type": "code",
      "execution_count": 1,
      "metadata": {
        "colab": {
          "base_uri": "https://localhost:8080/"
        },
        "id": "_Mr6tV2vHIV1",
        "outputId": "55664c79-6b05-448f-d819-7501cbab4924"
      },
      "outputs": [
        {
          "output_type": "stream",
          "name": "stdout",
          "text": [
            "Hello World!\n",
            "Hello World!\n",
            "Hello World!\n"
          ]
        }
      ],
      "source": [
        "for i in range(3):\n",
        "    print('Hello World!')"
      ]
    },
    {
      "cell_type": "code",
      "source": [
        "for i in range(3):\n",
        "    print('안녕하세요.', i)"
      ],
      "metadata": {
        "colab": {
          "base_uri": "https://localhost:8080/"
        },
        "id": "VMFdKAdNH4Sc",
        "outputId": "3aa44928-012e-4a83-c766-531dece532a7"
      },
      "execution_count": 2,
      "outputs": [
        {
          "output_type": "stream",
          "name": "stdout",
          "text": [
            "안녕하세요. 0\n",
            "안녕하세요. 1\n",
            "안녕하세요. 2\n"
          ]
        }
      ]
    },
    {
      "cell_type": "markdown",
      "source": [
        "### 16.2 for, range 응용"
      ],
      "metadata": {
        "id": "kiiZ7yXyLvd1"
      }
    },
    {
      "cell_type": "code",
      "source": [
        "for i in range(5, 12):\n",
        "    print(i, end=' ')"
      ],
      "metadata": {
        "colab": {
          "base_uri": "https://localhost:8080/"
        },
        "id": "_GtqAHngIMbZ",
        "outputId": "1b7319ed-9962-45cb-8869-b7d966a6231e"
      },
      "execution_count": 3,
      "outputs": [
        {
          "output_type": "stream",
          "name": "stdout",
          "text": [
            "5 6 7 8 9 10 11 "
          ]
        }
      ]
    },
    {
      "cell_type": "code",
      "source": [
        "for i in range(10, 0, -1):\n",
        "    print(i, end=' ')"
      ],
      "metadata": {
        "colab": {
          "base_uri": "https://localhost:8080/"
        },
        "id": "Ke2HZcWsKcFP",
        "outputId": "b20833e2-eba9-4601-8994-b7b5d4bda9d7"
      },
      "execution_count": 4,
      "outputs": [
        {
          "output_type": "stream",
          "name": "stdout",
          "text": [
            "10 9 8 7 6 5 4 3 2 1 "
          ]
        }
      ]
    },
    {
      "cell_type": "code",
      "source": [
        "# Loop안에서 index 값이 필요하지 않으면 i 대신 _ 를 쓸 수 있다.\n",
        "for _ in range(3):\n",
        "    print('Hello')"
      ],
      "metadata": {
        "colab": {
          "base_uri": "https://localhost:8080/"
        },
        "id": "ZvCeYTefKjca",
        "outputId": "b307812f-3087-496e-badc-302f9b8a0805"
      },
      "execution_count": 5,
      "outputs": [
        {
          "output_type": "stream",
          "name": "stdout",
          "text": [
            "Hello\n",
            "Hello\n",
            "Hello\n"
          ]
        }
      ]
    },
    {
      "cell_type": "code",
      "source": [
        "# for-loop에서는 loop 안에서 index 값을 변경시키지 말 것\n",
        "for i in range(10):\n",
        "    print(i, end=' ')\n",
        "    i +=5               # 금기 사항"
      ],
      "metadata": {
        "colab": {
          "base_uri": "https://localhost:8080/"
        },
        "id": "GHOBZ9M1L6-s",
        "outputId": "3162f243-4813-4a04-f278-33df952bc6d5"
      },
      "execution_count": 8,
      "outputs": [
        {
          "output_type": "stream",
          "name": "stdout",
          "text": [
            "0 1 2 3 4 5 6 7 8 9 "
          ]
        }
      ]
    },
    {
      "cell_type": "code",
      "source": [
        "count = int(input())\n",
        "for i in range(count):      # count가 0이면 반복하지 않느다\n",
        "    print(i, end=' ')"
      ],
      "metadata": {
        "colab": {
          "base_uri": "https://localhost:8080/"
        },
        "id": "F1Sger48MJ32",
        "outputId": "2579ed9e-dcab-4785-b247-d82005483423"
      },
      "execution_count": 11,
      "outputs": [
        {
          "name": "stdout",
          "output_type": "stream",
          "text": [
            "0\n"
          ]
        }
      ]
    },
    {
      "cell_type": "markdown",
      "source": [
        "### 16.3 시퀀스 객체로 반복하기(굉장히 중요한 내용)"
      ],
      "metadata": {
        "id": "dJVBQFoINVFN"
      }
    },
    {
      "cell_type": "code",
      "source": [
        "a = [10,20,30,40,50]\n",
        "for element in a:\n",
        "    print(element, end=' ')"
      ],
      "metadata": {
        "colab": {
          "base_uri": "https://localhost:8080/"
        },
        "id": "X6gY9uNYM-Zn",
        "outputId": "7a86eaca-e622-4ed6-d631-10c3cef8a066"
      },
      "execution_count": 15,
      "outputs": [
        {
          "output_type": "stream",
          "name": "stdout",
          "text": [
            "10 20 30 40 50 "
          ]
        }
      ]
    },
    {
      "cell_type": "code",
      "source": [
        "fruits = ('사과', '배', '감', '귤')\n",
        "for i in fruits:\n",
        "    print(i)"
      ],
      "metadata": {
        "colab": {
          "base_uri": "https://localhost:8080/"
        },
        "id": "9828mA0sNkdo",
        "outputId": "de29e568-09cc-4773-b3bd-2cbbdb96252d"
      },
      "execution_count": 13,
      "outputs": [
        {
          "output_type": "stream",
          "name": "stdout",
          "text": [
            "사과\n",
            "배\n",
            "감\n",
            "귤\n"
          ]
        }
      ]
    },
    {
      "cell_type": "code",
      "source": [
        "fruits = ('사과', '배', '감', '귤')\n",
        "for fruit in fruits:\n",
        "    print(i)"
      ],
      "metadata": {
        "colab": {
          "base_uri": "https://localhost:8080/"
        },
        "id": "5AnLzt7kN3ir",
        "outputId": "6d7a3861-b902-43be-ee46-9061c33c6bea"
      },
      "execution_count": 14,
      "outputs": [
        {
          "output_type": "stream",
          "name": "stdout",
          "text": [
            "귤\n",
            "귤\n",
            "귤\n",
            "귤\n"
          ]
        }
      ]
    },
    {
      "cell_type": "code",
      "source": [
        "for letter in 'Python':\n",
        "    print(letter, end=' ')"
      ],
      "metadata": {
        "colab": {
          "base_uri": "https://localhost:8080/"
        },
        "id": "fusyPzmCN-F9",
        "outputId": "5020d285-4af9-40a3-d9ac-30ac91ffdf09"
      },
      "execution_count": 18,
      "outputs": [
        {
          "output_type": "stream",
          "name": "stdout",
          "text": [
            "P y t h o n "
          ]
        }
      ]
    },
    {
      "cell_type": "code",
      "source": [
        "for letter in reversed('Python'):\n",
        "    print(letter, end=' ')"
      ],
      "metadata": {
        "colab": {
          "base_uri": "https://localhost:8080/"
        },
        "id": "g9m27qvlOMk5",
        "outputId": "9eefdc6a-bfc9-407d-c9a6-72494fc480b6"
      },
      "execution_count": 19,
      "outputs": [
        {
          "output_type": "stream",
          "name": "stdout",
          "text": [
            "n o h t y P "
          ]
        }
      ]
    },
    {
      "cell_type": "code",
      "source": [
        "for letter in 'Python'[::-1]:       # 이 방법을 기억을 꼭 해두기\n",
        "    print(letter, end=' ')"
      ],
      "metadata": {
        "colab": {
          "base_uri": "https://localhost:8080/"
        },
        "id": "5hlZjSdmOd8F",
        "outputId": "0e6eb6b5-55ac-480d-9ef4-1118a1e46fed"
      },
      "execution_count": 20,
      "outputs": [
        {
          "output_type": "stream",
          "name": "stdout",
          "text": [
            "n o h t y P "
          ]
        }
      ]
    },
    {
      "cell_type": "markdown",
      "source": [
        "- 반복문 응용"
      ],
      "metadata": {
        "id": "PCTCh5oJOuF0"
      }
    },
    {
      "cell_type": "code",
      "source": [
        "# 1에서 100까지 합\n",
        "sum100 = 0\n",
        "for i in range(1,101):\n",
        "    sum100 += i\n",
        "print(sum100)"
      ],
      "metadata": {
        "colab": {
          "base_uri": "https://localhost:8080/"
        },
        "id": "wMbKP3_COmnB",
        "outputId": "3185377d-c55f-41e5-fcb6-6b8468811258"
      },
      "execution_count": 22,
      "outputs": [
        {
          "output_type": "stream",
          "name": "stdout",
          "text": [
            "5050\n"
          ]
        }
      ]
    },
    {
      "cell_type": "code",
      "source": [
        "# 1에서 10까지 sqrt 값을 갖는 리스트를 만드세요. (굉장히 많이 사용)\n",
        "sqrt = []\n",
        "for i in range(1, 11):\n",
        "    sqrt.append(i **0.5)\n",
        "print(sqrt)"
      ],
      "metadata": {
        "colab": {
          "base_uri": "https://localhost:8080/"
        },
        "id": "IIL-zQmNO8dX",
        "outputId": "81dc7620-b901-4a9f-ce1f-48964338785d"
      },
      "execution_count": 23,
      "outputs": [
        {
          "output_type": "stream",
          "name": "stdout",
          "text": [
            "[1.0, 1.4142135623730951, 1.7320508075688772, 2.0, 2.23606797749979, 2.449489742783178, 2.6457513110645907, 2.8284271247461903, 3.0, 3.1622776601683795]\n"
          ]
        }
      ]
    },
    {
      "cell_type": "code",
      "source": [
        "import math\n",
        "sqrt_list = []\n",
        "for i in range(1, 11):\n",
        "    sqrt_list.append(round(math.sqrt(i),4))\n",
        "print(sqrt_list)"
      ],
      "metadata": {
        "colab": {
          "base_uri": "https://localhost:8080/"
        },
        "id": "9VzwPrUKPl5Z",
        "outputId": "0b3089c7-e940-410a-cb74-136c616a6c27"
      },
      "execution_count": 28,
      "outputs": [
        {
          "output_type": "stream",
          "name": "stdout",
          "text": [
            "[1.0, 1.4142, 1.7321, 2.0, 2.2361, 2.4495, 2.6458, 2.8284, 3.0, 3.1623]\n"
          ]
        }
      ]
    },
    {
      "cell_type": "code",
      "source": [
        ""
      ],
      "metadata": {
        "id": "4aRLK-s0PxgT"
      },
      "execution_count": null,
      "outputs": []
    }
  ]
}