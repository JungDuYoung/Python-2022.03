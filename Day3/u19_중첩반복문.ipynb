{
  "nbformat": 4,
  "nbformat_minor": 0,
  "metadata": {
    "colab": {
      "name": "u19_중첩반복문.ipynb",
      "provenance": []
    },
    "kernelspec": {
      "name": "python3",
      "display_name": "Python 3"
    },
    "language_info": {
      "name": "python"
    }
  },
  "cells": [
    {
      "cell_type": "markdown",
      "source": [
        "# Unit 19. 중첩(Nested)반복문"
      ],
      "metadata": {
        "id": "QCgBB4UJk8Jk"
      }
    },
    {
      "cell_type": "markdown",
      "source": [
        "### 19.1 중첩 Loop"
      ],
      "metadata": {
        "id": "X88XXbsclHSi"
      }
    },
    {
      "cell_type": "code",
      "execution_count": 1,
      "metadata": {
        "colab": {
          "base_uri": "https://localhost:8080/"
        },
        "id": "sTpkAOe-k37P",
        "outputId": "c73a7626-2c87-4bc6-eabf-8852edaad4fc"
      },
      "outputs": [
        {
          "output_type": "stream",
          "name": "stdout",
          "text": [
            "*\n",
            "**\n",
            "***\n",
            "****\n",
            "*****\n"
          ]
        }
      ],
      "source": [
        "for i in range(1, 6):\n",
        "    for k in range(i):\n",
        "        print('*', end='')\n",
        "    print()"
      ]
    },
    {
      "cell_type": "code",
      "source": [
        "for i in range(1, 6):\n",
        "    print('*' * i)"
      ],
      "metadata": {
        "colab": {
          "base_uri": "https://localhost:8080/"
        },
        "id": "-tp1hss0mRss",
        "outputId": "10e66190-71d9-4756-8773-a28be1161713"
      },
      "execution_count": 3,
      "outputs": [
        {
          "output_type": "stream",
          "name": "stdout",
          "text": [
            "*\n",
            "**\n",
            "***\n",
            "****\n",
            "*****\n"
          ]
        }
      ]
    },
    {
      "cell_type": "code",
      "source": [
        "'*' * 3"
      ],
      "metadata": {
        "colab": {
          "base_uri": "https://localhost:8080/",
          "height": 35
        },
        "id": "McDMQLARmbko",
        "outputId": "5fbc89e2-b275-41fa-df6f-a8eb1f4842cc"
      },
      "execution_count": 4,
      "outputs": [
        {
          "output_type": "execute_result",
          "data": {
            "text/plain": [
              "'***'"
            ],
            "application/vnd.google.colaboratory.intrinsic+json": {
              "type": "string"
            }
          },
          "metadata": {},
          "execution_count": 4
        }
      ]
    },
    {
      "cell_type": "markdown",
      "source": [
        "### 19.2 사각형으로 별 출력"
      ],
      "metadata": {
        "id": "-pAddHwNnsrD"
      }
    },
    {
      "cell_type": "code",
      "source": [
        "width, height = 5, 3\n",
        "for i in range(height):\n",
        "    for k in range(width):\n",
        "        print('*', end='')\n",
        "    print()"
      ],
      "metadata": {
        "colab": {
          "base_uri": "https://localhost:8080/"
        },
        "id": "MbX2iPiwmkyX",
        "outputId": "72d92067-c1e7-48e5-e50c-9bc53b143a00"
      },
      "execution_count": 5,
      "outputs": [
        {
          "output_type": "stream",
          "name": "stdout",
          "text": [
            "*****\n",
            "*****\n",
            "*****\n"
          ]
        }
      ]
    },
    {
      "cell_type": "markdown",
      "source": [
        "### 19.3 계단식 별 모양"
      ],
      "metadata": {
        "id": "KtC2_EoVqs34"
      }
    },
    {
      "cell_type": "code",
      "source": [
        "for i in range(5):\n",
        "    for k in range(4-i):\n",
        "        print(' ', end='')\n",
        "    for k in range(i+1):\n",
        "        print('*', end='')\n",
        "    print()"
      ],
      "metadata": {
        "colab": {
          "base_uri": "https://localhost:8080/"
        },
        "id": "BhPS_REooDpF",
        "outputId": "181c1f3f-06c6-4980-9124-ef28636f165a"
      },
      "execution_count": 13,
      "outputs": [
        {
          "output_type": "stream",
          "name": "stdout",
          "text": [
            "    *\n",
            "   **\n",
            "  ***\n",
            " ****\n",
            "*****\n"
          ]
        }
      ]
    },
    {
      "cell_type": "code",
      "source": [
        "# Diamond 그리기\n",
        "for i in range(4):\n",
        "    for k in range(3-i):\n",
        "        print('  ', end='')\n",
        "    for k in range(2*i+1):\n",
        "        print('*', end='')\n",
        "    print()\n",
        "for i in range(-2, -1, -1):\n",
        "    for k in range(3-i):\n",
        "        print('  ', end='')\n",
        "    for k in range(2*i+1):\n",
        "        print('*', end='')\n",
        "    print()"
      ],
      "metadata": {
        "colab": {
          "base_uri": "https://localhost:8080/"
        },
        "id": "gqNDaljhtr5G",
        "outputId": "d4ffe6af-faec-4d62-8408-89d6878bb387"
      },
      "execution_count": 20,
      "outputs": [
        {
          "output_type": "stream",
          "name": "stdout",
          "text": [
            "      *\n",
            "    ***\n",
            "  *****\n",
            "*******\n"
          ]
        }
      ]
    },
    {
      "cell_type": "code",
      "source": [
        "# 가운데 행의 별의 갯수를 입력으로 받아 다이아몬드 그리기\n",
        "N = int(input())\n",
        "n = N // 2 + 1\n",
        "for i in range(n):\n",
        "    for k in range(n-1-i):\n",
        "        print('  ', end='')\n",
        "    for k in range(2*i+1):\n",
        "        print('*', end='')\n",
        "    print()\n",
        "for i in range(n-2, -1, -1):\n",
        "    for k in range(n-1-i):\n",
        "        print('  ', end='')\n",
        "    for k in range(2*i+1):\n",
        "        print('*', end='')\n",
        "    print()"
      ],
      "metadata": {
        "colab": {
          "base_uri": "https://localhost:8080/"
        },
        "id": "xNsgTkr9vOtJ",
        "outputId": "22a2906e-95a7-4582-e185-51bed47c118b"
      },
      "execution_count": 21,
      "outputs": [
        {
          "output_type": "stream",
          "name": "stdout",
          "text": [
            "11\n",
            "          *\n",
            "        ***\n",
            "      *****\n",
            "    *******\n",
            "  *********\n",
            "***********\n",
            "  *********\n",
            "    *******\n",
            "      *****\n",
            "        ***\n",
            "          *\n"
          ]
        }
      ]
    },
    {
      "cell_type": "code",
      "source": [
        ""
      ],
      "metadata": {
        "id": "f7ks2-EAvnt8"
      },
      "execution_count": null,
      "outputs": []
    }
  ]
}